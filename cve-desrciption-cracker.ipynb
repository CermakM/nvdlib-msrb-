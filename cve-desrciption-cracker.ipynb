{
 "cells": [
  {
   "cell_type": "code",
   "execution_count": 1,
   "metadata": {},
   "outputs": [],
   "source": [
    "import os\n",
    "import sys\n",
    "\n",
    "import numpy as np\n",
    "import pandas as pd\n",
    "import matplotlib.pyplot as plt\n",
    "\n",
    "import json\n",
    "\n",
    "from nvdlib.nvd import NVD"
   ]
  },
  {
   "cell_type": "code",
   "execution_count": 2,
   "metadata": {},
   "outputs": [],
   "source": [
    "import nltk"
   ]
  },
  {
   "cell_type": "code",
   "execution_count": 3,
   "metadata": {},
   "outputs": [],
   "source": [
    "import ast\n",
    "df = pd.read_csv('dataframe-nvd-2017.csv', converters={'version_range': ast.literal_eval})"
   ]
  },
  {
   "cell_type": "code",
   "execution_count": 4,
   "metadata": {},
   "outputs": [
    {
     "data": {
      "text/html": [
       "<script>requirejs.config({paths: { 'plotly': ['https://cdn.plot.ly/plotly-latest.min']},});if(!window.Plotly) {{require(['plotly'],function(plotly) {window.Plotly=plotly;});}}</script>"
      ],
      "text/vnd.plotly.v1+html": [
       "<script>requirejs.config({paths: { 'plotly': ['https://cdn.plot.ly/plotly-latest.min']},});if(!window.Plotly) {{require(['plotly'],function(plotly) {window.Plotly=plotly;});}}</script>"
      ]
     },
     "metadata": {},
     "output_type": "display_data"
    }
   ],
   "source": [
    "import plotly\n",
    "\n",
    "from plotly import graph_objs as go\n",
    "from plotly.offline import iplot, init_notebook_mode\n",
    "\n",
    "init_notebook_mode(connected=True)"
   ]
  },
  {
   "cell_type": "code",
   "execution_count": 5,
   "metadata": {},
   "outputs": [],
   "source": [
    "%matplotlib inline"
   ]
  },
  {
   "cell_type": "markdown",
   "metadata": {},
   "source": [
    "## Prepare the DataFrame"
   ]
  },
  {
   "cell_type": "code",
   "execution_count": 6,
   "metadata": {},
   "outputs": [],
   "source": [
    "nvd = NVD.from_feeds(['2017'])"
   ]
  },
  {
   "cell_type": "code",
   "execution_count": 7,
   "metadata": {},
   "outputs": [],
   "source": [
    "nvd.update()"
   ]
  },
  {
   "cell_type": "code",
   "execution_count": 8,
   "metadata": {},
   "outputs": [],
   "source": [
    "GH_BASE_URL = u\"http[s]://github.com\""
   ]
  },
  {
   "cell_type": "code",
   "execution_count": 9,
   "metadata": {
    "scrolled": true
   },
   "outputs": [],
   "source": [
    "ecos = ['Java', 'JavaScript', 'Python']\n",
    "df_ecos = df[ecos]\n",
    "df_ecos = df[['username', 'project', 'version_range', 'url', *ecos]][df_ecos.any(1)]"
   ]
  },
  {
   "cell_type": "code",
   "execution_count": 10,
   "metadata": {},
   "outputs": [],
   "source": [
    "import re\n",
    "def get_reference(cve, url=None, pattern=None) -> str:\n",
    "    for ref in cve.references:\n",
    "        if url and url == ref:\n",
    "            return ref\n",
    "\n",
    "        if re.search(pattern, ref):\n",
    "            return ref\n",
    "\n",
    "    return None"
   ]
  },
  {
   "cell_type": "code",
   "execution_count": 11,
   "metadata": {},
   "outputs": [],
   "source": [
    "def strip_src_url(url: str):\n",
    "    \"\"\"ATM assume that the only reference to source is github.\"\"\"\n",
    "    url_base_pattern = u\"http[s]://github.com/([\\w-]+)/([\\w-]+[.]*[\\w-]+)\"\n",
    "    strip_url = re.search(url_base_pattern, url)\n",
    "    \n",
    "    if not strip_url:\n",
    "        print(url)\n",
    "        return None\n",
    "    \n",
    "    return strip_url[0]"
   ]
  },
  {
   "cell_type": "code",
   "execution_count": 12,
   "metadata": {},
   "outputs": [],
   "source": [
    "# Get descriptions and append them to the current DataFrame to avoid recreating a new one from scratch\n",
    "cves = dict()\n",
    "cve_list = list()\n",
    "\n",
    "for cve in nvd.cves():\n",
    "    ref = get_reference(cve, pattern=\"http[s]://github.com\")\n",
    "    if ref is None:\n",
    "        continue\n",
    "        \n",
    "    ref = strip_src_url(ref)\n",
    "    cve_list.append((cve.cve_id, ref, cve.description))\n",
    "    cves[cve.cve_id] = cve"
   ]
  },
  {
   "cell_type": "code",
   "execution_count": 13,
   "metadata": {
    "scrolled": true
   },
   "outputs": [],
   "source": [
    "df_desc = pd.DataFrame(cve_list, columns=['cve_id', 'url', 'description'])"
   ]
  },
  {
   "cell_type": "code",
   "execution_count": 14,
   "metadata": {},
   "outputs": [],
   "source": [
    "df = pd.merge(df_ecos, df_desc, how='inner', on='url').set_index(['username', 'project'])"
   ]
  },
  {
   "cell_type": "code",
   "execution_count": 15,
   "metadata": {},
   "outputs": [],
   "source": [
    "df.columns.tolist()\n",
    "df = df[[\n",
    "    'cve_id',\n",
    "    'url',\n",
    "    'description',\n",
    "    'version_range',\n",
    "    'Java',\n",
    "    'JavaScript',\n",
    "    'Python',\n",
    "]]"
   ]
  },
  {
   "cell_type": "code",
   "execution_count": 16,
   "metadata": {},
   "outputs": [
    {
     "data": {
      "text/html": [
       "<div>\n",
       "<style>\n",
       "    .dataframe thead tr:only-child th {\n",
       "        text-align: right;\n",
       "    }\n",
       "\n",
       "    .dataframe thead th {\n",
       "        text-align: left;\n",
       "    }\n",
       "\n",
       "    .dataframe tbody tr th {\n",
       "        vertical-align: top;\n",
       "    }\n",
       "</style>\n",
       "<table border=\"1\" class=\"dataframe\">\n",
       "  <thead>\n",
       "    <tr style=\"text-align: right;\">\n",
       "      <th></th>\n",
       "      <th></th>\n",
       "      <th>cve_id</th>\n",
       "      <th>url</th>\n",
       "      <th>description</th>\n",
       "      <th>version_range</th>\n",
       "      <th>Java</th>\n",
       "      <th>JavaScript</th>\n",
       "      <th>Python</th>\n",
       "    </tr>\n",
       "    <tr>\n",
       "      <th>username</th>\n",
       "      <th>project</th>\n",
       "      <th></th>\n",
       "      <th></th>\n",
       "      <th></th>\n",
       "      <th></th>\n",
       "      <th></th>\n",
       "      <th></th>\n",
       "      <th></th>\n",
       "    </tr>\n",
       "  </thead>\n",
       "  <tbody>\n",
       "    <tr>\n",
       "      <th rowspan=\"5\" valign=\"top\">Microsoft</th>\n",
       "      <th>ChakraCore</th>\n",
       "      <td>CVE-2017-0028</td>\n",
       "      <td>https://github.com/Microsoft/ChakraCore</td>\n",
       "      <td>A remote code execution vulnerability exists w...</td>\n",
       "      <td>(None, None)</td>\n",
       "      <td>0</td>\n",
       "      <td>49258214</td>\n",
       "      <td>84984</td>\n",
       "    </tr>\n",
       "    <tr>\n",
       "      <th>ChakraCore</th>\n",
       "      <td>CVE-2017-0152</td>\n",
       "      <td>https://github.com/Microsoft/ChakraCore</td>\n",
       "      <td>A remote code execution vulnerability exists i...</td>\n",
       "      <td>(None, None)</td>\n",
       "      <td>0</td>\n",
       "      <td>49258214</td>\n",
       "      <td>84984</td>\n",
       "    </tr>\n",
       "    <tr>\n",
       "      <th>ChakraCore</th>\n",
       "      <td>CVE-2017-0196</td>\n",
       "      <td>https://github.com/Microsoft/ChakraCore</td>\n",
       "      <td>An information disclosure vulnerability in Mic...</td>\n",
       "      <td>(None, None)</td>\n",
       "      <td>0</td>\n",
       "      <td>49258214</td>\n",
       "      <td>84984</td>\n",
       "    </tr>\n",
       "    <tr>\n",
       "      <th>ChakraCore</th>\n",
       "      <td>CVE-2017-0223</td>\n",
       "      <td>https://github.com/Microsoft/ChakraCore</td>\n",
       "      <td>A remote code execution vulnerability exists i...</td>\n",
       "      <td>(None, None)</td>\n",
       "      <td>0</td>\n",
       "      <td>49258214</td>\n",
       "      <td>84984</td>\n",
       "    </tr>\n",
       "    <tr>\n",
       "      <th>ChakraCore</th>\n",
       "      <td>CVE-2017-0252</td>\n",
       "      <td>https://github.com/Microsoft/ChakraCore</td>\n",
       "      <td>A remote code execution vulnerability exists i...</td>\n",
       "      <td>(None, None)</td>\n",
       "      <td>0</td>\n",
       "      <td>49258214</td>\n",
       "      <td>84984</td>\n",
       "    </tr>\n",
       "  </tbody>\n",
       "</table>\n",
       "</div>"
      ],
      "text/plain": [
       "                             cve_id                                      url  \\\n",
       "username  project                                                              \n",
       "Microsoft ChakraCore  CVE-2017-0028  https://github.com/Microsoft/ChakraCore   \n",
       "          ChakraCore  CVE-2017-0152  https://github.com/Microsoft/ChakraCore   \n",
       "          ChakraCore  CVE-2017-0196  https://github.com/Microsoft/ChakraCore   \n",
       "          ChakraCore  CVE-2017-0223  https://github.com/Microsoft/ChakraCore   \n",
       "          ChakraCore  CVE-2017-0252  https://github.com/Microsoft/ChakraCore   \n",
       "\n",
       "                                                            description  \\\n",
       "username  project                                                         \n",
       "Microsoft ChakraCore  A remote code execution vulnerability exists w...   \n",
       "          ChakraCore  A remote code execution vulnerability exists i...   \n",
       "          ChakraCore  An information disclosure vulnerability in Mic...   \n",
       "          ChakraCore  A remote code execution vulnerability exists i...   \n",
       "          ChakraCore  A remote code execution vulnerability exists i...   \n",
       "\n",
       "                     version_range  Java  JavaScript  Python  \n",
       "username  project                                             \n",
       "Microsoft ChakraCore  (None, None)     0    49258214   84984  \n",
       "          ChakraCore  (None, None)     0    49258214   84984  \n",
       "          ChakraCore  (None, None)     0    49258214   84984  \n",
       "          ChakraCore  (None, None)     0    49258214   84984  \n",
       "          ChakraCore  (None, None)     0    49258214   84984  "
      ]
     },
     "execution_count": 16,
     "metadata": {},
     "output_type": "execute_result"
    }
   ],
   "source": [
    "df.head()"
   ]
  },
  {
   "cell_type": "markdown",
   "metadata": {},
   "source": [
    "## Create toy data set"
   ]
  },
  {
   "cell_type": "code",
   "execution_count": 17,
   "metadata": {},
   "outputs": [],
   "source": [
    "toy_df = df[['cve_id', 'description']][df.Java > 1E2]"
   ]
  },
  {
   "cell_type": "code",
   "execution_count": 18,
   "metadata": {},
   "outputs": [],
   "source": [
    "# labels are a position of the project token in the token list\n",
    "labels = [None] * len(toy_df)\n",
    "for i, (index, row) in enumerate(toy_df.iterrows()):\n",
    "    proj = index[1]\n",
    "    desc = row.description.lower()\n",
    "    # find the position of proj in the description, if applicable\n",
    "    tokens = nltk.word_tokenize(desc)\n",
    "    found = False\n",
    "    for pos, token in enumerate(tokens):\n",
    "        if token == proj:\n",
    "            found = True\n",
    "            break\n",
    "    if not found:\n",
    "        pos = None\n",
    "    labels[i] = (row.cve_id, token, pos)\n",
    "\n",
    "# turn index into series\n",
    "labels = pd.DataFrame(labels, columns=['cve_id', 'label', 'pos'])"
   ]
  },
  {
   "cell_type": "code",
   "execution_count": 19,
   "metadata": {},
   "outputs": [],
   "source": [
    "toy_df = toy_df.reset_index().merge(labels, how='outer', on='cve_id').set_index(['username', 'project'])"
   ]
  },
  {
   "cell_type": "code",
   "execution_count": 20,
   "metadata": {},
   "outputs": [],
   "source": [
    "toy_df = toy_df[toy_df.pos.notnull()]"
   ]
  },
  {
   "cell_type": "code",
   "execution_count": 21,
   "metadata": {
    "scrolled": true
   },
   "outputs": [
    {
     "data": {
      "text/html": [
       "<div>\n",
       "<style>\n",
       "    .dataframe thead tr:only-child th {\n",
       "        text-align: right;\n",
       "    }\n",
       "\n",
       "    .dataframe thead th {\n",
       "        text-align: left;\n",
       "    }\n",
       "\n",
       "    .dataframe tbody tr th {\n",
       "        vertical-align: top;\n",
       "    }\n",
       "</style>\n",
       "<table border=\"1\" class=\"dataframe\">\n",
       "  <thead>\n",
       "    <tr style=\"text-align: right;\">\n",
       "      <th></th>\n",
       "      <th>username</th>\n",
       "      <th>project</th>\n",
       "      <th>description</th>\n",
       "      <th>pos</th>\n",
       "    </tr>\n",
       "  </thead>\n",
       "  <tbody>\n",
       "    <tr>\n",
       "      <th>0</th>\n",
       "      <td>modxcms</td>\n",
       "      <td>revolution</td>\n",
       "      <td>MODX Revolution version 2.x - 2.5.6 is vulnera...</td>\n",
       "      <td>1.0</td>\n",
       "    </tr>\n",
       "    <tr>\n",
       "      <th>1</th>\n",
       "      <td>modxcms</td>\n",
       "      <td>revolution</td>\n",
       "      <td>In MODX Revolution 2.5.7, the \"key\" and \"name\"...</td>\n",
       "      <td>2.0</td>\n",
       "    </tr>\n",
       "    <tr>\n",
       "      <th>2</th>\n",
       "      <td>modxcms</td>\n",
       "      <td>revolution</td>\n",
       "      <td>Directory traversal in setup/processors/url_se...</td>\n",
       "      <td>16.0</td>\n",
       "    </tr>\n",
       "    <tr>\n",
       "      <th>3</th>\n",
       "      <td>modxcms</td>\n",
       "      <td>revolution</td>\n",
       "      <td>In MODX Revolution before 2.5.7, when PHP 5.3....</td>\n",
       "      <td>2.0</td>\n",
       "    </tr>\n",
       "    <tr>\n",
       "      <th>4</th>\n",
       "      <td>modxcms</td>\n",
       "      <td>revolution</td>\n",
       "      <td>In MODX Revolution before 2.5.7, an attacker i...</td>\n",
       "      <td>2.0</td>\n",
       "    </tr>\n",
       "  </tbody>\n",
       "</table>\n",
       "</div>"
      ],
      "text/plain": [
       "  username     project                                        description  \\\n",
       "0  modxcms  revolution  MODX Revolution version 2.x - 2.5.6 is vulnera...   \n",
       "1  modxcms  revolution  In MODX Revolution 2.5.7, the \"key\" and \"name\"...   \n",
       "2  modxcms  revolution  Directory traversal in setup/processors/url_se...   \n",
       "3  modxcms  revolution  In MODX Revolution before 2.5.7, when PHP 5.3....   \n",
       "4  modxcms  revolution  In MODX Revolution before 2.5.7, an attacker i...   \n",
       "\n",
       "    pos  \n",
       "0   1.0  \n",
       "1   2.0  \n",
       "2  16.0  \n",
       "3   2.0  \n",
       "4   2.0  "
      ]
     },
     "execution_count": 21,
     "metadata": {},
     "output_type": "execute_result"
    }
   ],
   "source": [
    "toy_df[['description', 'pos']].reset_index().head()"
   ]
  },
  {
   "cell_type": "markdown",
   "metadata": {},
   "source": [
    "## Decription processing"
   ]
  },
  {
   "cell_type": "code",
   "execution_count": 22,
   "metadata": {},
   "outputs": [],
   "source": [
    "def similar(word, cpes) -> bool:\n",
    "    for cpe in cpes:\n",
    "        vendor, = cpe.vendor\n",
    "        product, = cpe.product\n",
    "        if word.lower() in {vendor.lower(), product.lower()}:\n",
    "            return True\n",
    "    \n",
    "    return False"
   ]
  },
  {
   "cell_type": "code",
   "execution_count": 23,
   "metadata": {},
   "outputs": [
    {
     "data": {
      "text/html": [
       "<div>\n",
       "<style>\n",
       "    .dataframe thead tr:only-child th {\n",
       "        text-align: right;\n",
       "    }\n",
       "\n",
       "    .dataframe thead th {\n",
       "        text-align: left;\n",
       "    }\n",
       "\n",
       "    .dataframe tbody tr th {\n",
       "        vertical-align: top;\n",
       "    }\n",
       "</style>\n",
       "<table border=\"1\" class=\"dataframe\">\n",
       "  <thead>\n",
       "    <tr style=\"text-align: right;\">\n",
       "      <th></th>\n",
       "      <th>cve_id</th>\n",
       "      <th>url</th>\n",
       "      <th>description</th>\n",
       "      <th>version_range</th>\n",
       "      <th>Java</th>\n",
       "      <th>JavaScript</th>\n",
       "      <th>Python</th>\n",
       "    </tr>\n",
       "    <tr>\n",
       "      <th>project</th>\n",
       "      <th></th>\n",
       "      <th></th>\n",
       "      <th></th>\n",
       "      <th></th>\n",
       "      <th></th>\n",
       "      <th></th>\n",
       "      <th></th>\n",
       "    </tr>\n",
       "  </thead>\n",
       "  <tbody>\n",
       "    <tr>\n",
       "      <th>jackson-databind</th>\n",
       "      <td>CVE-2017-15095</td>\n",
       "      <td>https://github.com/FasterXML/jackson-databind</td>\n",
       "      <td>A deserialization flaw was discovered in the j...</td>\n",
       "      <td>(None, None)</td>\n",
       "      <td>6201368</td>\n",
       "      <td>0</td>\n",
       "      <td>0</td>\n",
       "    </tr>\n",
       "    <tr>\n",
       "      <th>jackson-databind</th>\n",
       "      <td>CVE-2017-17485</td>\n",
       "      <td>https://github.com/FasterXML/jackson-databind</td>\n",
       "      <td>FasterXML jackson-databind through 2.8.10 and ...</td>\n",
       "      <td>(None, None)</td>\n",
       "      <td>6201368</td>\n",
       "      <td>0</td>\n",
       "      <td>0</td>\n",
       "    </tr>\n",
       "    <tr>\n",
       "      <th>jackson-databind</th>\n",
       "      <td>CVE-2017-7525</td>\n",
       "      <td>https://github.com/FasterXML/jackson-databind</td>\n",
       "      <td>A deserialization flaw was discovered in the j...</td>\n",
       "      <td>(None, None)</td>\n",
       "      <td>6201368</td>\n",
       "      <td>0</td>\n",
       "      <td>0</td>\n",
       "    </tr>\n",
       "  </tbody>\n",
       "</table>\n",
       "</div>"
      ],
      "text/plain": [
       "                          cve_id  \\\n",
       "project                            \n",
       "jackson-databind  CVE-2017-15095   \n",
       "jackson-databind  CVE-2017-17485   \n",
       "jackson-databind   CVE-2017-7525   \n",
       "\n",
       "                                                            url  \\\n",
       "project                                                           \n",
       "jackson-databind  https://github.com/FasterXML/jackson-databind   \n",
       "jackson-databind  https://github.com/FasterXML/jackson-databind   \n",
       "jackson-databind  https://github.com/FasterXML/jackson-databind   \n",
       "\n",
       "                                                        description  \\\n",
       "project                                                               \n",
       "jackson-databind  A deserialization flaw was discovered in the j...   \n",
       "jackson-databind  FasterXML jackson-databind through 2.8.10 and ...   \n",
       "jackson-databind  A deserialization flaw was discovered in the j...   \n",
       "\n",
       "                 version_range     Java  JavaScript  Python  \n",
       "project                                                      \n",
       "jackson-databind  (None, None)  6201368           0       0  \n",
       "jackson-databind  (None, None)  6201368           0       0  \n",
       "jackson-databind  (None, None)  6201368           0       0  "
      ]
     },
     "execution_count": 23,
     "metadata": {},
     "output_type": "execute_result"
    }
   ],
   "source": [
    "df.loc['FasterXML']"
   ]
  },
  {
   "cell_type": "code",
   "execution_count": 24,
   "metadata": {},
   "outputs": [],
   "source": [
    "descriptions, labels, cve_ids = list(zip(*toy_df[['description', 'label', 'cve_id']].values))"
   ]
  },
  {
   "cell_type": "code",
   "execution_count": 25,
   "metadata": {},
   "outputs": [],
   "source": [
    "def create_feature_list_long(feature_extractor, sents, labels, cve_ids) -> list:\n",
    "    \"\"\"Uses all sentences to create feature list given feature extractor.\"\"\"\n",
    "    feature_list = list()\n",
    "    for i, desc in enumerate(sents):\n",
    "        label = labels[i]\n",
    "        tagged_sent = nltk.pos_tag(nltk.word_tokenize(desc), tagset='universal')\n",
    "        for j, (word, tag) in enumerate(tagged_sent):\n",
    "            is_label = word == label\n",
    "            features = feature_extractor(tagged_sent, j, cve_ids[i])\n",
    "            feature_list.append((features, is_label))\n",
    "    \n",
    "    return feature_list"
   ]
  },
  {
   "cell_type": "code",
   "execution_count": 26,
   "metadata": {},
   "outputs": [],
   "source": [
    "def create_feature_list_short(feature_extractor, sents, labels, cve_ids) -> list:\n",
    "    \"\"\"Uses only first sentence to create feature list given feature extractor.\"\"\"\n",
    "    feature_list = list()\n",
    "    for i, desc in enumerate(sents):\n",
    "        label = labels[i]\n",
    "        first_sent = nltk.sent_tokenize(desc)[0]\n",
    "        tagged_sent = nltk.pos_tag(nltk.word_tokenize(first_sent), tagset='universal')\n",
    "        for j, (word, tag) in enumerate(tagged_sent):\n",
    "            is_label = word == label\n",
    "            features = feature_extractor(tagged_sent, j, cve_ids[i])\n",
    "            feature_list.append((features, is_label))\n",
    "    \n",
    "    return feature_list"
   ]
  },
  {
   "cell_type": "code",
   "execution_count": 27,
   "metadata": {},
   "outputs": [],
   "source": [
    "def create_feature_list_v2(feature_extractor, sents, labels, cve_ids) -> list:\n",
    "    \"\"\"Uses only first sentence to create feature list given feature extractor.\"\"\"\n",
    "    feature_list = list()\n",
    "    for i, desc in enumerate(sents):\n",
    "        label = labels[i]\n",
    "        for j, sent in enumerate(nltk.sent_tokenize(desc)):\n",
    "            tagged_sent = nltk.pos_tag(nltk.word_tokenize(sent), tagset='universal')\n",
    "            for k, (word, tag) in enumerate(tagged_sent):\n",
    "                is_label = word == label\n",
    "                features = feature_extractor(tagged_sent, sent_pos=j, word_pos=k, cve_id=cve_ids[i])\n",
    "                feature_list.append((features, is_label))\n",
    "    \n",
    "    return feature_list"
   ]
  },
  {
   "cell_type": "code",
   "execution_count": 28,
   "metadata": {},
   "outputs": [],
   "source": [
    "def eval_accuracy(classifier, extractor, sentences: list, labels: list, cve_ids: list, n=1) -> float:\n",
    "    from collections import Counter\n",
    "    \n",
    "    assert len(sentences) == len(labels)\n",
    "    \n",
    "    accurates = [None] * len(labels)\n",
    "    for i, sent in enumerate(sentences):\n",
    "        tagged = nltk.pos_tag(nltk.word_tokenize(sent), tagset='universal')\n",
    "        prob_dist = [classifier.prob_classify(extractor(tagged, j, cve_ids[i])) for j in range(len(tagged))]\n",
    "        probs = [(word, tag, prob.prob(True)) for (word, tag), prob in zip(tagged, prob_dist)]\n",
    "        probs  = sorted(probs, key=lambda x: x[2], reverse=True)\n",
    "        \n",
    "        most_prob = set([prob[0].lower() for prob in probs[:n]])\n",
    "        accurates[i] = labels[i] in most_prob\n",
    "    \n",
    "#         if not accurates[i]:\n",
    "#             print('Sentence: ', sent)\n",
    "#             print('Expected: `%s`' % labels[i], 'got: `%s`' % probs, '\\n')\n",
    "    \n",
    "    bag = Counter(accurates)\n",
    "    return bag[True] / len(labels)"
   ]
  },
  {
   "cell_type": "code",
   "execution_count": 29,
   "metadata": {},
   "outputs": [],
   "source": [
    "def eval_accuracy_v2(classifier, extractor, sentences: list, labels: list, cve_ids: list, n=1) -> float:\n",
    "    from collections import Counter\n",
    "    \n",
    "    assert len(sentences) == len(labels)\n",
    "    \n",
    "    accurates = [None] * len(labels)\n",
    "    for i, sent in enumerate(sentences):\n",
    "        for s in nltk.sent_tokenize(sent):\n",
    "            tagged = nltk.pos_tag(nltk.word_tokenize(s), tagset='universal')\n",
    "            prob_dist = [classifier.prob_classify(extractor(tagged, s, j, cve_ids[i])) for j in range(len(tagged))]\n",
    "            probs = [(word, tag, prob.prob(True)) for (word, tag), prob in zip(tagged, prob_dist)]\n",
    "            probs  = sorted(probs, key=lambda x: x[2], reverse=True)\n",
    "\n",
    "            most_prob = set([prob[0].lower() for prob in probs[:n]])\n",
    "            accurates[i] = labels[i] in most_prob\n",
    "    \n",
    "#         print('Expected: `%s`' % labels[i], 'got: `%s`' % most_prob)\n",
    "    \n",
    "    # TODO: come up with more sophisticated way of measuring accuracy\n",
    "    bag = Counter(accurates)\n",
    "    return bag[True] / len(labels)"
   ]
  },
  {
   "cell_type": "code",
   "execution_count": 30,
   "metadata": {},
   "outputs": [
    {
     "name": "stdout",
     "output_type": "stream",
     "text": [
      "Most Informative Features\n",
      "               prev-word = 'the'           False : True   =      8.2 : 1.0\n",
      "               prev-word = None            False : True   =      8.0 : 1.0\n",
      "               prev-word = 'a'             False : True   =      7.7 : 1.0\n",
      "                prev-tag = 'ADP'            True : False  =      5.0 : 1.0\n",
      "                     tag = 'ADV'            True : False  =      5.0 : 1.0\n",
      "                     tag = 'ADJ'            True : False  =      3.6 : 1.0\n",
      "                prev-tag = 'NOUN'          False : True   =      2.5 : 1.0\n",
      "               prev-word = 'aka'            True : False  =      2.3 : 1.0\n",
      "                prev-tag = '<start>'        True : False  =      1.8 : 1.0\n",
      "                word-len = True             True : False  =      1.7 : 1.0\n"
     ]
    },
    {
     "data": {
      "text/plain": [
       "0.15702479338842976"
      ]
     },
     "execution_count": 30,
     "metadata": {},
     "output_type": "execute_result"
    }
   ],
   "source": [
    "def extract_features_vanilla(tagged: list, pos: int, cve_id=None):\n",
    "    \"\"\"Extract contextual features from the sentence w.r.t given position of a word.\"\"\"\n",
    "    word, tag = tagged[pos]\n",
    "    features = {\n",
    "        'tag': tag,\n",
    "        'has-uppercase': word[0].isupper(),\n",
    "        'word-len': len(word) > 3,\n",
    "    }\n",
    "    if pos == 0:\n",
    "        features['prev-tag'] = '<start>'\n",
    "    else:\n",
    "        features['prev-word'] = tagged[pos - 1][0].lower()\n",
    "        features['prev-tag'] = tagged[pos - 1][1]\n",
    "        \n",
    "    return features\n",
    "\n",
    "# Lets not split the dataset here for now\n",
    "feature_list = create_feature_list_long(extract_features_vanilla, descriptions, labels, cve_ids)\n",
    "\n",
    "classifier = nltk.NaiveBayesClassifier.train(feature_list)\n",
    "classifier.show_most_informative_features()\n",
    "\n",
    "eval_accuracy(classifier, extract_features_vanilla, descriptions, labels, cve_ids, n=1)"
   ]
  },
  {
   "cell_type": "code",
   "execution_count": 31,
   "metadata": {
    "scrolled": true
   },
   "outputs": [
    {
     "name": "stdout",
     "output_type": "stream",
     "text": [
      "Most Informative Features\n",
      "         vend_prod_match = True             True : False  =     37.6 : 1.0\n",
      "             prev-bigram = None            False : True   =     19.0 : 1.0\n",
      "         vend_prod_match = False           False : True   =     10.9 : 1.0\n",
      "               prev-word = 'the'           False : True   =      8.2 : 1.0\n",
      "               prev-word = None            False : True   =      8.0 : 1.0\n",
      "               prev-word = 'a'             False : True   =      7.7 : 1.0\n",
      "             prev-bigram = 'is for'         True : False  =      5.1 : 1.0\n",
      "                prev-tag = 'ADP'            True : False  =      5.0 : 1.0\n",
      "                     tag = 'ADV'            True : False  =      5.0 : 1.0\n",
      "             prev-bigram = 'in the'        False : True   =      4.5 : 1.0\n"
     ]
    },
    {
     "data": {
      "text/plain": [
       "0.8760330578512396"
      ]
     },
     "execution_count": 31,
     "metadata": {},
     "output_type": "execute_result"
    }
   ],
   "source": [
    "def extract_features_v0(tagged: list, pos: int, cve_id=None):\n",
    "    \"\"\"Extract contextual features from the sentence w.r.t given position of a word.\"\"\"\n",
    "    word, tag = tagged[pos]\n",
    "    features = {\n",
    "        'tag': tag,\n",
    "        'vend_prod_match': similar(word, cves[cve_id].get_cpe(cpe_type='a')),\n",
    "        'word-len': len(word) > 3,\n",
    "    }\n",
    "    if pos == 0:\n",
    "        features['prev-tag'] = '<start>'\n",
    "    else:\n",
    "        if pos > 1:\n",
    "            features['prev-tag'] = tagged[pos - 1][1]\n",
    "            features['prev-bigram'] = \" \".join(w.lower() for w, t in tagged[pos - 2: pos])\n",
    "            \n",
    "        features['prev-word'] = tagged[pos - 1][0].lower()\n",
    "        features['prev-tag'] = tagged[pos - 1][1]\n",
    "        \n",
    "    return features\n",
    "\n",
    "# Lets not split the dataset here for now\n",
    "feature_list = create_feature_list_long(extract_features_v0, descriptions, labels, cve_ids)\n",
    "\n",
    "classifier = nltk.NaiveBayesClassifier.train(feature_list)\n",
    "classifier.show_most_informative_features()\n",
    "\n",
    "eval_accuracy(classifier, extract_features_v0, descriptions, labels, cve_ids, n=1)"
   ]
  },
  {
   "cell_type": "code",
   "execution_count": 32,
   "metadata": {
    "scrolled": true
   },
   "outputs": [
    {
     "name": "stdout",
     "output_type": "stream",
     "text": [
      "Most Informative Features\n",
      "         vend_prod_match = True             True : False  =     37.6 : 1.0\n",
      "             prev-bigram = None            False : True   =     19.0 : 1.0\n",
      "         vend_prod_match = False           False : True   =     10.9 : 1.0\n",
      "               prev-word = 'the'           False : True   =      8.2 : 1.0\n",
      "               prev-word = None            False : True   =      8.0 : 1.0\n",
      "               prev-word = 'a'             False : True   =      7.7 : 1.0\n",
      "             prev-bigram = 'is for'         True : False  =      5.1 : 1.0\n",
      "                prev-tag = 'ADP'            True : False  =      5.0 : 1.0\n",
      "                     tag = 'ADV'            True : False  =      5.0 : 1.0\n",
      "             prev-bigram = 'in the'        False : True   =      4.5 : 1.0\n"
     ]
    },
    {
     "data": {
      "text/plain": [
       "0.8842975206611571"
      ]
     },
     "execution_count": 32,
     "metadata": {},
     "output_type": "execute_result"
    }
   ],
   "source": [
    "def extract_features_v1(tagged: list, pos: int, cve_id=None):\n",
    "    \"\"\"Extract contextual features from the sentence w.r.t given position of a word.\"\"\"\n",
    "    word, tag = tagged[pos]\n",
    "    cases = [w.isupper() for w in word]\n",
    "    features = {\n",
    "        'tag': tag,\n",
    "        'has-uppercase': any(cases) and not all(cases),\n",
    "        'vend_prod_match': similar(word, cves[cve_id].get_cpe(cpe_type='a')),\n",
    "        'word-len-threshold': len(word) > 3\n",
    "    }\n",
    "    if pos == 0:\n",
    "        features['prev-tag'] = '<start>'\n",
    "    else:\n",
    "        if pos > 1:\n",
    "            features['prev-tag'] = tagged[pos - 1][1]\n",
    "            features['prev-bigram'] = \" \".join(w.lower() for w, t in tagged[pos - 2: pos])\n",
    "            \n",
    "        features['prev-word'] = tagged[pos - 1][0].lower()\n",
    "        features['prev-tag'] = tagged[pos - 1][1]\n",
    "        \n",
    "    return features\n",
    "\n",
    "# Lets not split the dataset here for now\n",
    "feature_list = create_feature_list_long(extract_features_v1, descriptions, labels, cve_ids)\n",
    "\n",
    "classifier = nltk.NaiveBayesClassifier.train(feature_list)\n",
    "classifier.show_most_informative_features()\n",
    "\n",
    "eval_accuracy(classifier, extract_features_v1, descriptions, labels, cve_ids, n=1)"
   ]
  },
  {
   "cell_type": "code",
   "execution_count": 33,
   "metadata": {},
   "outputs": [],
   "source": [
    "regex_tokenizer = nltk.RegexpTokenizer(pattern=u\"[-_]\", gaps=True)\n",
    "# nltk.pos_tag(regex_tokenizer.tokenize(v), tagset='universal')"
   ]
  },
  {
   "cell_type": "code",
   "execution_count": 34,
   "metadata": {},
   "outputs": [
    {
     "name": "stdout",
     "output_type": "stream",
     "text": [
      "Most Informative Features\n",
      "         vend_prod_match = True             True : False  =     37.6 : 1.0\n",
      "             next-bigram = '3.0 .'          True : False  =     32.5 : 1.0\n",
      "        next-bigram-tags = 'NUM ADJ'        True : False  =     27.3 : 1.0\n",
      "             prev-bigram = None            False : True   =     19.0 : 1.0\n",
      "             next-bigram = None            False : True   =     15.6 : 1.0\n",
      "         vend_prod_match = False           False : True   =     10.9 : 1.0\n",
      "        next-bigram-tags = 'NUM .'          True : False  =      9.4 : 1.0\n",
      "        next-bigram-tags = 'NUM NOUN'       True : False  =      5.8 : 1.0\n",
      "                prev-tag = 'ADP'            True : False  =      5.2 : 1.0\n",
      "             prev-bigram = 'is for'         True : False  =      5.1 : 1.0\n"
     ]
    },
    {
     "data": {
      "text/plain": [
       "0.8512396694214877"
      ]
     },
     "execution_count": 34,
     "metadata": {},
     "output_type": "execute_result"
    }
   ],
   "source": [
    "def extract_features_v2(tagged: list, pos: int, cve_id=None):\n",
    "    \"\"\"Extract contextual features from the sentence w.r.t given position of a word.\"\"\"\n",
    "    word, tag = tagged[pos]\n",
    "    features = {\n",
    "        'tag': tag,\n",
    "        'word-len': len(word) > 3,\n",
    "        'has-uppercase': any(w.isupper() for w in word),\n",
    "        'vend_prod_match': similar(word, cves[cve_id].get_cpe(cpe_type='a')),\n",
    "    }\n",
    "    if pos == 0:\n",
    "        features['prev-tag'] = '<start>'\n",
    "    else:\n",
    "        if pos > 1:\n",
    "            features['prev-tag'] = tagged[pos - 1][1]\n",
    "            features['prev-bigram'] = \" \".join(w.lower() for w, t in tagged[pos - 2: pos])\n",
    "            \n",
    "        \n",
    "        if pos < len(tagged):    \n",
    "            features['next-bigram'] = \" \".join(w.lower() for w, t in tagged[pos + 1: pos + 3])\n",
    "            features['next-bigram-tags'] = \" \".join(t for w, t in tagged[pos + 1: pos + 3])\n",
    "        \n",
    "    return features\n",
    "\n",
    "# Lets not split the dataset here for now\n",
    "feature_list = create_feature_list_long(extract_features_v2, descriptions, labels, cve_ids)\n",
    "\n",
    "classifier = nltk.NaiveBayesClassifier.train(feature_list)\n",
    "classifier.show_most_informative_features()\n",
    "\n",
    "eval_accuracy(classifier, extract_features_v2, descriptions, labels, cve_ids, n=1)"
   ]
  },
  {
   "cell_type": "code",
   "execution_count": 35,
   "metadata": {
    "scrolled": true
   },
   "outputs": [
    {
     "name": "stdout",
     "output_type": "stream",
     "text": [
      "Most Informative Features\n",
      "         vend_prod_match = True             True : False  =     37.6 : 1.0\n",
      "             next-bigram = '3.0 .'          True : False  =     32.6 : 1.0\n",
      "             next-bigram = None            False : True   =     31.3 : 1.0\n",
      "        next-bigram-tags = 'NUM ADJ'        True : False  =     27.5 : 1.0\n",
      "         vend_prod_match = False           False : True   =     10.9 : 1.0\n",
      "        next-bigram-tags = 'NUM .'          True : False  =      9.5 : 1.0\n",
      "               prev-word = None            False : True   =      8.4 : 1.0\n",
      "             version_pos = None            False : True   =      8.0 : 1.0\n",
      "               prev-word = 'the'           False : True   =      7.1 : 1.0\n",
      "               prev-word = 'a'             False : True   =      7.0 : 1.0\n"
     ]
    },
    {
     "data": {
      "text/plain": [
       "0.9752066115702479"
      ]
     },
     "execution_count": 35,
     "metadata": {},
     "output_type": "execute_result"
    }
   ],
   "source": [
    "def extract_features_v3(tagged: list, pos: int, cve_id=None):\n",
    "    \"\"\"Extract contextual features from the sentence w.r.t given position of a word.\"\"\"\n",
    "    word, tag = tagged[pos]\n",
    "    try:\n",
    "        ver_pos = [pos for pos, (w, t) in enumerate(tagged[pos:]) if t == 'NUM'][0]\n",
    "    except:\n",
    "        ver_pos = None\n",
    "        \n",
    "    ver_follows = any([pos for pos, (w, t) in enumerate(tagged[pos:]) if t == 'NUM' or re.search(u'version', w)])\n",
    "    features = {\n",
    "        'tag': tag,\n",
    "        'word-len': len(word) > 3,\n",
    "        'vend_prod_match': similar(word, cves[cve_id].get_cpe(cpe_type='a')),\n",
    "        'version_pos': ver_pos,\n",
    "        'ver_follows': ver_follows\n",
    "    }\n",
    "    if pos == 0:\n",
    "        features['prev-tag'] = '<start>'\n",
    "    else:\n",
    "        if pos < len(tagged) - 1:    \n",
    "            features['next-bigram'] = \" \".join(w.lower() for w, t in tagged[pos + 1: pos + 3])\n",
    "            features['next-bigram-tags'] = \" \".join(t for w, t in tagged[pos + 1: pos + 3])\n",
    "            \n",
    "        features['prev-word'] = tagged[pos - 1][0]\n",
    "            \n",
    "            \n",
    "    return features\n",
    "\n",
    "# Lets not split the dataset here for now\n",
    "feature_list = create_feature_list_long(extract_features_v3, descriptions, labels, cve_ids)\n",
    "\n",
    "classifier = nltk.NaiveBayesClassifier.train(feature_list)\n",
    "classifier.show_most_informative_features()\n",
    "\n",
    "eval_accuracy(classifier, extract_features_v3, descriptions, labels, cve_ids, n=2)"
   ]
  },
  {
   "cell_type": "code",
   "execution_count": 36,
   "metadata": {},
   "outputs": [
    {
     "name": "stdout",
     "output_type": "stream",
     "text": [
      "Most Informative Features\n",
      "             next_bigram = None            False : True   =     49.2 : 1.0\n",
      "         vend_prod_match = True             True : False  =     37.6 : 1.0\n",
      "             next_bigram = '3.0 .'          True : False  =     33.3 : 1.0\n",
      "             prev_bigram = None            False : True   =     29.9 : 1.0\n",
      "        next_bigram-tags = 'NUM ADJ'        True : False  =     27.7 : 1.0\n",
      "         vend_prod_match = False           False : True   =     10.9 : 1.0\n",
      "             version_pos = 1                True : False  =      9.9 : 1.0\n",
      "        next_bigram-tags = 'NUM .'          True : False  =      9.5 : 1.0\n",
      "        next_bigram-tags = 'NUM NOUN'       True : False  =      5.9 : 1.0\n",
      "             version_pos = None            False : True   =      5.9 : 1.0\n"
     ]
    },
    {
     "data": {
      "text/plain": [
       "0.6115702479338843"
      ]
     },
     "execution_count": 36,
     "metadata": {},
     "output_type": "execute_result"
    }
   ],
   "source": [
    "def extract_features_v4(tagged: list, sent_pos:int, word_pos: int, cve_id=None):\n",
    "    \"\"\"Extract contextual features from the sentence w.r.t given position of a word.\"\"\"\n",
    "    word, tag = tagged[word_pos]\n",
    "    try:\n",
    "        ver_pos = [pos for pos, (w, t) in enumerate(tagged[word_pos:]) if t == 'NUM'][0]\n",
    "    except:\n",
    "        ver_pos = None\n",
    "    features = {\n",
    "        'tag': tag,\n",
    "        'word_len': len(word) > 3,\n",
    "        'vend_prod_match': similar(word, cves[cve_id].get_cpe(cpe_type='a')),\n",
    "        'version_pos': ver_pos,\n",
    "        'sent_pos': sent_pos\n",
    "    }\n",
    "    if word_pos == 0:\n",
    "        features['prev-tag'] = '<start>'\n",
    "    else:\n",
    "        if word_pos > 1:\n",
    "            features['prev_tag'] = tagged[word_pos - 1][1]\n",
    "            features['prev_bigram'] = \" \".join(w.lower() for w, t in tagged[word_pos - 2: word_pos])\n",
    "        \n",
    "        if word_pos < len(tagged) - 1:    \n",
    "            features['next_bigram'] = \" \".join(w.lower() for w, t in tagged[word_pos + 1: word_pos + 3])\n",
    "            features['next_bigram-tags'] = \" \".join(t for w, t in tagged[word_pos + 1: word_pos + 3])\n",
    "            \n",
    "    return features\n",
    "\n",
    "# Lets not split the dataset here for now\n",
    "feature_list = create_feature_list_v2(extract_features_v4, descriptions, labels, cve_ids)\n",
    "\n",
    "classifier = nltk.NaiveBayesClassifier.train(feature_list)\n",
    "classifier.show_most_informative_features()\n",
    "\n",
    "eval_accuracy_v2(classifier, extract_features_v4, descriptions, labels, cve_ids, n=1)"
   ]
  },
  {
   "cell_type": "markdown",
   "metadata": {},
   "source": [
    "## Test accuracy on the toy dataset using multiple feature extractors"
   ]
  },
  {
   "cell_type": "code",
   "execution_count": 37,
   "metadata": {},
   "outputs": [
    {
     "name": "stdout",
     "output_type": "stream",
     "text": [
      "Most Informative Features\n",
      "         vend_prod_match = True             True : False  =     45.1 : 1.0\n",
      "             next_bigram = None            False : True   =     40.0 : 1.0\n",
      "             next_bigram = '3.0 .'          True : False  =     34.2 : 1.0\n",
      "        next_bigram-tags = 'NUM ADJ'        True : False  =     24.4 : 1.0\n",
      "             prev_bigram = None            False : True   =     24.3 : 1.0\n",
      "             version_pos = 1                True : False  =     13.9 : 1.0\n",
      "        next_bigram-tags = 'NUM .'          True : False  =     12.7 : 1.0\n",
      "         vend_prod_match = False           False : True   =     10.6 : 1.0\n",
      "        next_bigram-tags = 'NUM CONJ'       True : False  =      8.1 : 1.0\n",
      "        next_bigram-tags = 'NUM NOUN'       True : False  =      6.6 : 1.0\n"
     ]
    }
   ],
   "source": [
    "x = np.arange(1, 15)\n",
    "feature_extractors = [extract_features_vanilla, extract_features_v0, extract_features_v1, extract_features_v2,\n",
    "                      extract_features_v3\n",
    "                     ]\n",
    "\n",
    "split = int(len(descriptions) * 0.2)\n",
    "test_set, test_labels = descriptions[:split], labels[:split]\n",
    "train_set, train_labels = descriptions[split:], labels[split:]\n",
    "\n",
    "accuracy_list = list()\n",
    "for i, extractor in enumerate(feature_extractors):\n",
    "    # Lets not split the dataset here for now\n",
    "    feature_list = create_feature_list_long(extractor, train_set, train_labels, cve_ids[split:])\n",
    "\n",
    "    classifier = nltk.NaiveBayesClassifier.train(feature_list)\n",
    "#     classifier.show_most_informative_features()\n",
    "    \n",
    "    accuracy_list.append([eval_accuracy(classifier, extractor, test_set, test_labels, cve_ids[:split], i) for i in x])\n",
    "    \n",
    "feature_list = create_feature_list_v2(extract_features_v4, train_set, train_labels, cve_ids[split:])\n",
    "\n",
    "classifier = nltk.NaiveBayesClassifier.train(feature_list)\n",
    "classifier.show_most_informative_features()\n",
    "\n",
    "accuracy_list.append([eval_accuracy_v2(classifier, extract_features_v4, test_set, test_labels, cve_ids[:split], i) for i in x])"
   ]
  },
  {
   "cell_type": "markdown",
   "metadata": {},
   "source": [
    "### Current approach"
   ]
  },
  {
   "cell_type": "code",
   "execution_count": 38,
   "metadata": {},
   "outputs": [],
   "source": [
    "from collections import OrderedDict\n",
    "\n",
    "\n",
    "def get_first_sentence(description):\n",
    "    \"\"\"Get only the first sentence from the description.\"\"\"\n",
    "    sentences = nltk.sent_tokenize(description)\n",
    "    return sentences[0] if sentences else ''\n",
    "\n",
    "\n",
    "def guess_package_name(description):\n",
    "    from nltk.corpus import stopwords\n",
    "    \"\"\"Guess package name from given description.\n",
    "\n",
    "    Very naive approach. Words starting with uppercase letter\n",
    "    are considered to be possible package names (minus stop words).\n",
    "\n",
    "    Returns a list of possible package names, without duplicates.\n",
    "    \"\"\"\n",
    "\n",
    "    stop_words = set()\n",
    "\n",
    "    try:\n",
    "        # Fails when no downloaded stopwords are available.\n",
    "        stop_words.update(stopwords.words('english'))\n",
    "    except LookupError:\n",
    "        # Download stopwords since they are not available.\n",
    "        nltk.download('stopwords')\n",
    "        stop_words.update(stopwords.words('english'))\n",
    "\n",
    "    regexp = re.compile('[A-Z][A-Za-z0-9-:]*')  # ? TODO: tweak\n",
    "    suspects = regexp.findall(description)\n",
    "\n",
    "    results = []\n",
    "\n",
    "    if not suspects:\n",
    "        return results\n",
    "\n",
    "    results = [x.lower() for x in suspects if x.lower() not in stop_words]\n",
    "    # get rid of duplicates, but keep order\n",
    "    results = list(OrderedDict.fromkeys(results))\n",
    "\n",
    "    return results\n",
    "\n",
    "\n",
    "def get_package_name_candidates(description):\n",
    "    \"\"\"Try to identify possible package names in the CVE's description.\"\"\"\n",
    "    pkg_name_candidates = set()\n",
    "    first_sentence = get_first_sentence(description)\n",
    "    names = guess_package_name(first_sentence)\n",
    "    pkg_name_candidates.update(set(names))\n",
    "    return pkg_name_candidates"
   ]
  },
  {
   "cell_type": "code",
   "execution_count": 39,
   "metadata": {},
   "outputs": [],
   "source": [
    "def eval_old_accuracy(sentences: list, labels: list) -> float:\n",
    "    from collections import Counter\n",
    "    \n",
    "    assert len(sentences) == len(labels)\n",
    "    \n",
    "    guesses = [None] * len(labels)\n",
    "    accurates = [None] * len(labels)\n",
    "    for i, sent in enumerate(sentences):\n",
    "        \n",
    "        names = get_package_name_candidates(sent)\n",
    "        guesses[i] = len(names)\n",
    "        accurates[i] = labels[i] in names # only taking the first word .. needs better implementation\n",
    "    \n",
    "#         print('Expected: `%s`' % labels[i], 'got: `%s`' % most_prob)\n",
    "    \n",
    "    # TODO: come up with more sophisticated way of measuring accuracy\n",
    "    bag = Counter(accurates)\n",
    "    return bag[True] / len(labels), sum(guesses) / len(guesses)"
   ]
  },
  {
   "cell_type": "code",
   "execution_count": 40,
   "metadata": {},
   "outputs": [],
   "source": [
    "def get_nof_guesses(sentences: list, labels: list) -> float:\n",
    "    assert len(sentences) == len(labels)\n",
    "    \n",
    "    guesses = [None] * len(labels)\n",
    "    for i, sent in enumerate(sentences):\n",
    "        \n",
    "        names = get_package_name_candidates(sent)\n",
    "        guesses[i] = len(names)\n",
    "        \n",
    "    # TODO: come up with more sophisticated way of measuring accuracy\n",
    "    return guesses"
   ]
  },
  {
   "cell_type": "markdown",
   "metadata": {},
   "source": [
    "### Evaluation of the current approach on the test sets"
   ]
  },
  {
   "cell_type": "code",
   "execution_count": 41,
   "metadata": {},
   "outputs": [],
   "source": [
    "old_accuracy, mean_guess = eval_old_accuracy(test_set, test_labels)"
   ]
  },
  {
   "cell_type": "markdown",
   "metadata": {},
   "source": [
    "### Evaluation of the current approach on the whole set"
   ]
  },
  {
   "cell_type": "code",
   "execution_count": 42,
   "metadata": {},
   "outputs": [
    {
     "data": {
      "text/plain": [
       "(0.7355371900826446, 3.347107438016529)"
      ]
     },
     "execution_count": 42,
     "metadata": {},
     "output_type": "execute_result"
    }
   ],
   "source": [
    "eval_old_accuracy(descriptions, labels)"
   ]
  },
  {
   "cell_type": "markdown",
   "metadata": {},
   "source": [
    "## Draw extractor accuracy"
   ]
  },
  {
   "cell_type": "code",
   "execution_count": 43,
   "metadata": {},
   "outputs": [],
   "source": [
    "trace_names = ['vanilla_extractor'] + ['extract_features_v%d' % i for i in range(len(accuracy_list))]\n",
    "data = [go.Scatter(x=x, y=ac, name=trace_names[i]) for i, ac in enumerate(accuracy_list)]\n",
    "\n",
    "layout = go.Layout(\n",
    "    yaxis=dict(\n",
    "        title='Accuracy',\n",
    "        titlefont=dict(\n",
    "            color='grey'\n",
    "        )\n",
    "    ),\n",
    "    xaxis=dict(\n",
    "        title='Candidates',\n",
    "        titlefont=dict(\n",
    "            color='grey'\n",
    "        )\n",
    "    ),\n",
    "    shapes=[\n",
    "        {\n",
    "            'type': 'line',\n",
    "            'x0': mean_guess,\n",
    "            'x1': mean_guess,\n",
    "            'y0': -0.05,\n",
    "            'y1': 1.1,\n",
    "            'opacity': 0.2,\n",
    "            'line': {\n",
    "                'dash': 'dash'\n",
    "            }\n",
    "        },\n",
    "        {\n",
    "            'type': 'line',\n",
    "            'x0': -0.5,\n",
    "            'x1': 20,\n",
    "            'y0': old_accuracy,\n",
    "            'y1': old_accuracy,\n",
    "            'opacity': 0.2,\n",
    "            'line': {\n",
    "                'dash': 'dash'\n",
    "            }\n",
    "        }\n",
    "    ]\n",
    ")\n",
    "\n",
    "fig = go.Figure(data=data, layout=layout)"
   ]
  },
  {
   "cell_type": "code",
   "execution_count": 44,
   "metadata": {},
   "outputs": [
    {
     "data": {
      "application/vnd.plotly.v1+json": {
       "data": [
        {
         "name": "vanilla_extractor",
         "type": "scatter",
         "x": [
          1,
          2,
          3,
          4,
          5,
          6,
          7,
          8,
          9,
          10,
          11,
          12,
          13,
          14
         ],
         "y": [
          0,
          0,
          0,
          0.041666666666666664,
          0.125,
          0.16666666666666666,
          0.375,
          0.4583333333333333,
          0.5416666666666666,
          0.5833333333333334,
          0.75,
          0.8333333333333334,
          0.8333333333333334,
          0.8333333333333334
         ]
        },
        {
         "name": "extract_features_v0",
         "type": "scatter",
         "x": [
          1,
          2,
          3,
          4,
          5,
          6,
          7,
          8,
          9,
          10,
          11,
          12,
          13,
          14
         ],
         "y": [
          0.7083333333333334,
          0.7916666666666666,
          0.875,
          0.9166666666666666,
          0.9583333333333334,
          1,
          1,
          1,
          1,
          1,
          1,
          1,
          1,
          1
         ]
        },
        {
         "name": "extract_features_v1",
         "type": "scatter",
         "x": [
          1,
          2,
          3,
          4,
          5,
          6,
          7,
          8,
          9,
          10,
          11,
          12,
          13,
          14
         ],
         "y": [
          0.5416666666666666,
          0.7083333333333334,
          0.7083333333333334,
          0.7083333333333334,
          0.75,
          0.75,
          0.8333333333333334,
          0.875,
          0.9166666666666666,
          0.9583333333333334,
          1,
          1,
          1,
          1
         ]
        },
        {
         "name": "extract_features_v2",
         "type": "scatter",
         "x": [
          1,
          2,
          3,
          4,
          5,
          6,
          7,
          8,
          9,
          10,
          11,
          12,
          13,
          14
         ],
         "y": [
          0.625,
          0.6666666666666666,
          0.6666666666666666,
          0.75,
          0.75,
          0.75,
          0.8333333333333334,
          0.875,
          0.9166666666666666,
          0.9583333333333334,
          0.9583333333333334,
          1,
          1,
          1
         ]
        },
        {
         "name": "extract_features_v3",
         "type": "scatter",
         "x": [
          1,
          2,
          3,
          4,
          5,
          6,
          7,
          8,
          9,
          10,
          11,
          12,
          13,
          14
         ],
         "y": [
          0.625,
          0.9583333333333334,
          1,
          1,
          1,
          1,
          1,
          1,
          1,
          1,
          1,
          1,
          1,
          1
         ]
        },
        {
         "name": "extract_features_v4",
         "type": "scatter",
         "x": [
          1,
          2,
          3,
          4,
          5,
          6,
          7,
          8,
          9,
          10,
          11,
          12,
          13,
          14
         ],
         "y": [
          0.5416666666666666,
          0.5833333333333334,
          0.7083333333333334,
          0.7083333333333334,
          0.75,
          0.7916666666666666,
          0.7916666666666666,
          0.7916666666666666,
          0.7916666666666666,
          0.7916666666666666,
          0.7916666666666666,
          0.7916666666666666,
          0.7916666666666666,
          0.7916666666666666
         ]
        }
       ],
       "layout": {
        "shapes": [
         {
          "line": {
           "dash": "dash"
          },
          "opacity": 0.2,
          "type": "line",
          "x0": 3.4166666666666665,
          "x1": 3.4166666666666665,
          "y0": -0.05,
          "y1": 1.1
         },
         {
          "line": {
           "dash": "dash"
          },
          "opacity": 0.2,
          "type": "line",
          "x0": -0.5,
          "x1": 20,
          "y0": 0.9583333333333334,
          "y1": 0.9583333333333334
         }
        ],
        "xaxis": {
         "title": "Candidates",
         "titlefont": {
          "color": "grey"
         }
        },
        "yaxis": {
         "title": "Accuracy",
         "titlefont": {
          "color": "grey"
         }
        }
       }
      },
      "text/html": [
       "<div id=\"21b48e41-dd1e-4423-9b09-14a412ea96f8\" style=\"height: 525px; width: 100%;\" class=\"plotly-graph-div\"></div><script type=\"text/javascript\">require([\"plotly\"], function(Plotly) { window.PLOTLYENV=window.PLOTLYENV || {};window.PLOTLYENV.BASE_URL=\"https://plot.ly\";Plotly.newPlot(\"21b48e41-dd1e-4423-9b09-14a412ea96f8\", [{\"type\": \"scatter\", \"x\": [1, 2, 3, 4, 5, 6, 7, 8, 9, 10, 11, 12, 13, 14], \"y\": [0.0, 0.0, 0.0, 0.041666666666666664, 0.125, 0.16666666666666666, 0.375, 0.4583333333333333, 0.5416666666666666, 0.5833333333333334, 0.75, 0.8333333333333334, 0.8333333333333334, 0.8333333333333334], \"name\": \"vanilla_extractor\"}, {\"type\": \"scatter\", \"x\": [1, 2, 3, 4, 5, 6, 7, 8, 9, 10, 11, 12, 13, 14], \"y\": [0.7083333333333334, 0.7916666666666666, 0.875, 0.9166666666666666, 0.9583333333333334, 1.0, 1.0, 1.0, 1.0, 1.0, 1.0, 1.0, 1.0, 1.0], \"name\": \"extract_features_v0\"}, {\"type\": \"scatter\", \"x\": [1, 2, 3, 4, 5, 6, 7, 8, 9, 10, 11, 12, 13, 14], \"y\": [0.5416666666666666, 0.7083333333333334, 0.7083333333333334, 0.7083333333333334, 0.75, 0.75, 0.8333333333333334, 0.875, 0.9166666666666666, 0.9583333333333334, 1.0, 1.0, 1.0, 1.0], \"name\": \"extract_features_v1\"}, {\"type\": \"scatter\", \"x\": [1, 2, 3, 4, 5, 6, 7, 8, 9, 10, 11, 12, 13, 14], \"y\": [0.625, 0.6666666666666666, 0.6666666666666666, 0.75, 0.75, 0.75, 0.8333333333333334, 0.875, 0.9166666666666666, 0.9583333333333334, 0.9583333333333334, 1.0, 1.0, 1.0], \"name\": \"extract_features_v2\"}, {\"type\": \"scatter\", \"x\": [1, 2, 3, 4, 5, 6, 7, 8, 9, 10, 11, 12, 13, 14], \"y\": [0.625, 0.9583333333333334, 1.0, 1.0, 1.0, 1.0, 1.0, 1.0, 1.0, 1.0, 1.0, 1.0, 1.0, 1.0], \"name\": \"extract_features_v3\"}, {\"type\": \"scatter\", \"x\": [1, 2, 3, 4, 5, 6, 7, 8, 9, 10, 11, 12, 13, 14], \"y\": [0.5416666666666666, 0.5833333333333334, 0.7083333333333334, 0.7083333333333334, 0.75, 0.7916666666666666, 0.7916666666666666, 0.7916666666666666, 0.7916666666666666, 0.7916666666666666, 0.7916666666666666, 0.7916666666666666, 0.7916666666666666, 0.7916666666666666], \"name\": \"extract_features_v4\"}], {\"yaxis\": {\"title\": \"Accuracy\", \"titlefont\": {\"color\": \"grey\"}}, \"xaxis\": {\"title\": \"Candidates\", \"titlefont\": {\"color\": \"grey\"}}, \"shapes\": [{\"type\": \"line\", \"x0\": 3.4166666666666665, \"x1\": 3.4166666666666665, \"y0\": -0.05, \"y1\": 1.1, \"opacity\": 0.2, \"line\": {\"dash\": \"dash\"}}, {\"type\": \"line\", \"x0\": -0.5, \"x1\": 20, \"y0\": 0.9583333333333334, \"y1\": 0.9583333333333334, \"opacity\": 0.2, \"line\": {\"dash\": \"dash\"}}]}, {\"showLink\": false, \"linkText\": \"Export to plot.ly\"})});</script>"
      ],
      "text/vnd.plotly.v1+html": [
       "<div id=\"21b48e41-dd1e-4423-9b09-14a412ea96f8\" style=\"height: 525px; width: 100%;\" class=\"plotly-graph-div\"></div><script type=\"text/javascript\">require([\"plotly\"], function(Plotly) { window.PLOTLYENV=window.PLOTLYENV || {};window.PLOTLYENV.BASE_URL=\"https://plot.ly\";Plotly.newPlot(\"21b48e41-dd1e-4423-9b09-14a412ea96f8\", [{\"type\": \"scatter\", \"x\": [1, 2, 3, 4, 5, 6, 7, 8, 9, 10, 11, 12, 13, 14], \"y\": [0.0, 0.0, 0.0, 0.041666666666666664, 0.125, 0.16666666666666666, 0.375, 0.4583333333333333, 0.5416666666666666, 0.5833333333333334, 0.75, 0.8333333333333334, 0.8333333333333334, 0.8333333333333334], \"name\": \"vanilla_extractor\"}, {\"type\": \"scatter\", \"x\": [1, 2, 3, 4, 5, 6, 7, 8, 9, 10, 11, 12, 13, 14], \"y\": [0.7083333333333334, 0.7916666666666666, 0.875, 0.9166666666666666, 0.9583333333333334, 1.0, 1.0, 1.0, 1.0, 1.0, 1.0, 1.0, 1.0, 1.0], \"name\": \"extract_features_v0\"}, {\"type\": \"scatter\", \"x\": [1, 2, 3, 4, 5, 6, 7, 8, 9, 10, 11, 12, 13, 14], \"y\": [0.5416666666666666, 0.7083333333333334, 0.7083333333333334, 0.7083333333333334, 0.75, 0.75, 0.8333333333333334, 0.875, 0.9166666666666666, 0.9583333333333334, 1.0, 1.0, 1.0, 1.0], \"name\": \"extract_features_v1\"}, {\"type\": \"scatter\", \"x\": [1, 2, 3, 4, 5, 6, 7, 8, 9, 10, 11, 12, 13, 14], \"y\": [0.625, 0.6666666666666666, 0.6666666666666666, 0.75, 0.75, 0.75, 0.8333333333333334, 0.875, 0.9166666666666666, 0.9583333333333334, 0.9583333333333334, 1.0, 1.0, 1.0], \"name\": \"extract_features_v2\"}, {\"type\": \"scatter\", \"x\": [1, 2, 3, 4, 5, 6, 7, 8, 9, 10, 11, 12, 13, 14], \"y\": [0.625, 0.9583333333333334, 1.0, 1.0, 1.0, 1.0, 1.0, 1.0, 1.0, 1.0, 1.0, 1.0, 1.0, 1.0], \"name\": \"extract_features_v3\"}, {\"type\": \"scatter\", \"x\": [1, 2, 3, 4, 5, 6, 7, 8, 9, 10, 11, 12, 13, 14], \"y\": [0.5416666666666666, 0.5833333333333334, 0.7083333333333334, 0.7083333333333334, 0.75, 0.7916666666666666, 0.7916666666666666, 0.7916666666666666, 0.7916666666666666, 0.7916666666666666, 0.7916666666666666, 0.7916666666666666, 0.7916666666666666, 0.7916666666666666], \"name\": \"extract_features_v4\"}], {\"yaxis\": {\"title\": \"Accuracy\", \"titlefont\": {\"color\": \"grey\"}}, \"xaxis\": {\"title\": \"Candidates\", \"titlefont\": {\"color\": \"grey\"}}, \"shapes\": [{\"type\": \"line\", \"x0\": 3.4166666666666665, \"x1\": 3.4166666666666665, \"y0\": -0.05, \"y1\": 1.1, \"opacity\": 0.2, \"line\": {\"dash\": \"dash\"}}, {\"type\": \"line\", \"x0\": -0.5, \"x1\": 20, \"y0\": 0.9583333333333334, \"y1\": 0.9583333333333334, \"opacity\": 0.2, \"line\": {\"dash\": \"dash\"}}]}, {\"showLink\": false, \"linkText\": \"Export to plot.ly\"})});</script>"
      ]
     },
     "metadata": {},
     "output_type": "display_data"
    }
   ],
   "source": [
    "iplot(fig, show_link=False)"
   ]
  },
  {
   "cell_type": "code",
   "execution_count": 45,
   "metadata": {},
   "outputs": [],
   "source": [
    "guess_trace = go.Scatter(y=get_nof_guesses(test_set, test_labels))\n",
    "layout = go.Layout(\n",
    "    xaxis=dict(\n",
    "        ticks='',\n",
    "        showticklabels=False,\n",
    "        showgrid=False\n",
    "    ),\n",
    "    shapes=[\n",
    "        {\n",
    "            'type': 'line',\n",
    "            'y0': mean_guess,\n",
    "            'y1': mean_guess,\n",
    "            'x0': -0.1,\n",
    "            'x1': 23,\n",
    "            'opacity': 0.2,\n",
    "            'line': {\n",
    "                'dash': 'dash'\n",
    "            }\n",
    "        },\n",
    "    ]\n",
    ")\n",
    "\n",
    "fig = go.Figure(data=[guess_trace], layout=layout)"
   ]
  },
  {
   "cell_type": "code",
   "execution_count": 46,
   "metadata": {},
   "outputs": [
    {
     "data": {
      "application/vnd.plotly.v1+json": {
       "data": [
        {
         "type": "scatter",
         "y": [
          3,
          5,
          3,
          3,
          4,
          2,
          3,
          5,
          4,
          3,
          2,
          9,
          2,
          2,
          1,
          3,
          1,
          7,
          4,
          5,
          2,
          3,
          2,
          4
         ]
        }
       ],
       "layout": {
        "shapes": [
         {
          "line": {
           "dash": "dash"
          },
          "opacity": 0.2,
          "type": "line",
          "x0": -0.1,
          "x1": 23,
          "y0": 3.4166666666666665,
          "y1": 3.4166666666666665
         }
        ],
        "xaxis": {
         "showgrid": false,
         "showticklabels": false,
         "ticks": ""
        }
       }
      },
      "text/html": [
       "<div id=\"bff4b2f2-1f68-4c03-bc2f-c17093713d45\" style=\"height: 525px; width: 100%;\" class=\"plotly-graph-div\"></div><script type=\"text/javascript\">require([\"plotly\"], function(Plotly) { window.PLOTLYENV=window.PLOTLYENV || {};window.PLOTLYENV.BASE_URL=\"https://plot.ly\";Plotly.newPlot(\"bff4b2f2-1f68-4c03-bc2f-c17093713d45\", [{\"type\": \"scatter\", \"y\": [3, 5, 3, 3, 4, 2, 3, 5, 4, 3, 2, 9, 2, 2, 1, 3, 1, 7, 4, 5, 2, 3, 2, 4]}], {\"xaxis\": {\"ticks\": \"\", \"showticklabels\": false, \"showgrid\": false}, \"shapes\": [{\"type\": \"line\", \"y0\": 3.4166666666666665, \"y1\": 3.4166666666666665, \"x0\": -0.1, \"x1\": 23, \"opacity\": 0.2, \"line\": {\"dash\": \"dash\"}}]}, {\"showLink\": false, \"linkText\": \"Export to plot.ly\"})});</script>"
      ],
      "text/vnd.plotly.v1+html": [
       "<div id=\"bff4b2f2-1f68-4c03-bc2f-c17093713d45\" style=\"height: 525px; width: 100%;\" class=\"plotly-graph-div\"></div><script type=\"text/javascript\">require([\"plotly\"], function(Plotly) { window.PLOTLYENV=window.PLOTLYENV || {};window.PLOTLYENV.BASE_URL=\"https://plot.ly\";Plotly.newPlot(\"bff4b2f2-1f68-4c03-bc2f-c17093713d45\", [{\"type\": \"scatter\", \"y\": [3, 5, 3, 3, 4, 2, 3, 5, 4, 3, 2, 9, 2, 2, 1, 3, 1, 7, 4, 5, 2, 3, 2, 4]}], {\"xaxis\": {\"ticks\": \"\", \"showticklabels\": false, \"showgrid\": false}, \"shapes\": [{\"type\": \"line\", \"y0\": 3.4166666666666665, \"y1\": 3.4166666666666665, \"x0\": -0.1, \"x1\": 23, \"opacity\": 0.2, \"line\": {\"dash\": \"dash\"}}]}, {\"showLink\": false, \"linkText\": \"Export to plot.ly\"})});</script>"
      ]
     },
     "metadata": {},
     "output_type": "display_data"
    }
   ],
   "source": [
    "iplot(fig, show_link=False)"
   ]
  },
  {
   "cell_type": "markdown",
   "metadata": {},
   "source": [
    "## Remove words/stopwords when evaluating accuracy"
   ]
  },
  {
   "cell_type": "code",
   "execution_count": 47,
   "metadata": {},
   "outputs": [],
   "source": [
    "stopwords = set(nltk.corpus.stopwords.words())\n",
    "\n",
    "def eval_accuracy_spec(classifier, extractor, sentences: list, labels: list, cve_ids: list, n=1) -> float:\n",
    "    from collections import Counter\n",
    "    \n",
    "    assert len(sentences) == len(labels)\n",
    "    \n",
    "    accurates = [None] * len(labels)\n",
    "    for i, sent in enumerate(sentences):\n",
    "        tagged = nltk.pos_tag(nltk.word_tokenize(sent), tagset='universal')\n",
    "        prob_dist = [classifier.prob_classify(extractor(tagged, j, cve_ids[i])) for j in range(len(tagged))]\n",
    "        # get probs and remove stopwords\n",
    "        probs = [(word, tag, prob.prob(True)) for (word, tag), prob in zip(tagged, prob_dist) if word not in stopwords and tag == 'NOUN']\n",
    "        probs = sorted(probs, key=lambda x: x[2], reverse=True)\n",
    "        \n",
    "        most_prob = set([prob[0].lower() for prob in probs[:n]])\n",
    "        accurates[i] = labels[i] in most_prob\n",
    "    \n",
    "#         if not accurates[i]:\n",
    "#             print('Sentence: ', sent)\n",
    "#             print('Expected: `%s`' % labels[i], 'got: `%s`' % most_prob)\n",
    "    \n",
    "    bag = Counter(accurates)\n",
    "    return bag[True] / len(labels)"
   ]
  },
  {
   "cell_type": "code",
   "execution_count": 48,
   "metadata": {},
   "outputs": [
    {
     "name": "stdout",
     "output_type": "stream",
     "text": [
      "Most Informative Features\n",
      "             next_bigram = None            False : True   =     40.0 : 1.0\n",
      "             next_bigram = '3.0 .'          True : False  =     34.2 : 1.0\n",
      "        next_bigram-tags = 'NUM ADJ'        True : False  =     24.4 : 1.0\n",
      "             prev_bigram = None            False : True   =     24.3 : 1.0\n",
      "             version_pos = 1                True : False  =     13.9 : 1.0\n",
      "        next_bigram-tags = 'NUM .'          True : False  =     12.7 : 1.0\n",
      "        next_bigram-tags = 'NUM CONJ'       True : False  =      8.1 : 1.0\n",
      "        next_bigram-tags = 'NUM NOUN'       True : False  =      6.6 : 1.0\n",
      "             version_pos = None            False : True   =      6.0 : 1.0\n",
      "                     tag = 'ADV'            True : False  =      5.5 : 1.0\n"
     ]
    }
   ],
   "source": [
    "accuracy_list = list()\n",
    "for i, extractor in enumerate(feature_extractors):\n",
    "    # Lets not split the dataset here for now\n",
    "    feature_list = create_feature_list_long(extractor, train_set, train_labels, cve_ids[split:])\n",
    "\n",
    "    classifier = nltk.NaiveBayesClassifier.train(feature_list)\n",
    "#     classifier.show_most_informative_features()\n",
    "    \n",
    "    accuracy_list.append([eval_accuracy_spec(classifier, extractor, test_set, test_labels, cve_ids[:split], i) for i in x])\n",
    "    \n",
    "feature_list = create_feature_list_v2(extract_features_v4, train_set, train_labels, cve_ids)\n",
    "\n",
    "classifier = nltk.NaiveBayesClassifier.train(feature_list)\n",
    "classifier.show_most_informative_features()\n",
    "\n",
    "accuracy_list.append([eval_accuracy_v2(classifier, extract_features_v4, test_set, test_labels, cve_ids, i) for i in x])"
   ]
  },
  {
   "cell_type": "code",
   "execution_count": 49,
   "metadata": {},
   "outputs": [],
   "source": [
    "trace_names = ['vanilla_extractor'] + ['extract_features_v%d' % i for i in range(len(accuracy_list))]\n",
    "data = [go.Scatter(x=x, y=ac, name=trace_names[i]) for i, ac in enumerate(accuracy_list)]\n",
    "\n",
    "layout = go.Layout(\n",
    "    yaxis=dict(\n",
    "        title='Accuracy',\n",
    "        titlefont=dict(\n",
    "            color='grey'\n",
    "        )\n",
    "    ),\n",
    "    xaxis=dict(\n",
    "        title='Candidates',\n",
    "        titlefont=dict(\n",
    "            color='grey'\n",
    "        )\n",
    "    ),\n",
    "    shapes=[\n",
    "        {\n",
    "            'type': 'line',\n",
    "            'x0': mean_guess,\n",
    "            'x1': mean_guess,\n",
    "            'y0': -0.05,\n",
    "            'y1': 1.1,\n",
    "            'opacity': 0.2,\n",
    "            'line': {\n",
    "                'dash': 'dash'\n",
    "            }\n",
    "        },\n",
    "        {\n",
    "            'type': 'line',\n",
    "            'x0': -0.5,\n",
    "            'x1': 20,\n",
    "            'y0': old_accuracy,\n",
    "            'y1': old_accuracy,\n",
    "            'opacity': 0.2,\n",
    "            'line': {\n",
    "                'dash': 'dash'\n",
    "            }\n",
    "        }\n",
    "    ]\n",
    ")\n",
    "\n",
    "fig = go.Figure(data=data, layout=layout)"
   ]
  },
  {
   "cell_type": "code",
   "execution_count": 50,
   "metadata": {},
   "outputs": [
    {
     "data": {
      "application/vnd.plotly.v1+json": {
       "data": [
        {
         "name": "vanilla_extractor",
         "type": "scatter",
         "x": [
          1,
          2,
          3,
          4,
          5,
          6,
          7,
          8,
          9,
          10,
          11,
          12,
          13,
          14
         ],
         "y": [
          0.041666666666666664,
          0.08333333333333333,
          0.16666666666666666,
          0.375,
          0.5416666666666666,
          0.6666666666666666,
          0.7916666666666666,
          0.875,
          0.875,
          0.875,
          0.9583333333333334,
          0.9583333333333334,
          0.9583333333333334,
          0.9583333333333334
         ]
        },
        {
         "name": "extract_features_v0",
         "type": "scatter",
         "x": [
          1,
          2,
          3,
          4,
          5,
          6,
          7,
          8,
          9,
          10,
          11,
          12,
          13,
          14
         ],
         "y": [
          0.7083333333333334,
          0.8333333333333334,
          0.9583333333333334,
          1,
          1,
          1,
          1,
          1,
          1,
          1,
          1,
          1,
          1,
          1
         ]
        },
        {
         "name": "extract_features_v1",
         "type": "scatter",
         "x": [
          1,
          2,
          3,
          4,
          5,
          6,
          7,
          8,
          9,
          10,
          11,
          12,
          13,
          14
         ],
         "y": [
          0.5833333333333334,
          0.7083333333333334,
          0.7083333333333334,
          0.8333333333333334,
          0.8333333333333334,
          0.9166666666666666,
          1,
          1,
          1,
          1,
          1,
          1,
          1,
          1
         ]
        },
        {
         "name": "extract_features_v2",
         "type": "scatter",
         "x": [
          1,
          2,
          3,
          4,
          5,
          6,
          7,
          8,
          9,
          10,
          11,
          12,
          13,
          14
         ],
         "y": [
          0.625,
          0.7083333333333334,
          0.875,
          0.875,
          0.9583333333333334,
          1,
          1,
          1,
          1,
          1,
          1,
          1,
          1,
          1
         ]
        },
        {
         "name": "extract_features_v3",
         "type": "scatter",
         "x": [
          1,
          2,
          3,
          4,
          5,
          6,
          7,
          8,
          9,
          10,
          11,
          12,
          13,
          14
         ],
         "y": [
          0.8333333333333334,
          1,
          1,
          1,
          1,
          1,
          1,
          1,
          1,
          1,
          1,
          1,
          1,
          1
         ]
        },
        {
         "name": "extract_features_v4",
         "type": "scatter",
         "x": [
          1,
          2,
          3,
          4,
          5,
          6,
          7,
          8,
          9,
          10,
          11,
          12,
          13,
          14
         ],
         "y": [
          0.5416666666666666,
          0.5833333333333334,
          0.7083333333333334,
          0.7083333333333334,
          0.75,
          0.7916666666666666,
          0.7916666666666666,
          0.7916666666666666,
          0.7916666666666666,
          0.7916666666666666,
          0.7916666666666666,
          0.7916666666666666,
          0.7916666666666666,
          0.7916666666666666
         ]
        }
       ],
       "layout": {
        "shapes": [
         {
          "line": {
           "dash": "dash"
          },
          "opacity": 0.2,
          "type": "line",
          "x0": 3.4166666666666665,
          "x1": 3.4166666666666665,
          "y0": -0.05,
          "y1": 1.1
         },
         {
          "line": {
           "dash": "dash"
          },
          "opacity": 0.2,
          "type": "line",
          "x0": -0.5,
          "x1": 20,
          "y0": 0.9583333333333334,
          "y1": 0.9583333333333334
         }
        ],
        "xaxis": {
         "title": "Candidates",
         "titlefont": {
          "color": "grey"
         }
        },
        "yaxis": {
         "title": "Accuracy",
         "titlefont": {
          "color": "grey"
         }
        }
       }
      },
      "text/html": [
       "<div id=\"8e83c8b7-cff1-42b4-9483-43cbb136742f\" style=\"height: 525px; width: 100%;\" class=\"plotly-graph-div\"></div><script type=\"text/javascript\">require([\"plotly\"], function(Plotly) { window.PLOTLYENV=window.PLOTLYENV || {};window.PLOTLYENV.BASE_URL=\"https://plot.ly\";Plotly.newPlot(\"8e83c8b7-cff1-42b4-9483-43cbb136742f\", [{\"type\": \"scatter\", \"x\": [1, 2, 3, 4, 5, 6, 7, 8, 9, 10, 11, 12, 13, 14], \"y\": [0.041666666666666664, 0.08333333333333333, 0.16666666666666666, 0.375, 0.5416666666666666, 0.6666666666666666, 0.7916666666666666, 0.875, 0.875, 0.875, 0.9583333333333334, 0.9583333333333334, 0.9583333333333334, 0.9583333333333334], \"name\": \"vanilla_extractor\"}, {\"type\": \"scatter\", \"x\": [1, 2, 3, 4, 5, 6, 7, 8, 9, 10, 11, 12, 13, 14], \"y\": [0.7083333333333334, 0.8333333333333334, 0.9583333333333334, 1.0, 1.0, 1.0, 1.0, 1.0, 1.0, 1.0, 1.0, 1.0, 1.0, 1.0], \"name\": \"extract_features_v0\"}, {\"type\": \"scatter\", \"x\": [1, 2, 3, 4, 5, 6, 7, 8, 9, 10, 11, 12, 13, 14], \"y\": [0.5833333333333334, 0.7083333333333334, 0.7083333333333334, 0.8333333333333334, 0.8333333333333334, 0.9166666666666666, 1.0, 1.0, 1.0, 1.0, 1.0, 1.0, 1.0, 1.0], \"name\": \"extract_features_v1\"}, {\"type\": \"scatter\", \"x\": [1, 2, 3, 4, 5, 6, 7, 8, 9, 10, 11, 12, 13, 14], \"y\": [0.625, 0.7083333333333334, 0.875, 0.875, 0.9583333333333334, 1.0, 1.0, 1.0, 1.0, 1.0, 1.0, 1.0, 1.0, 1.0], \"name\": \"extract_features_v2\"}, {\"type\": \"scatter\", \"x\": [1, 2, 3, 4, 5, 6, 7, 8, 9, 10, 11, 12, 13, 14], \"y\": [0.8333333333333334, 1.0, 1.0, 1.0, 1.0, 1.0, 1.0, 1.0, 1.0, 1.0, 1.0, 1.0, 1.0, 1.0], \"name\": \"extract_features_v3\"}, {\"type\": \"scatter\", \"x\": [1, 2, 3, 4, 5, 6, 7, 8, 9, 10, 11, 12, 13, 14], \"y\": [0.5416666666666666, 0.5833333333333334, 0.7083333333333334, 0.7083333333333334, 0.75, 0.7916666666666666, 0.7916666666666666, 0.7916666666666666, 0.7916666666666666, 0.7916666666666666, 0.7916666666666666, 0.7916666666666666, 0.7916666666666666, 0.7916666666666666], \"name\": \"extract_features_v4\"}], {\"yaxis\": {\"title\": \"Accuracy\", \"titlefont\": {\"color\": \"grey\"}}, \"xaxis\": {\"title\": \"Candidates\", \"titlefont\": {\"color\": \"grey\"}}, \"shapes\": [{\"type\": \"line\", \"x0\": 3.4166666666666665, \"x1\": 3.4166666666666665, \"y0\": -0.05, \"y1\": 1.1, \"opacity\": 0.2, \"line\": {\"dash\": \"dash\"}}, {\"type\": \"line\", \"x0\": -0.5, \"x1\": 20, \"y0\": 0.9583333333333334, \"y1\": 0.9583333333333334, \"opacity\": 0.2, \"line\": {\"dash\": \"dash\"}}]}, {\"showLink\": false, \"linkText\": \"Export to plot.ly\"})});</script>"
      ],
      "text/vnd.plotly.v1+html": [
       "<div id=\"8e83c8b7-cff1-42b4-9483-43cbb136742f\" style=\"height: 525px; width: 100%;\" class=\"plotly-graph-div\"></div><script type=\"text/javascript\">require([\"plotly\"], function(Plotly) { window.PLOTLYENV=window.PLOTLYENV || {};window.PLOTLYENV.BASE_URL=\"https://plot.ly\";Plotly.newPlot(\"8e83c8b7-cff1-42b4-9483-43cbb136742f\", [{\"type\": \"scatter\", \"x\": [1, 2, 3, 4, 5, 6, 7, 8, 9, 10, 11, 12, 13, 14], \"y\": [0.041666666666666664, 0.08333333333333333, 0.16666666666666666, 0.375, 0.5416666666666666, 0.6666666666666666, 0.7916666666666666, 0.875, 0.875, 0.875, 0.9583333333333334, 0.9583333333333334, 0.9583333333333334, 0.9583333333333334], \"name\": \"vanilla_extractor\"}, {\"type\": \"scatter\", \"x\": [1, 2, 3, 4, 5, 6, 7, 8, 9, 10, 11, 12, 13, 14], \"y\": [0.7083333333333334, 0.8333333333333334, 0.9583333333333334, 1.0, 1.0, 1.0, 1.0, 1.0, 1.0, 1.0, 1.0, 1.0, 1.0, 1.0], \"name\": \"extract_features_v0\"}, {\"type\": \"scatter\", \"x\": [1, 2, 3, 4, 5, 6, 7, 8, 9, 10, 11, 12, 13, 14], \"y\": [0.5833333333333334, 0.7083333333333334, 0.7083333333333334, 0.8333333333333334, 0.8333333333333334, 0.9166666666666666, 1.0, 1.0, 1.0, 1.0, 1.0, 1.0, 1.0, 1.0], \"name\": \"extract_features_v1\"}, {\"type\": \"scatter\", \"x\": [1, 2, 3, 4, 5, 6, 7, 8, 9, 10, 11, 12, 13, 14], \"y\": [0.625, 0.7083333333333334, 0.875, 0.875, 0.9583333333333334, 1.0, 1.0, 1.0, 1.0, 1.0, 1.0, 1.0, 1.0, 1.0], \"name\": \"extract_features_v2\"}, {\"type\": \"scatter\", \"x\": [1, 2, 3, 4, 5, 6, 7, 8, 9, 10, 11, 12, 13, 14], \"y\": [0.8333333333333334, 1.0, 1.0, 1.0, 1.0, 1.0, 1.0, 1.0, 1.0, 1.0, 1.0, 1.0, 1.0, 1.0], \"name\": \"extract_features_v3\"}, {\"type\": \"scatter\", \"x\": [1, 2, 3, 4, 5, 6, 7, 8, 9, 10, 11, 12, 13, 14], \"y\": [0.5416666666666666, 0.5833333333333334, 0.7083333333333334, 0.7083333333333334, 0.75, 0.7916666666666666, 0.7916666666666666, 0.7916666666666666, 0.7916666666666666, 0.7916666666666666, 0.7916666666666666, 0.7916666666666666, 0.7916666666666666, 0.7916666666666666], \"name\": \"extract_features_v4\"}], {\"yaxis\": {\"title\": \"Accuracy\", \"titlefont\": {\"color\": \"grey\"}}, \"xaxis\": {\"title\": \"Candidates\", \"titlefont\": {\"color\": \"grey\"}}, \"shapes\": [{\"type\": \"line\", \"x0\": 3.4166666666666665, \"x1\": 3.4166666666666665, \"y0\": -0.05, \"y1\": 1.1, \"opacity\": 0.2, \"line\": {\"dash\": \"dash\"}}, {\"type\": \"line\", \"x0\": -0.5, \"x1\": 20, \"y0\": 0.9583333333333334, \"y1\": 0.9583333333333334, \"opacity\": 0.2, \"line\": {\"dash\": \"dash\"}}]}, {\"showLink\": false, \"linkText\": \"Export to plot.ly\"})});</script>"
      ]
     },
     "metadata": {},
     "output_type": "display_data"
    }
   ],
   "source": [
    "iplot(fig, show_link=False)"
   ]
  },
  {
   "cell_type": "markdown",
   "metadata": {},
   "source": [
    "## Try predictions on df"
   ]
  },
  {
   "cell_type": "code",
   "execution_count": 51,
   "metadata": {},
   "outputs": [
    {
     "name": "stdout",
     "output_type": "stream",
     "text": [
      "<class 'pandas.core.frame.DataFrame'>\n",
      "MultiIndex: 1125 entries, (Microsoft, ChakraCore) to (memcached, memcached)\n",
      "Data columns (total 7 columns):\n",
      "cve_id           1125 non-null object\n",
      "url              1125 non-null object\n",
      "description      1125 non-null object\n",
      "version_range    1125 non-null object\n",
      "Java             1125 non-null int64\n",
      "JavaScript       1125 non-null int64\n",
      "Python           1125 non-null int64\n",
      "dtypes: int64(3), object(4)\n",
      "memory usage: 81.9+ KB\n"
     ]
    }
   ],
   "source": [
    "df.info()"
   ]
  },
  {
   "cell_type": "code",
   "execution_count": 52,
   "metadata": {},
   "outputs": [],
   "source": [
    "def predict(sent:str, classifier=None, extractor=None, cve_id: list = None, n=1) -> float:\n",
    "    tagged = nltk.pos_tag(nltk.word_tokenize(sent), tagset='universal')\n",
    "    \n",
    "    prob_dist = [classifier.prob_classify(extractor(tagged, j, cve_id)) for j in range(len(tagged))]\n",
    "    \n",
    "    probs = [(word, tag, prob.prob(True)) for (word, tag), prob in zip(tagged, prob_dist) if word not in stopwords and tag == 'NOUN' and not re.match(u\"version[s]?\", word)]\n",
    "    probs = sorted(probs, key=lambda x: x[2], reverse=True)\n",
    "\n",
    "    return probs[:n]"
   ]
  },
  {
   "cell_type": "code",
   "execution_count": 53,
   "metadata": {},
   "outputs": [],
   "source": [
    "# Choose a classifier and train it on the whole df\n",
    "feature_list = create_feature_list_long(extract_features_v3, descriptions, labels, cve_ids)\n",
    "classifier = nltk.NaiveBayesClassifier.train(feature_list)"
   ]
  },
  {
   "cell_type": "code",
   "execution_count": 54,
   "metadata": {},
   "outputs": [],
   "source": [
    "predictions = [None] * len(df)\n",
    "for i, desc in enumerate(df.description.values):\n",
    "    probs = predict(desc, classifier, extract_features_v3, cve_id=df.cve_id.values[i], n=3)\n",
    "    predictions[i] = probs"
   ]
  },
  {
   "cell_type": "code",
   "execution_count": 55,
   "metadata": {},
   "outputs": [],
   "source": [
    "# get just the names\n",
    "pred_proj_names = [tuple(zip(*p))[0] for p in predictions]"
   ]
  },
  {
   "cell_type": "code",
   "execution_count": 56,
   "metadata": {},
   "outputs": [],
   "source": [
    "pred_df = pd.Series(pred_proj_names, name='prediction')"
   ]
  },
  {
   "cell_type": "code",
   "execution_count": 58,
   "metadata": {
    "scrolled": true
   },
   "outputs": [
    {
     "data": {
      "text/html": [
       "<style  type=\"text/css\" >\n",
       "</style>  \n",
       "<table id=\"T_00d29ea0_27a5_11e8_850f_c85b7694a487\" > \n",
       "<thead>    <tr> \n",
       "        <th class=\"blank level0\" ></th> \n",
       "        <th class=\"col_heading level0 col0\" >username</th> \n",
       "        <th class=\"col_heading level0 col1\" >project</th> \n",
       "        <th class=\"col_heading level0 col2\" >description</th> \n",
       "        <th class=\"col_heading level0 col3\" >prediction</th> \n",
       "    </tr></thead> \n",
       "<tbody>    <tr> \n",
       "        <th id=\"T_00d29ea0_27a5_11e8_850f_c85b7694a487\" class=\"row_heading level0 row0\" >0</th> \n",
       "        <td id=\"T_00d29ea0_27a5_11e8_850f_c85b7694a487row0_col0\" class=\"data row0 col0\" >paintballrefjosh</td> \n",
       "        <td id=\"T_00d29ea0_27a5_11e8_850f_c85b7694a487row0_col1\" class=\"data row0 col1\" >MaNGOSWebV4</td> \n",
       "        <td id=\"T_00d29ea0_27a5_11e8_850f_c85b7694a487row0_col2\" class=\"data row0 col2\" >paintballrefjosh/MaNGOSWebV4 4.0.8 is vulnerable to a reflected XSS in inc/admin/template_files/admin.faq.php (id parameter).</td> \n",
       "        <td id=\"T_00d29ea0_27a5_11e8_850f_c85b7694a487row0_col3\" class=\"data row0 col3\" >('paintballrefjosh/MaNGOSWebV4', 'parameter', 'inc/admin/template_files/admin.faq.php')</td> \n",
       "    </tr>    <tr> \n",
       "        <th id=\"T_00d29ea0_27a5_11e8_850f_c85b7694a487\" class=\"row_heading level0 row1\" >1</th> \n",
       "        <td id=\"T_00d29ea0_27a5_11e8_850f_c85b7694a487row1_col0\" class=\"data row1 col0\" >paintballrefjosh</td> \n",
       "        <td id=\"T_00d29ea0_27a5_11e8_850f_c85b7694a487row1_col1\" class=\"data row1 col1\" >MaNGOSWebV4</td> \n",
       "        <td id=\"T_00d29ea0_27a5_11e8_850f_c85b7694a487row1_col2\" class=\"data row1 col2\" >paintballrefjosh/MaNGOSWebV4 4.0.8 is vulnerable to a reflected XSS in inc/admin/template_files/admin.donate.php (id parameter).</td> \n",
       "        <td id=\"T_00d29ea0_27a5_11e8_850f_c85b7694a487row1_col3\" class=\"data row1 col3\" >('paintballrefjosh/MaNGOSWebV4', 'parameter', 'inc/admin/template_files/admin.donate.php')</td> \n",
       "    </tr>    <tr> \n",
       "        <th id=\"T_00d29ea0_27a5_11e8_850f_c85b7694a487\" class=\"row_heading level0 row2\" >2</th> \n",
       "        <td id=\"T_00d29ea0_27a5_11e8_850f_c85b7694a487row2_col0\" class=\"data row2 col0\" >paintballrefjosh</td> \n",
       "        <td id=\"T_00d29ea0_27a5_11e8_850f_c85b7694a487row2_col1\" class=\"data row2 col1\" >MaNGOSWebV4</td> \n",
       "        <td id=\"T_00d29ea0_27a5_11e8_850f_c85b7694a487row2_col2\" class=\"data row2 col2\" >paintballrefjosh/MaNGOSWebV4 4.0.8 is vulnerable to a reflected XSS in inc/admin/template_files/admin.fplinks.php (linkid parameter).</td> \n",
       "        <td id=\"T_00d29ea0_27a5_11e8_850f_c85b7694a487row2_col3\" class=\"data row2 col3\" >('paintballrefjosh/MaNGOSWebV4', 'parameter', 'inc/admin/template_files/admin.fplinks.php')</td> \n",
       "    </tr>    <tr> \n",
       "        <th id=\"T_00d29ea0_27a5_11e8_850f_c85b7694a487\" class=\"row_heading level0 row3\" >3</th> \n",
       "        <td id=\"T_00d29ea0_27a5_11e8_850f_c85b7694a487row3_col0\" class=\"data row3 col0\" >paintballrefjosh</td> \n",
       "        <td id=\"T_00d29ea0_27a5_11e8_850f_c85b7694a487row3_col1\" class=\"data row3 col1\" >MaNGOSWebV4</td> \n",
       "        <td id=\"T_00d29ea0_27a5_11e8_850f_c85b7694a487row3_col2\" class=\"data row3 col2\" >paintballrefjosh/MaNGOSWebV4 4.0.8 is vulnerable to a reflected XSS in inc/admin/template_files/admin.shop.php (id parameter).</td> \n",
       "        <td id=\"T_00d29ea0_27a5_11e8_850f_c85b7694a487row3_col3\" class=\"data row3 col3\" >('paintballrefjosh/MaNGOSWebV4', 'parameter', 'inc/admin/template_files/admin.shop.php')</td> \n",
       "    </tr>    <tr> \n",
       "        <th id=\"T_00d29ea0_27a5_11e8_850f_c85b7694a487\" class=\"row_heading level0 row4\" >4</th> \n",
       "        <td id=\"T_00d29ea0_27a5_11e8_850f_c85b7694a487row4_col0\" class=\"data row4 col0\" >paintballrefjosh</td> \n",
       "        <td id=\"T_00d29ea0_27a5_11e8_850f_c85b7694a487row4_col1\" class=\"data row4 col1\" >MaNGOSWebV4</td> \n",
       "        <td id=\"T_00d29ea0_27a5_11e8_850f_c85b7694a487row4_col2\" class=\"data row4 col2\" >paintballrefjosh/MaNGOSWebV4 4.0.8 is vulnerable to a reflected XSS in inc/admin/template_files/admin.vote.php (id parameter).</td> \n",
       "        <td id=\"T_00d29ea0_27a5_11e8_850f_c85b7694a487row4_col3\" class=\"data row4 col3\" >('paintballrefjosh/MaNGOSWebV4', 'parameter', 'inc/admin/template_files/admin.vote.php')</td> \n",
       "    </tr>    <tr> \n",
       "        <th id=\"T_00d29ea0_27a5_11e8_850f_c85b7694a487\" class=\"row_heading level0 row5\" >5</th> \n",
       "        <td id=\"T_00d29ea0_27a5_11e8_850f_c85b7694a487row5_col0\" class=\"data row5 col0\" >phpipam</td> \n",
       "        <td id=\"T_00d29ea0_27a5_11e8_850f_c85b7694a487row5_col1\" class=\"data row5 col1\" >phpipam</td> \n",
       "        <td id=\"T_00d29ea0_27a5_11e8_850f_c85b7694a487row5_col2\" class=\"data row5 col2\" >Multiple Cross-Site Scripting (XSS) issues were discovered in phpipam 1.2. The vulnerabilities exist due to insufficient filtration of user-supplied data passed to several pages (instructions in app/admin/instructions/preview.php; subnetId in app/admin/powerDNS/refresh-ptr-records.php). An attacker could execute arbitrary HTML and script code in a browser in the context of the vulnerable website.</td> \n",
       "        <td id=\"T_00d29ea0_27a5_11e8_850f_c85b7694a487row5_col3\" class=\"data row5 col3\" >('pages', 'app/admin/instructions/preview.php', 'Cross-Site')</td> \n",
       "    </tr>    <tr> \n",
       "        <th id=\"T_00d29ea0_27a5_11e8_850f_c85b7694a487\" class=\"row_heading level0 row6\" >6</th> \n",
       "        <td id=\"T_00d29ea0_27a5_11e8_850f_c85b7694a487row6_col0\" class=\"data row6 col0\" >reasoncms</td> \n",
       "        <td id=\"T_00d29ea0_27a5_11e8_850f_c85b7694a487row6_col1\" class=\"data row6 col1\" >reasoncms</td> \n",
       "        <td id=\"T_00d29ea0_27a5_11e8_850f_c85b7694a487row6_col2\" class=\"data row6 col2\" >A Cross-Site Scripting (XSS) issue was discovered in reasoncms before 4.7.1. The vulnerability exists due to insufficient filtration of user-supplied data (nyroModalSel) passed to the \"reasoncms-master/www/nyroModal/demoSent.php\" URL. An attacker could execute arbitrary HTML and script code in a browser in the context of the vulnerable website.</td> \n",
       "        <td id=\"T_00d29ea0_27a5_11e8_850f_c85b7694a487row6_col3\" class=\"data row6 col3\" >('reasoncms', 'Scripting', 'data')</td> \n",
       "    </tr>    <tr> \n",
       "        <th id=\"T_00d29ea0_27a5_11e8_850f_c85b7694a487\" class=\"row_heading level0 row7\" >7</th> \n",
       "        <td id=\"T_00d29ea0_27a5_11e8_850f_c85b7694a487row7_col0\" class=\"data row7 col0\" >Telaxus</td> \n",
       "        <td id=\"T_00d29ea0_27a5_11e8_850f_c85b7694a487row7_col1\" class=\"data row7 col1\" >EPESI</td> \n",
       "        <td id=\"T_00d29ea0_27a5_11e8_850f_c85b7694a487row7_col2\" class=\"data row7 col2\" >Multiple Cross-Site Scripting (XSS) issues were discovered in EPESI 1.8.1.1. The vulnerabilities exist due to insufficient filtration of user-supplied data (state, element, id, tab, cid) passed to the \"EPESI-master/modules/Utils/RecordBrowser/favorites.php\" URL. An attacker could execute arbitrary HTML and script code in a browser in the context of the vulnerable website.</td> \n",
       "        <td id=\"T_00d29ea0_27a5_11e8_850f_c85b7694a487row7_col3\" class=\"data row7 col3\" >('EPESI', 'Cross-Site', 'Scripting')</td> \n",
       "    </tr>    <tr> \n",
       "        <th id=\"T_00d29ea0_27a5_11e8_850f_c85b7694a487\" class=\"row_heading level0 row8\" >8</th> \n",
       "        <td id=\"T_00d29ea0_27a5_11e8_850f_c85b7694a487row8_col0\" class=\"data row8 col0\" >Telaxus</td> \n",
       "        <td id=\"T_00d29ea0_27a5_11e8_850f_c85b7694a487row8_col1\" class=\"data row8 col1\" >EPESI</td> \n",
       "        <td id=\"T_00d29ea0_27a5_11e8_850f_c85b7694a487row8_col2\" class=\"data row8 col2\" >Multiple Cross-Site Scripting (XSS) issues were discovered in EPESI 1.8.1.1. The vulnerabilities exist due to insufficient filtration of user-supplied data (visible, tab, cid) passed to the EPESI-master/modules/Utils/RecordBrowser/Filters/save_filters.php URL. An attacker could execute arbitrary HTML and script code in a browser in the context of the vulnerable website.</td> \n",
       "        <td id=\"T_00d29ea0_27a5_11e8_850f_c85b7694a487row8_col3\" class=\"data row8 col3\" >('EPESI', 'Cross-Site', 'Scripting')</td> \n",
       "    </tr>    <tr> \n",
       "        <th id=\"T_00d29ea0_27a5_11e8_850f_c85b7694a487\" class=\"row_heading level0 row9\" >9</th> \n",
       "        <td id=\"T_00d29ea0_27a5_11e8_850f_c85b7694a487row9_col0\" class=\"data row9 col0\" >Telaxus</td> \n",
       "        <td id=\"T_00d29ea0_27a5_11e8_850f_c85b7694a487row9_col1\" class=\"data row9 col1\" >EPESI</td> \n",
       "        <td id=\"T_00d29ea0_27a5_11e8_850f_c85b7694a487row9_col2\" class=\"data row9 col2\" >Multiple Cross-Site Scripting (XSS) issues were discovered in EPESI 1.8.1.1. The vulnerabilities exist due to insufficient filtration of user-supplied data (element, state, cat, id, cid) passed to the EPESI-master/modules/Utils/Watchdog/subscribe.php URL. An attacker could execute arbitrary HTML and script code in a browser in the context of the vulnerable website.</td> \n",
       "        <td id=\"T_00d29ea0_27a5_11e8_850f_c85b7694a487row9_col3\" class=\"data row9 col3\" >('EPESI', 'Cross-Site', 'Scripting')</td> \n",
       "    </tr>    <tr> \n",
       "        <th id=\"T_00d29ea0_27a5_11e8_850f_c85b7694a487\" class=\"row_heading level0 row10\" >10</th> \n",
       "        <td id=\"T_00d29ea0_27a5_11e8_850f_c85b7694a487row10_col0\" class=\"data row10 col0\" >Telaxus</td> \n",
       "        <td id=\"T_00d29ea0_27a5_11e8_850f_c85b7694a487row10_col1\" class=\"data row10 col1\" >EPESI</td> \n",
       "        <td id=\"T_00d29ea0_27a5_11e8_850f_c85b7694a487row10_col2\" class=\"data row10 col2\" >Multiple Cross-Site Scripting (XSS) issues were discovered in EPESI 1.8.1.1. The vulnerabilities exist due to insufficient filtration of user-supplied data (cid, value, element, mode, tab, form_name, id) passed to the EPESI-master/modules/Utils/RecordBrowser/grid.php URL. An attacker could execute arbitrary HTML and script code in a browser in the context of the vulnerable website.</td> \n",
       "        <td id=\"T_00d29ea0_27a5_11e8_850f_c85b7694a487row10_col3\" class=\"data row10 col3\" >('EPESI', 'Cross-Site', 'Scripting')</td> \n",
       "    </tr>    <tr> \n",
       "        <th id=\"T_00d29ea0_27a5_11e8_850f_c85b7694a487\" class=\"row_heading level0 row11\" >11</th> \n",
       "        <td id=\"T_00d29ea0_27a5_11e8_850f_c85b7694a487row11_col0\" class=\"data row11 col0\" >Telaxus</td> \n",
       "        <td id=\"T_00d29ea0_27a5_11e8_850f_c85b7694a487row11_col1\" class=\"data row11 col1\" >EPESI</td> \n",
       "        <td id=\"T_00d29ea0_27a5_11e8_850f_c85b7694a487row11_col2\" class=\"data row11 col2\" >Multiple Cross-Site Scripting (XSS) issues were discovered in EPESI 1.8.1.1. The vulnerabilities exist due to insufficient filtration of user-supplied data (tooltip_id, callback, args, cid) passed to the EPESI-master/modules/Utils/Tooltip/req.php URL. An attacker could execute arbitrary HTML and script code in a browser in the context of the vulnerable website.</td> \n",
       "        <td id=\"T_00d29ea0_27a5_11e8_850f_c85b7694a487row11_col3\" class=\"data row11 col3\" >('EPESI', 'Cross-Site', 'Scripting')</td> \n",
       "    </tr>    <tr> \n",
       "        <th id=\"T_00d29ea0_27a5_11e8_850f_c85b7694a487\" class=\"row_heading level0 row12\" >12</th> \n",
       "        <td id=\"T_00d29ea0_27a5_11e8_850f_c85b7694a487row12_col0\" class=\"data row12 col0\" >Telaxus</td> \n",
       "        <td id=\"T_00d29ea0_27a5_11e8_850f_c85b7694a487row12_col1\" class=\"data row12 col1\" >EPESI</td> \n",
       "        <td id=\"T_00d29ea0_27a5_11e8_850f_c85b7694a487row12_col2\" class=\"data row12 col2\" >Cross-site scripting (XSS) vulnerability in modules/Base/Box/check_for_new_version.php in EPESI in Telaxus/EPESI 1.8.2 and earlier allows remote attackers to inject arbitrary web script or HTML via a crafted URI that lacks the cid parameter.</td> \n",
       "        <td id=\"T_00d29ea0_27a5_11e8_850f_c85b7694a487row12_col3\" class=\"data row12 col3\" >('EPESI', 'Telaxus/EPESI', 'modules/Base/Box/check_for_new_version.php')</td> \n",
       "    </tr>    <tr> \n",
       "        <th id=\"T_00d29ea0_27a5_11e8_850f_c85b7694a487\" class=\"row_heading level0 row13\" >13</th> \n",
       "        <td id=\"T_00d29ea0_27a5_11e8_850f_c85b7694a487row13_col0\" class=\"data row13 col0\" >Telaxus</td> \n",
       "        <td id=\"T_00d29ea0_27a5_11e8_850f_c85b7694a487row13_col1\" class=\"data row13 col1\" >EPESI</td> \n",
       "        <td id=\"T_00d29ea0_27a5_11e8_850f_c85b7694a487row13_col2\" class=\"data row13 col2\" >The Agenda component in Telaxus EPESI 1.8.2 and earlier has a Stored Cross-site Scripting (XSS) vulnerability in modules/Utils/RecordBrowser/RecordBrowserCommon_0.php, which allows remote attackers to inject arbitrary web script or HTML via a crafted meeting description parameter.</td> \n",
       "        <td id=\"T_00d29ea0_27a5_11e8_850f_c85b7694a487row13_col3\" class=\"data row13 col3\" >('EPESI', 'Telaxus', 'component')</td> \n",
       "    </tr>    <tr> \n",
       "        <th id=\"T_00d29ea0_27a5_11e8_850f_c85b7694a487\" class=\"row_heading level0 row14\" >14</th> \n",
       "        <td id=\"T_00d29ea0_27a5_11e8_850f_c85b7694a487row14_col0\" class=\"data row14 col0\" >Telaxus</td> \n",
       "        <td id=\"T_00d29ea0_27a5_11e8_850f_c85b7694a487row14_col1\" class=\"data row14 col1\" >EPESI</td> \n",
       "        <td id=\"T_00d29ea0_27a5_11e8_850f_c85b7694a487row14_col2\" class=\"data row14 col2\" >Telaxus EPESI 1.8.2 and earlier has a Stored Cross-site Scripting (XSS) vulnerability in modules/Base/Dashboard/Dashboard_0.php, which allows remote attackers to inject arbitrary web script or HTML via a crafted tab_name parameter.</td> \n",
       "        <td id=\"T_00d29ea0_27a5_11e8_850f_c85b7694a487row14_col3\" class=\"data row14 col3\" >('EPESI', 'Telaxus', 'script')</td> \n",
       "    </tr>    <tr> \n",
       "        <th id=\"T_00d29ea0_27a5_11e8_850f_c85b7694a487\" class=\"row_heading level0 row15\" >15</th> \n",
       "        <td id=\"T_00d29ea0_27a5_11e8_850f_c85b7694a487row15_col0\" class=\"data row15 col0\" >Telaxus</td> \n",
       "        <td id=\"T_00d29ea0_27a5_11e8_850f_c85b7694a487row15_col1\" class=\"data row15 col1\" >EPESI</td> \n",
       "        <td id=\"T_00d29ea0_27a5_11e8_850f_c85b7694a487row15_col2\" class=\"data row15 col2\" >Cross-site scripting (XSS) vulnerability in modules/Base/Lang/Administrator/update_translation.php in EPESI in Telaxus/EPESI 1.8.2 and earlier allows remote attackers to inject arbitrary web script or HTML via the (1) original or (2) new parameter.</td> \n",
       "        <td id=\"T_00d29ea0_27a5_11e8_850f_c85b7694a487row15_col3\" class=\"data row15 col3\" >('EPESI', 'Telaxus/EPESI', 'modules/Base/Lang/Administrator/update_translation.php')</td> \n",
       "    </tr>    <tr> \n",
       "        <th id=\"T_00d29ea0_27a5_11e8_850f_c85b7694a487\" class=\"row_heading level0 row16\" >16</th> \n",
       "        <td id=\"T_00d29ea0_27a5_11e8_850f_c85b7694a487row16_col0\" class=\"data row16 col0\" >Telaxus</td> \n",
       "        <td id=\"T_00d29ea0_27a5_11e8_850f_c85b7694a487row16_col1\" class=\"data row16 col1\" >EPESI</td> \n",
       "        <td id=\"T_00d29ea0_27a5_11e8_850f_c85b7694a487row16_col2\" class=\"data row16 col2\" >Multiple cross-site scripting (XSS) vulnerabilities in Telaxus/EPESI 1.8.2 and earlier allow remote attackers to inject arbitrary web script or HTML via crafted common data.</td> \n",
       "        <td id=\"T_00d29ea0_27a5_11e8_850f_c85b7694a487row16_col3\" class=\"data row16 col3\" >('Telaxus/EPESI', 'vulnerabilities', 'scripting')</td> \n",
       "    </tr>    <tr> \n",
       "        <th id=\"T_00d29ea0_27a5_11e8_850f_c85b7694a487\" class=\"row_heading level0 row17\" >17</th> \n",
       "        <td id=\"T_00d29ea0_27a5_11e8_850f_c85b7694a487row17_col0\" class=\"data row17 col0\" >Telaxus</td> \n",
       "        <td id=\"T_00d29ea0_27a5_11e8_850f_c85b7694a487row17_col1\" class=\"data row17 col1\" >EPESI</td> \n",
       "        <td id=\"T_00d29ea0_27a5_11e8_850f_c85b7694a487row17_col2\" class=\"data row17 col2\" >Multiple cross-site scripting (XSS) vulnerabilities in Telaxus/EPESI 1.8.2 and earlier allow remote attackers to inject arbitrary web script or HTML via crafted country data.</td> \n",
       "        <td id=\"T_00d29ea0_27a5_11e8_850f_c85b7694a487row17_col3\" class=\"data row17 col3\" >('Telaxus/EPESI', 'vulnerabilities', 'scripting')</td> \n",
       "    </tr>    <tr> \n",
       "        <th id=\"T_00d29ea0_27a5_11e8_850f_c85b7694a487\" class=\"row_heading level0 row18\" >18</th> \n",
       "        <td id=\"T_00d29ea0_27a5_11e8_850f_c85b7694a487row18_col0\" class=\"data row18 col0\" >Telaxus</td> \n",
       "        <td id=\"T_00d29ea0_27a5_11e8_850f_c85b7694a487row18_col1\" class=\"data row18 col1\" >EPESI</td> \n",
       "        <td id=\"T_00d29ea0_27a5_11e8_850f_c85b7694a487row18_col2\" class=\"data row18 col2\" >Multiple cross-site scripting (XSS) vulnerabilities in Telaxus/EPESI 1.8.2 and earlier allow remote attackers to inject arbitrary web script or HTML via crafted currency decimal-sign data.</td> \n",
       "        <td id=\"T_00d29ea0_27a5_11e8_850f_c85b7694a487row18_col3\" class=\"data row18 col3\" >('Telaxus/EPESI', 'vulnerabilities', 'scripting')</td> \n",
       "    </tr>    <tr> \n",
       "        <th id=\"T_00d29ea0_27a5_11e8_850f_c85b7694a487\" class=\"row_heading level0 row19\" >19</th> \n",
       "        <td id=\"T_00d29ea0_27a5_11e8_850f_c85b7694a487row19_col0\" class=\"data row19 col0\" >qbittorrent</td> \n",
       "        <td id=\"T_00d29ea0_27a5_11e8_850f_c85b7694a487row19_col1\" class=\"data row19 col1\" >qBittorrent</td> \n",
       "        <td id=\"T_00d29ea0_27a5_11e8_850f_c85b7694a487row19_col2\" class=\"data row19 col2\" >WebUI in qBittorrent before 3.3.11 did not escape many values, which could potentially lead to XSS.</td> \n",
       "        <td id=\"T_00d29ea0_27a5_11e8_850f_c85b7694a487row19_col3\" class=\"data row19 col3\" >('qBittorrent', 'WebUI', 'values')</td> \n",
       "    </tr>    <tr> \n",
       "        <th id=\"T_00d29ea0_27a5_11e8_850f_c85b7694a487\" class=\"row_heading level0 row20\" >20</th> \n",
       "        <td id=\"T_00d29ea0_27a5_11e8_850f_c85b7694a487row20_col0\" class=\"data row20 col0\" >qbittorrent</td> \n",
       "        <td id=\"T_00d29ea0_27a5_11e8_850f_c85b7694a487row20_col1\" class=\"data row20 col1\" >qBittorrent</td> \n",
       "        <td id=\"T_00d29ea0_27a5_11e8_850f_c85b7694a487row20_col2\" class=\"data row20 col2\" >WebUI in qBittorrent before 3.3.11 did not set the X-Frame-Options header, which could potentially lead to clickjacking.</td> \n",
       "        <td id=\"T_00d29ea0_27a5_11e8_850f_c85b7694a487row20_col3\" class=\"data row20 col3\" >('qBittorrent', 'WebUI', 'header')</td> \n",
       "    </tr>    <tr> \n",
       "        <th id=\"T_00d29ea0_27a5_11e8_850f_c85b7694a487\" class=\"row_heading level0 row21\" >21</th> \n",
       "        <td id=\"T_00d29ea0_27a5_11e8_850f_c85b7694a487row21_col0\" class=\"data row21 col0\" >Gargaj</td> \n",
       "        <td id=\"T_00d29ea0_27a5_11e8_850f_c85b7694a487row21_col1\" class=\"data row21 col1\" >wuhu</td> \n",
       "        <td id=\"T_00d29ea0_27a5_11e8_850f_c85b7694a487row21_col2\" class=\"data row21 col2\" >Gargaj/wuhu through 2017-03-08 is vulnerable to a reflected XSS in wuhu-master/www_admin/users.php (id parameter).</td> \n",
       "        <td id=\"T_00d29ea0_27a5_11e8_850f_c85b7694a487row21_col3\" class=\"data row21 col3\" >('parameter', 'wuhu-master/www_admin/users.php', 'Gargaj/wuhu')</td> \n",
       "    </tr>    <tr> \n",
       "        <th id=\"T_00d29ea0_27a5_11e8_850f_c85b7694a487\" class=\"row_heading level0 row22\" >22</th> \n",
       "        <td id=\"T_00d29ea0_27a5_11e8_850f_c85b7694a487row22_col0\" class=\"data row22 col0\" >artkond</td> \n",
       "        <td id=\"T_00d29ea0_27a5_11e8_850f_c85b7694a487row22_col1\" class=\"data row22 col1\" >cisco-snmp-rce</td> \n",
       "        <td id=\"T_00d29ea0_27a5_11e8_850f_c85b7694a487row22_col2\" class=\"data row22 col2\" >The Simple Network Management Protocol (SNMP) subsystem of Cisco IOS 12.0 through 12.4 and 15.0 through 15.6 and IOS XE 2.2 through 3.17 contains multiple vulnerabilities that could allow an authenticated, remote attacker to remotely execute code on an affected system or cause an affected system to reload. An attacker could exploit these vulnerabilities by sending a crafted SNMP packet to an affected system via IPv4 or IPv6. Only traffic directed to an affected system can be used to exploit these vulnerabilities. The vulnerabilities are due to a buffer overflow condition in the SNMP subsystem of the affected software. The vulnerabilities affect all versions of SNMP: Versions 1, 2c, and 3. To exploit these vulnerabilities via SNMP Version 2c or earlier, the attacker must know the SNMP read-only community string for the affected system. To exploit these vulnerabilities via SNMP Version 3, the attacker must have user credentials for the affected system. All devices that have enabled SNMP and have not explicitly excluded the affected MIBs or OIDs should be considered vulnerable. Cisco Bug IDs: CSCve57697.</td> \n",
       "        <td id=\"T_00d29ea0_27a5_11e8_850f_c85b7694a487row22_col3\" class=\"data row22 col3\" >('system', 'Version', 'attacker')</td> \n",
       "    </tr>    <tr> \n",
       "        <th id=\"T_00d29ea0_27a5_11e8_850f_c85b7694a487\" class=\"row_heading level0 row23\" >23</th> \n",
       "        <td id=\"T_00d29ea0_27a5_11e8_850f_c85b7694a487row23_col0\" class=\"data row23 col0\" >concrete5</td> \n",
       "        <td id=\"T_00d29ea0_27a5_11e8_850f_c85b7694a487row23_col1\" class=\"data row23 col1\" >concrete5-legacy</td> \n",
       "        <td id=\"T_00d29ea0_27a5_11e8_850f_c85b7694a487row23_col2\" class=\"data row23 col2\" >An issue was discovered in concrete5 <= 5.6.3.4. The vulnerability exists due to insufficient filtration of user-supplied data (disable_choose) passed to the \"concrete5-legacy-master/web/concrete/tools/files/search_dialog.php\" URL. An attacker could execute arbitrary HTML and script code in a browser in the context of the vulnerable website.</td> \n",
       "        <td id=\"T_00d29ea0_27a5_11e8_850f_c85b7694a487row23_col3\" class=\"data row23 col3\" >('concrete5', '<', 'data')</td> \n",
       "    </tr>    <tr> \n",
       "        <th id=\"T_00d29ea0_27a5_11e8_850f_c85b7694a487\" class=\"row_heading level0 row24\" >24</th> \n",
       "        <td id=\"T_00d29ea0_27a5_11e8_850f_c85b7694a487row24_col0\" class=\"data row24 col0\" >concrete5</td> \n",
       "        <td id=\"T_00d29ea0_27a5_11e8_850f_c85b7694a487row24_col1\" class=\"data row24 col1\" >concrete5-legacy</td> \n",
       "        <td id=\"T_00d29ea0_27a5_11e8_850f_c85b7694a487row24_col2\" class=\"data row24 col2\" >An issue was discovered in concrete5 <= 5.6.3.4. The vulnerability exists due to insufficient filtration of user-supplied data (fID) passed to the \"concrete5-legacy-master/web/concrete/tools/files/selector_data.php\" URL. An attacker could execute arbitrary HTML and script code in a browser in the context of the vulnerable website.</td> \n",
       "        <td id=\"T_00d29ea0_27a5_11e8_850f_c85b7694a487row24_col3\" class=\"data row24 col3\" >('concrete5', '<', 'data')</td> \n",
       "    </tr>    <tr> \n",
       "        <th id=\"T_00d29ea0_27a5_11e8_850f_c85b7694a487\" class=\"row_heading level0 row25\" >25</th> \n",
       "        <td id=\"T_00d29ea0_27a5_11e8_850f_c85b7694a487row25_col0\" class=\"data row25 col0\" >Overv</td> \n",
       "        <td id=\"T_00d29ea0_27a5_11e8_850f_c85b7694a487row25_col1\" class=\"data row25 col1\" >Open.GL</td> \n",
       "        <td id=\"T_00d29ea0_27a5_11e8_850f_c85b7694a487row25_col2\" class=\"data row25 col2\" >An issue was discovered in Open.GL before 2017-03-13. The vulnerability exists due to insufficient filtration of user-supplied data (content) passed to the \"Open.GL-master/index.php\" URL. An attacker could execute arbitrary HTML and script code in a browser in the context of the vulnerable website.</td> \n",
       "        <td id=\"T_00d29ea0_27a5_11e8_850f_c85b7694a487row25_col3\" class=\"data row25 col3\" >('Open.GL', 'data', 'HTML')</td> \n",
       "    </tr>    <tr> \n",
       "        <th id=\"T_00d29ea0_27a5_11e8_850f_c85b7694a487\" class=\"row_heading level0 row26\" >26</th> \n",
       "        <td id=\"T_00d29ea0_27a5_11e8_850f_c85b7694a487row26_col0\" class=\"data row26 col0\" >shish</td> \n",
       "        <td id=\"T_00d29ea0_27a5_11e8_850f_c85b7694a487row26_col1\" class=\"data row26 col1\" >shimmie2</td> \n",
       "        <td id=\"T_00d29ea0_27a5_11e8_850f_c85b7694a487row26_col2\" class=\"data row26 col2\" >An issue was discovered in Shimmie <= 2.5.1. The vulnerability exists due to insufficient filtration of user-supplied data (log) passed to the \"shimmie2-master/ext/chatbox/history/index.php\" URL. An attacker could execute arbitrary HTML and script code in a browser in the context of the vulnerable website.</td> \n",
       "        <td id=\"T_00d29ea0_27a5_11e8_850f_c85b7694a487row26_col3\" class=\"data row26 col3\" >('Shimmie', '<', 'data')</td> \n",
       "    </tr>    <tr> \n",
       "        <th id=\"T_00d29ea0_27a5_11e8_850f_c85b7694a487\" class=\"row_heading level0 row27\" >27</th> \n",
       "        <td id=\"T_00d29ea0_27a5_11e8_850f_c85b7694a487row27_col0\" class=\"data row27 col0\" >aquynh</td> \n",
       "        <td id=\"T_00d29ea0_27a5_11e8_850f_c85b7694a487row27_col1\" class=\"data row27 col1\" >capstone</td> \n",
       "        <td id=\"T_00d29ea0_27a5_11e8_850f_c85b7694a487row27_col2\" class=\"data row27 col2\" >Integer overflow in the cs_winkernel_malloc function in winkernel_mm.c in Capstone 3.0.4 and earlier allows attackers to cause a denial of service (heap-based buffer overflow in a kernel driver) or possibly have unspecified other impact via a large value.</td> \n",
       "        <td id=\"T_00d29ea0_27a5_11e8_850f_c85b7694a487row27_col3\" class=\"data row27 col3\" >('Capstone', 'Integer', 'winkernel_mm.c')</td> \n",
       "    </tr>    <tr> \n",
       "        <th id=\"T_00d29ea0_27a5_11e8_850f_c85b7694a487\" class=\"row_heading level0 row28\" >28</th> \n",
       "        <td id=\"T_00d29ea0_27a5_11e8_850f_c85b7694a487row28_col0\" class=\"data row28 col0\" >boonebgorges</td> \n",
       "        <td id=\"T_00d29ea0_27a5_11e8_850f_c85b7694a487row28_col1\" class=\"data row28 col1\" >buddypress-docs</td> \n",
       "        <td id=\"T_00d29ea0_27a5_11e8_850f_c85b7694a487row28_col2\" class=\"data row28 col2\" >An issue was discovered in includes/component.php in the BuddyPress Docs plugin before 1.9.3 for WordPress. It is possible for authenticated users to edit documents of other users without proper permissions.</td> \n",
       "        <td id=\"T_00d29ea0_27a5_11e8_850f_c85b7694a487row28_col3\" class=\"data row28 col3\" >('plugin', 'BuddyPress', 'Docs')</td> \n",
       "    </tr>    <tr> \n",
       "        <th id=\"T_00d29ea0_27a5_11e8_850f_c85b7694a487\" class=\"row_heading level0 row29\" >29</th> \n",
       "        <td id=\"T_00d29ea0_27a5_11e8_850f_c85b7694a487row29_col0\" class=\"data row29 col0\" >boonebgorges</td> \n",
       "        <td id=\"T_00d29ea0_27a5_11e8_850f_c85b7694a487row29_col1\" class=\"data row29 col1\" >invite-anyone</td> \n",
       "        <td id=\"T_00d29ea0_27a5_11e8_850f_c85b7694a487row29_col2\" class=\"data row29 col2\" >An issue was discovered in by-email/by-email.php in the Invite Anyone plugin before 1.3.15 for WordPress. A user is able to change the subject and the body of the invitation mail that should be immutable, which facilitates a social engineering attack.</td> \n",
       "        <td id=\"T_00d29ea0_27a5_11e8_850f_c85b7694a487row29_col3\" class=\"data row29 col3\" >('plugin', 'Anyone', 'mail')</td> \n",
       "    </tr>    <tr> \n",
       "        <th id=\"T_00d29ea0_27a5_11e8_850f_c85b7694a487\" class=\"row_heading level0 row30\" >30</th> \n",
       "        <td id=\"T_00d29ea0_27a5_11e8_850f_c85b7694a487row30_col0\" class=\"data row30 col0\" >mantisbt-plugins</td> \n",
       "        <td id=\"T_00d29ea0_27a5_11e8_850f_c85b7694a487row30_col1\" class=\"data row30 col1\" >source-integration</td> \n",
       "        <td id=\"T_00d29ea0_27a5_11e8_850f_c85b7694a487row30_col2\" class=\"data row30 col2\" >An XSS vulnerability in the MantisBT Source Integration Plugin (before 2.0.2) search result page allows an attacker to inject arbitrary HTML or JavaScript (if MantisBT's CSP settings permit it) by crafting any valid parameter.</td> \n",
       "        <td id=\"T_00d29ea0_27a5_11e8_850f_c85b7694a487row30_col3\" class=\"data row30 col3\" >('MantisBT', 'Plugin', 'MantisBT')</td> \n",
       "    </tr>    <tr> \n",
       "        <th id=\"T_00d29ea0_27a5_11e8_850f_c85b7694a487\" class=\"row_heading level0 row31\" >31</th> \n",
       "        <td id=\"T_00d29ea0_27a5_11e8_850f_c85b7694a487row31_col0\" class=\"data row31 col0\" >inliniac</td> \n",
       "        <td id=\"T_00d29ea0_27a5_11e8_850f_c85b7694a487row31_col1\" class=\"data row31 col1\" >suricata</td> \n",
       "        <td id=\"T_00d29ea0_27a5_11e8_850f_c85b7694a487row31_col2\" class=\"data row31 col2\" >Suricata before 3.2.1 has an IPv4 defragmentation evasion issue caused by lack of a check for the IP protocol during fragment matching.</td> \n",
       "        <td id=\"T_00d29ea0_27a5_11e8_850f_c85b7694a487row31_col3\" class=\"data row31 col3\" >('Suricata', 'evasion', 'protocol')</td> \n",
       "    </tr>    <tr> \n",
       "        <th id=\"T_00d29ea0_27a5_11e8_850f_c85b7694a487\" class=\"row_heading level0 row32\" >32</th> \n",
       "        <td id=\"T_00d29ea0_27a5_11e8_850f_c85b7694a487row32_col0\" class=\"data row32 col0\" >cesanta</td> \n",
       "        <td id=\"T_00d29ea0_27a5_11e8_850f_c85b7694a487row32_col1\" class=\"data row32 col1\" >mongoose-os</td> \n",
       "        <td id=\"T_00d29ea0_27a5_11e8_850f_c85b7694a487row32_col2\" class=\"data row32 col2\" >Use-after-free vulnerability in the mg_http_multipart_wait_for_boundary function in mongoose.c in Cesanta Mongoose Embedded Web Server Library 6.7 and earlier and Mongoose OS 1.2 and earlier allows remote attackers to cause a denial of service (crash) via a multipart/form-data POST request without a MIME boundary string.</td> \n",
       "        <td id=\"T_00d29ea0_27a5_11e8_850f_c85b7694a487row32_col3\" class=\"data row32 col3\" >('Library', 'Cesanta', 'Server')</td> \n",
       "    </tr>    <tr> \n",
       "        <th id=\"T_00d29ea0_27a5_11e8_850f_c85b7694a487\" class=\"row_heading level0 row33\" >33</th> \n",
       "        <td id=\"T_00d29ea0_27a5_11e8_850f_c85b7694a487row33_col0\" class=\"data row33 col0\" >devryan</td> \n",
       "        <td id=\"T_00d29ea0_27a5_11e8_850f_c85b7694a487row33_col1\" class=\"data row33 col1\" >GamePanelX-V3</td> \n",
       "        <td id=\"T_00d29ea0_27a5_11e8_850f_c85b7694a487row33_col2\" class=\"data row33 col2\" >A Cross-Site Scripting (XSS) was discovered in GamePanelX-V3 3.0.12. The vulnerability exists due to insufficient filtration of user-supplied data (a) passed to the \"GamePanelX-V3-master/ajax/ajax.php\" URL. An attacker could execute arbitrary HTML and script code in a browser in the context of the vulnerable website.</td> \n",
       "        <td id=\"T_00d29ea0_27a5_11e8_850f_c85b7694a487row33_col3\" class=\"data row33 col3\" >('GamePanelX-V3', 'Scripting', 'data')</td> \n",
       "    </tr>    <tr> \n",
       "        <th id=\"T_00d29ea0_27a5_11e8_850f_c85b7694a487\" class=\"row_heading level0 row34\" >34</th> \n",
       "        <td id=\"T_00d29ea0_27a5_11e8_850f_c85b7694a487row34_col0\" class=\"data row34 col0\" >QubesOS</td> \n",
       "        <td id=\"T_00d29ea0_27a5_11e8_850f_c85b7694a487row34_col1\" class=\"data row34 col1\" >qubes-secpack</td> \n",
       "        <td id=\"T_00d29ea0_27a5_11e8_850f_c85b7694a487row34_col2\" class=\"data row34 col2\" >An issue (known as XSA-212) was discovered in Xen, with fixes available for 4.8.x, 4.7.x, 4.6.x, 4.5.x, and 4.4.x. The earlier XSA-29 fix introduced an insufficient check on XENMEM_exchange input, allowing the caller to drive hypervisor memory accesses outside of the guest provided input/output arrays.</td> \n",
       "        <td id=\"T_00d29ea0_27a5_11e8_850f_c85b7694a487row34_col3\" class=\"data row34 col3\" >('fixes', 'issue', 'XSA-212')</td> \n",
       "    </tr>    <tr> \n",
       "        <th id=\"T_00d29ea0_27a5_11e8_850f_c85b7694a487\" class=\"row_heading level0 row35\" >35</th> \n",
       "        <td id=\"T_00d29ea0_27a5_11e8_850f_c85b7694a487row35_col0\" class=\"data row35 col0\" >Anorov</td> \n",
       "        <td id=\"T_00d29ea0_27a5_11e8_850f_c85b7694a487row35_col1\" class=\"data row35 col1\" >cloudflare-scrape</td> \n",
       "        <td id=\"T_00d29ea0_27a5_11e8_850f_c85b7694a487row35_col2\" class=\"data row35 col2\" >An issue was discovered in cloudflare-scrape 1.6.6 through 1.7.1. A malicious website owner could craft a page that executes arbitrary Python code against any cfscrape user who scrapes that website. This is fixed in 1.8.0.</td> \n",
       "        <td id=\"T_00d29ea0_27a5_11e8_850f_c85b7694a487row35_col3\" class=\"data row35 col3\" >('cloudflare-scrape', 'user', 'cfscrape')</td> \n",
       "    </tr>    <tr> \n",
       "        <th id=\"T_00d29ea0_27a5_11e8_850f_c85b7694a487\" class=\"row_heading level0 row36\" >36</th> \n",
       "        <td id=\"T_00d29ea0_27a5_11e8_850f_c85b7694a487row36_col0\" class=\"data row36 col0\" >pi-engine</td> \n",
       "        <td id=\"T_00d29ea0_27a5_11e8_850f_c85b7694a487row36_col1\" class=\"data row36 col1\" >pi</td> \n",
       "        <td id=\"T_00d29ea0_27a5_11e8_850f_c85b7694a487row36_col2\" class=\"data row36 col2\" >A Cross-Site Scripting (XSS) was discovered in pi-engine/pi 2.5.0. The vulnerability exists due to insufficient filtration of user-supplied data (preview) passed to the \"pi-develop/www/script/editor/markitup/preview/markdown.php\" URL. An attacker could execute arbitrary HTML and script code in a browser in the context of the vulnerable website.</td> \n",
       "        <td id=\"T_00d29ea0_27a5_11e8_850f_c85b7694a487row36_col3\" class=\"data row36 col3\" >('Scripting', 'data', 'XSS')</td> \n",
       "    </tr>    <tr> \n",
       "        <th id=\"T_00d29ea0_27a5_11e8_850f_c85b7694a487\" class=\"row_heading level0 row37\" >37</th> \n",
       "        <td id=\"T_00d29ea0_27a5_11e8_850f_c85b7694a487row37_col0\" class=\"data row37 col0\" >Netflix</td> \n",
       "        <td id=\"T_00d29ea0_27a5_11e8_850f_c85b7694a487row37_col1\" class=\"data row37 col1\" >security_monkey</td> \n",
       "        <td id=\"T_00d29ea0_27a5_11e8_850f_c85b7694a487row37_col2\" class=\"data row37 col2\" >Netflix Security Monkey before 0.8.0 has an Open Redirect. The logout functionality accepted the \"next\" parameter which then redirects to any domain irrespective of the Host header.</td> \n",
       "        <td id=\"T_00d29ea0_27a5_11e8_850f_c85b7694a487row37_col3\" class=\"data row37 col3\" >('Netflix', 'Monkey', 'Security')</td> \n",
       "    </tr>    <tr> \n",
       "        <th id=\"T_00d29ea0_27a5_11e8_850f_c85b7694a487\" class=\"row_heading level0 row38\" >38</th> \n",
       "        <td id=\"T_00d29ea0_27a5_11e8_850f_c85b7694a487row38_col0\" class=\"data row38 col0\" >danigargu</td> \n",
       "        <td id=\"T_00d29ea0_27a5_11e8_850f_c85b7694a487row38_col1\" class=\"data row38 col1\" >explodingcan</td> \n",
       "        <td id=\"T_00d29ea0_27a5_11e8_850f_c85b7694a487row38_col2\" class=\"data row38 col2\" >Buffer overflow in the ScStoragePathFromUrl function in the WebDAV service in Internet Information Services (IIS) 6.0 in Microsoft Windows Server 2003 R2 allows remote attackers to execute arbitrary code via a long header beginning with \"If: <http://\" in a PROPFIND request, as exploited in the wild in July or August 2016.</td> \n",
       "        <td id=\"T_00d29ea0_27a5_11e8_850f_c85b7694a487row38_col3\" class=\"data row38 col3\" >('Server', 'Services', 'Windows')</td> \n",
       "    </tr>    <tr> \n",
       "        <th id=\"T_00d29ea0_27a5_11e8_850f_c85b7694a487\" class=\"row_heading level0 row39\" >39</th> \n",
       "        <td id=\"T_00d29ea0_27a5_11e8_850f_c85b7694a487row39_col0\" class=\"data row39 col0\" >rancher</td> \n",
       "        <td id=\"T_00d29ea0_27a5_11e8_850f_c85b7694a487row39_col1\" class=\"data row39 col1\" >rancher</td> \n",
       "        <td id=\"T_00d29ea0_27a5_11e8_850f_c85b7694a487row39_col2\" class=\"data row39 col2\" >Rancher Labs rancher server 1.2.0+ is vulnerable to authenticated users disabling access control via an API call. This is fixed in versions rancher/server:v1.2.4, rancher/server:v1.3.5, rancher/server:v1.4.3, and rancher/server:v1.5.3.</td> \n",
       "        <td id=\"T_00d29ea0_27a5_11e8_850f_c85b7694a487row39_col3\" class=\"data row39 col3\" >('Rancher', 'Labs', 'access')</td> \n",
       "    </tr>    <tr> \n",
       "        <th id=\"T_00d29ea0_27a5_11e8_850f_c85b7694a487\" class=\"row_heading level0 row40\" >40</th> \n",
       "        <td id=\"T_00d29ea0_27a5_11e8_850f_c85b7694a487row40_col0\" class=\"data row40 col0\" >citymont</td> \n",
       "        <td id=\"T_00d29ea0_27a5_11e8_850f_c85b7694a487row40_col1\" class=\"data row40 col1\" >symetrie</td> \n",
       "        <td id=\"T_00d29ea0_27a5_11e8_850f_c85b7694a487row40_col2\" class=\"data row40 col2\" >citymont/symetrie v.0.9.6 is vulnerable to a reflected XSS in symetrie-master/app/commands/page.php (model parameter).</td> \n",
       "        <td id=\"T_00d29ea0_27a5_11e8_850f_c85b7694a487row40_col3\" class=\"data row40 col3\" >('symetrie-master/app/commands/page.php', 'parameter', 'citymont/symetrie')</td> \n",
       "    </tr>    <tr> \n",
       "        <th id=\"T_00d29ea0_27a5_11e8_850f_c85b7694a487\" class=\"row_heading level0 row41\" >41</th> \n",
       "        <td id=\"T_00d29ea0_27a5_11e8_850f_c85b7694a487row41_col0\" class=\"data row41 col0\" >TheFirstQuestion</td> \n",
       "        <td id=\"T_00d29ea0_27a5_11e8_850f_c85b7694a487row41_col1\" class=\"data row41 col1\" >HelpMeWatchWho</td> \n",
       "        <td id=\"T_00d29ea0_27a5_11e8_850f_c85b7694a487row41_col2\" class=\"data row41 col2\" >TheFirstQuestion/HelpMeWatchWho before 2017-03-28 is vulnerable to a reflected XSS in HelpMeWatchWho-master/unaired.php (episodeID parameter).</td> \n",
       "        <td id=\"T_00d29ea0_27a5_11e8_850f_c85b7694a487row41_col3\" class=\"data row41 col3\" >('parameter', 'HelpMeWatchWho-master/unaired.php', 'TheFirstQuestion/HelpMeWatchWho')</td> \n",
       "    </tr>    <tr> \n",
       "        <th id=\"T_00d29ea0_27a5_11e8_850f_c85b7694a487\" class=\"row_heading level0 row42\" >42</th> \n",
       "        <td id=\"T_00d29ea0_27a5_11e8_850f_c85b7694a487row42_col0\" class=\"data row42 col0\" >micwallace</td> \n",
       "        <td id=\"T_00d29ea0_27a5_11e8_850f_c85b7694a487row42_col1\" class=\"data row42 col1\" >wallacepos</td> \n",
       "        <td id=\"T_00d29ea0_27a5_11e8_850f_c85b7694a487row42_col2\" class=\"data row42 col2\" >A Cross-Site Scripting (XSS) was discovered in 'wallacepos v1.4.1'. The vulnerability exists due to insufficient filtration of user-supplied data (token) passed to the 'wallacepos-master/myaccount/resetpassword.php' URL. An attacker could execute arbitrary HTML and script code in a browser in the context of the vulnerable website.</td> \n",
       "        <td id=\"T_00d29ea0_27a5_11e8_850f_c85b7694a487row42_col3\" class=\"data row42 col3\" >('v1.4.1', 'Scripting', 'data')</td> \n",
       "    </tr>    <tr> \n",
       "        <th id=\"T_00d29ea0_27a5_11e8_850f_c85b7694a487\" class=\"row_heading level0 row43\" >43</th> \n",
       "        <td id=\"T_00d29ea0_27a5_11e8_850f_c85b7694a487row43_col0\" class=\"data row43 col0\" >gunet</td> \n",
       "        <td id=\"T_00d29ea0_27a5_11e8_850f_c85b7694a487row43_col1\" class=\"data row43 col1\" >openeclass</td> \n",
       "        <td id=\"T_00d29ea0_27a5_11e8_850f_c85b7694a487row43_col2\" class=\"data row43 col2\" >Multiple Cross-Site Scripting (XSS) were discovered in 'openeclass Release_3.5.4'. The vulnerabilities exist due to insufficient filtration of user-supplied data (meeting_id, user) passed to the 'openeclass-master/modules/tc/webconf/webconf.php' URL. An attacker could execute arbitrary HTML and script code in a browser in the context of the vulnerable website.</td> \n",
       "        <td id=\"T_00d29ea0_27a5_11e8_850f_c85b7694a487row43_col3\" class=\"data row43 col3\" >('Release_3.5.4', 'Cross-Site', 'Scripting')</td> \n",
       "    </tr>    <tr> \n",
       "        <th id=\"T_00d29ea0_27a5_11e8_850f_c85b7694a487\" class=\"row_heading level0 row44\" >44</th> \n",
       "        <td id=\"T_00d29ea0_27a5_11e8_850f_c85b7694a487row44_col0\" class=\"data row44 col0\" >andreas83</td> \n",
       "        <td id=\"T_00d29ea0_27a5_11e8_850f_c85b7694a487row44_col1\" class=\"data row44 col1\" >SocialNetwork</td> \n",
       "        <td id=\"T_00d29ea0_27a5_11e8_850f_c85b7694a487row44_col2\" class=\"data row44 col2\" >A Cross-Site Scripting (XSS) was discovered in 'SocialNetwork v1.2.1'. The vulnerability exists due to insufficient filtration of user-supplied data (mail) passed to the 'SocialNetwork-andrea/app/template/pw_forgot.php' URL. An attacker could execute arbitrary HTML and script code in a browser in the context of the vulnerable website.</td> \n",
       "        <td id=\"T_00d29ea0_27a5_11e8_850f_c85b7694a487row44_col3\" class=\"data row44 col3\" >('v1.2.1', 'Scripting', 'data')</td> \n",
       "    </tr>    <tr> \n",
       "        <th id=\"T_00d29ea0_27a5_11e8_850f_c85b7694a487\" class=\"row_heading level0 row45\" >45</th> \n",
       "        <td id=\"T_00d29ea0_27a5_11e8_850f_c85b7694a487row45_col0\" class=\"data row45 col0\" >dweeves</td> \n",
       "        <td id=\"T_00d29ea0_27a5_11e8_850f_c85b7694a487row45_col1\" class=\"data row45 col1\" >magmi-git</td> \n",
       "        <td id=\"T_00d29ea0_27a5_11e8_850f_c85b7694a487row45_col2\" class=\"data row45 col2\" >A Cross-Site Scripting (XSS) was discovered in 'Magmi 0.7.22'. The vulnerability exists due to insufficient filtration of user-supplied data (prefix) passed to the 'magmi-git-master/magmi/web/ajax_gettime.php' URL. An attacker could execute arbitrary HTML and script code in a browser in the context of the vulnerable website.</td> \n",
       "        <td id=\"T_00d29ea0_27a5_11e8_850f_c85b7694a487row45_col3\" class=\"data row45 col3\" >('Scripting', 'data', 'XSS')</td> \n",
       "    </tr>    <tr> \n",
       "        <th id=\"T_00d29ea0_27a5_11e8_850f_c85b7694a487\" class=\"row_heading level0 row46\" >46</th> \n",
       "        <td id=\"T_00d29ea0_27a5_11e8_850f_c85b7694a487row46_col0\" class=\"data row46 col0\" >curl</td> \n",
       "        <td id=\"T_00d29ea0_27a5_11e8_850f_c85b7694a487row46_col1\" class=\"data row46 col1\" >curl</td> \n",
       "        <td id=\"T_00d29ea0_27a5_11e8_850f_c85b7694a487row46_col2\" class=\"data row46 col2\" >The ourWriteOut function in tool_writeout.c in curl 7.53.1 might allow physically proximate attackers to obtain sensitive information from process memory in opportunistic circumstances by reading a workstation screen during use of a --write-out argument ending in a '%' character, which leads to a heap-based buffer over-read.</td> \n",
       "        <td id=\"T_00d29ea0_27a5_11e8_850f_c85b7694a487row46_col3\" class=\"data row46 col3\" >('curl', 'function', 'tool_writeout.c')</td> \n",
       "    </tr>    <tr> \n",
       "        <th id=\"T_00d29ea0_27a5_11e8_850f_c85b7694a487\" class=\"row_heading level0 row47\" >47</th> \n",
       "        <td id=\"T_00d29ea0_27a5_11e8_850f_c85b7694a487row47_col0\" class=\"data row47 col0\" >albandes</td> \n",
       "        <td id=\"T_00d29ea0_27a5_11e8_850f_c85b7694a487row47_col1\" class=\"data row47 col1\" >helpdezk</td> \n",
       "        <td id=\"T_00d29ea0_27a5_11e8_850f_c85b7694a487row47_col2\" class=\"data row47 col2\" >HelpDEZk 1.1.1 has CSRF in admin/home#/person/ with an impact of obtaining admin privileges.</td> \n",
       "        <td id=\"T_00d29ea0_27a5_11e8_850f_c85b7694a487row47_col3\" class=\"data row47 col3\" >('/person/', 'impact', 'privileges')</td> \n",
       "    </tr>    <tr> \n",
       "        <th id=\"T_00d29ea0_27a5_11e8_850f_c85b7694a487\" class=\"row_heading level0 row48\" >48</th> \n",
       "        <td id=\"T_00d29ea0_27a5_11e8_850f_c85b7694a487row48_col0\" class=\"data row48 col0\" >albandes</td> \n",
       "        <td id=\"T_00d29ea0_27a5_11e8_850f_c85b7694a487row48_col1\" class=\"data row48 col1\" >helpdezk</td> \n",
       "        <td id=\"T_00d29ea0_27a5_11e8_850f_c85b7694a487row48_col2\" class=\"data row48 col2\" >HelpDEZk 1.1.1 has CSRF in admin/home#/logos/ with an impact of remote execution of arbitrary PHP code.</td> \n",
       "        <td id=\"T_00d29ea0_27a5_11e8_850f_c85b7694a487row48_col3\" class=\"data row48 col3\" >('/logos/', 'execution', 'impact')</td> \n",
       "    </tr>    <tr> \n",
       "        <th id=\"T_00d29ea0_27a5_11e8_850f_c85b7694a487\" class=\"row_heading level0 row49\" >49</th> \n",
       "        <td id=\"T_00d29ea0_27a5_11e8_850f_c85b7694a487row49_col0\" class=\"data row49 col0\" >dropbox</td> \n",
       "        <td id=\"T_00d29ea0_27a5_11e8_850f_c85b7694a487row49_col1\" class=\"data row49 col1\" >lepton</td> \n",
       "        <td id=\"T_00d29ea0_27a5_11e8_850f_c85b7694a487row49_col2\" class=\"data row49 col2\" >The allocate_channel_framebuffer function in uncompressed_components.hh in Dropbox Lepton 1.2.1 allows remote attackers to cause a denial of service (divide-by-zero error and application crash) via a malformed JPEG image.</td> \n",
       "        <td id=\"T_00d29ea0_27a5_11e8_850f_c85b7694a487row49_col3\" class=\"data row49 col3\" >('Lepton', 'Dropbox', 'function')</td> \n",
       "    </tr>    <tr> \n",
       "        <th id=\"T_00d29ea0_27a5_11e8_850f_c85b7694a487\" class=\"row_heading level0 row50\" >50</th> \n",
       "        <td id=\"T_00d29ea0_27a5_11e8_850f_c85b7694a487row50_col0\" class=\"data row50 col0\" >dropbox</td> \n",
       "        <td id=\"T_00d29ea0_27a5_11e8_850f_c85b7694a487row50_col1\" class=\"data row50 col1\" >lepton</td> \n",
       "        <td id=\"T_00d29ea0_27a5_11e8_850f_c85b7694a487row50_col2\" class=\"data row50 col2\" >Dropbox Lepton 1.2.1 allows DoS (SEGV and application crash) via a malformed lepton file because the code does not ensure setup of a correct number of threads.</td> \n",
       "        <td id=\"T_00d29ea0_27a5_11e8_850f_c85b7694a487row50_col3\" class=\"data row50 col3\" >('Lepton', 'Dropbox', 'lepton')</td> \n",
       "    </tr>    <tr> \n",
       "        <th id=\"T_00d29ea0_27a5_11e8_850f_c85b7694a487\" class=\"row_heading level0 row51\" >51</th> \n",
       "        <td id=\"T_00d29ea0_27a5_11e8_850f_c85b7694a487row51_col0\" class=\"data row51 col0\" >ansible</td> \n",
       "        <td id=\"T_00d29ea0_27a5_11e8_850f_c85b7694a487row51_col1\" class=\"data row51 col1\" >ansible</td> \n",
       "        <td id=\"T_00d29ea0_27a5_11e8_850f_c85b7694a487row51_col2\" class=\"data row51 col2\" >Ansible versions 2.2.3 and earlier are vulnerable to an information disclosure flaw due to the interaction of call back plugins and the no_log directive where the information may not be sanitized properly.</td> \n",
       "        <td id=\"T_00d29ea0_27a5_11e8_850f_c85b7694a487row51_col3\" class=\"data row51 col3\" >('directive', 'disclosure', 'information')</td> \n",
       "    </tr>    <tr> \n",
       "        <th id=\"T_00d29ea0_27a5_11e8_850f_c85b7694a487\" class=\"row_heading level0 row52\" >52</th> \n",
       "        <td id=\"T_00d29ea0_27a5_11e8_850f_c85b7694a487row52_col0\" class=\"data row52 col0\" >ansible</td> \n",
       "        <td id=\"T_00d29ea0_27a5_11e8_850f_c85b7694a487row52_col1\" class=\"data row52 col1\" >ansible</td> \n",
       "        <td id=\"T_00d29ea0_27a5_11e8_850f_c85b7694a487row52_col2\" class=\"data row52 col2\" >A flaw was found in the way Ansible (2.3.x before 2.3.3, and 2.4.x before 2.4.1) passed certain parameters to the jenkins_plugin module. Remote attackers could use this flaw to expose sensitive information from a remote host's logs. This flaw was fixed by not allowing passwords to be specified in the \"params\" argument, and noting this in the module documentation.</td> \n",
       "        <td id=\"T_00d29ea0_27a5_11e8_850f_c85b7694a487row52_col3\" class=\"data row52 col3\" >('Ansible', 'module', 'flaw')</td> \n",
       "    </tr>    <tr> \n",
       "        <th id=\"T_00d29ea0_27a5_11e8_850f_c85b7694a487\" class=\"row_heading level0 row53\" >53</th> \n",
       "        <td id=\"T_00d29ea0_27a5_11e8_850f_c85b7694a487row53_col0\" class=\"data row53 col0\" >rpm-software-management</td> \n",
       "        <td id=\"T_00d29ea0_27a5_11e8_850f_c85b7694a487row53_col1\" class=\"data row53 col1\" >rpm</td> \n",
       "        <td id=\"T_00d29ea0_27a5_11e8_850f_c85b7694a487row53_col2\" class=\"data row53 col2\" >It was found that versions of rpm before 4.13.0.2 use temporary files with predictable names when installing an RPM. An attacker with ability to write in a directory where files will be installed could create symbolic links to an arbitrary location and modify content, and possibly permissions to arbitrary files, which could be used for denial of service or possibly privilege escalation.</td> \n",
       "        <td id=\"T_00d29ea0_27a5_11e8_850f_c85b7694a487row53_col3\" class=\"data row53 col3\" >('rpm', 'names', 'files')</td> \n",
       "    </tr>    <tr> \n",
       "        <th id=\"T_00d29ea0_27a5_11e8_850f_c85b7694a487\" class=\"row_heading level0 row54\" >54</th> \n",
       "        <td id=\"T_00d29ea0_27a5_11e8_850f_c85b7694a487row54_col0\" class=\"data row54 col0\" >mybb</td> \n",
       "        <td id=\"T_00d29ea0_27a5_11e8_850f_c85b7694a487row54_col1\" class=\"data row54 col1\" >mybb</td> \n",
       "        <td id=\"T_00d29ea0_27a5_11e8_850f_c85b7694a487row54_col2\" class=\"data row54 col2\" >MyBB before 1.8.11 allows remote attackers to bypass an SSRF protection mechanism.</td> \n",
       "        <td id=\"T_00d29ea0_27a5_11e8_850f_c85b7694a487row54_col3\" class=\"data row54 col3\" >('MyBB', 'protection', 'allows')</td> \n",
       "    </tr>    <tr> \n",
       "        <th id=\"T_00d29ea0_27a5_11e8_850f_c85b7694a487\" class=\"row_heading level0 row55\" >55</th> \n",
       "        <td id=\"T_00d29ea0_27a5_11e8_850f_c85b7694a487row55_col0\" class=\"data row55 col0\" >kings-way</td> \n",
       "        <td id=\"T_00d29ea0_27a5_11e8_850f_c85b7694a487row55_col1\" class=\"data row55 col1\" >deepinhack</td> \n",
       "        <td id=\"T_00d29ea0_27a5_11e8_850f_c85b7694a487row55_col2\" class=\"data row55 col2\" >dde-daemon, the daemon process of DDE (Deepin Desktop Environment) 15.0 through 15.3, runs with root privileges and hardly does anything to identify the user who calls the function through D-Bus. Anybody can change the grub config, even to append some arguments to make a backdoor or privilege escalation, by calling DoWriteGrubSettings() provided by dde-daemon.</td> \n",
       "        <td id=\"T_00d29ea0_27a5_11e8_850f_c85b7694a487row55_col3\" class=\"data row55 col3\" >('Environment', 'Desktop', 'Deepin')</td> \n",
       "    </tr>    <tr> \n",
       "        <th id=\"T_00d29ea0_27a5_11e8_850f_c85b7694a487\" class=\"row_heading level0 row56\" >56</th> \n",
       "        <td id=\"T_00d29ea0_27a5_11e8_850f_c85b7694a487row56_col0\" class=\"data row56 col0\" >Xyntax</td> \n",
       "        <td id=\"T_00d29ea0_27a5_11e8_850f_c85b7694a487row56_col1\" class=\"data row56 col1\" >POC-T</td> \n",
       "        <td id=\"T_00d29ea0_27a5_11e8_850f_c85b7694a487row56_col2\" class=\"data row56 col2\" >In Fiyo CMS 2.x through 2.0.7, attackers may upload a webshell via the content parameter to \"/dapur/apps/app_theme/libs/save_file.php\" and then execute code.</td> \n",
       "        <td id=\"T_00d29ea0_27a5_11e8_850f_c85b7694a487row56_col3\" class=\"data row56 col3\" >('Fiyo', 'CMS', 'parameter')</td> \n",
       "    </tr>    <tr> \n",
       "        <th id=\"T_00d29ea0_27a5_11e8_850f_c85b7694a487\" class=\"row_heading level0 row57\" >57</th> \n",
       "        <td id=\"T_00d29ea0_27a5_11e8_850f_c85b7694a487row57_col0\" class=\"data row57 col0\" >grpc</td> \n",
       "        <td id=\"T_00d29ea0_27a5_11e8_850f_c85b7694a487row57_col1\" class=\"data row57 col1\" >grpc</td> \n",
       "        <td id=\"T_00d29ea0_27a5_11e8_850f_c85b7694a487row57_col2\" class=\"data row57 col2\" >Google gRPC before 2017-02-22 has an out-of-bounds write caused by a heap-based buffer overflow related to the parse_unix function in core/ext/client_channel/parse_address.c.</td> \n",
       "        <td id=\"T_00d29ea0_27a5_11e8_850f_c85b7694a487row57_col3\" class=\"data row57 col3\" >('gRPC', 'function', 'Google')</td> \n",
       "    </tr>    <tr> \n",
       "        <th id=\"T_00d29ea0_27a5_11e8_850f_c85b7694a487\" class=\"row_heading level0 row58\" >58</th> \n",
       "        <td id=\"T_00d29ea0_27a5_11e8_850f_c85b7694a487row58_col0\" class=\"data row58 col0\" >grpc</td> \n",
       "        <td id=\"T_00d29ea0_27a5_11e8_850f_c85b7694a487row58_col1\" class=\"data row58 col1\" >grpc</td> \n",
       "        <td id=\"T_00d29ea0_27a5_11e8_850f_c85b7694a487row58_col2\" class=\"data row58 col2\" >Google gRPC before 2017-02-22 has an out-of-bounds write related to the gpr_free function in core/lib/support/alloc.c.</td> \n",
       "        <td id=\"T_00d29ea0_27a5_11e8_850f_c85b7694a487row58_col3\" class=\"data row58 col3\" >('gRPC', 'function', 'Google')</td> \n",
       "    </tr>    <tr> \n",
       "        <th id=\"T_00d29ea0_27a5_11e8_850f_c85b7694a487\" class=\"row_heading level0 row59\" >59</th> \n",
       "        <td id=\"T_00d29ea0_27a5_11e8_850f_c85b7694a487row59_col0\" class=\"data row59 col0\" >grpc</td> \n",
       "        <td id=\"T_00d29ea0_27a5_11e8_850f_c85b7694a487row59_col1\" class=\"data row59 col1\" >grpc</td> \n",
       "        <td id=\"T_00d29ea0_27a5_11e8_850f_c85b7694a487row59_col2\" class=\"data row59 col2\" >Google gRPC before 2017-03-29 has an out-of-bounds write caused by a heap-based use-after-free related to the grpc_call_destroy function in core/lib/surface/call.c.</td> \n",
       "        <td id=\"T_00d29ea0_27a5_11e8_850f_c85b7694a487row59_col3\" class=\"data row59 col3\" >('gRPC', 'function', 'Google')</td> \n",
       "    </tr>    <tr> \n",
       "        <th id=\"T_00d29ea0_27a5_11e8_850f_c85b7694a487\" class=\"row_heading level0 row60\" >60</th> \n",
       "        <td id=\"T_00d29ea0_27a5_11e8_850f_c85b7694a487row60_col0\" class=\"data row60 col0\" >grpc</td> \n",
       "        <td id=\"T_00d29ea0_27a5_11e8_850f_c85b7694a487row60_col1\" class=\"data row60 col1\" >grpc</td> \n",
       "        <td id=\"T_00d29ea0_27a5_11e8_850f_c85b7694a487row60_col2\" class=\"data row60 col2\" >Google gRPC before 2017-04-05 has an out-of-bounds write caused by a heap-based buffer overflow related to core/lib/iomgr/error.c.</td> \n",
       "        <td id=\"T_00d29ea0_27a5_11e8_850f_c85b7694a487row60_col3\" class=\"data row60 col3\" >('gRPC', 'Google', 'buffer')</td> \n",
       "    </tr>    <tr> \n",
       "        <th id=\"T_00d29ea0_27a5_11e8_850f_c85b7694a487\" class=\"row_heading level0 row61\" >61</th> \n",
       "        <td id=\"T_00d29ea0_27a5_11e8_850f_c85b7694a487row61_col0\" class=\"data row61 col0\" >trollepierre</td> \n",
       "        <td id=\"T_00d29ea0_27a5_11e8_850f_c85b7694a487row61_col1\" class=\"data row61 col1\" >tdm</td> \n",
       "        <td id=\"T_00d29ea0_27a5_11e8_850f_c85b7694a487row61_col2\" class=\"data row61 col2\" >trollepierre/tdm before 2017-04-13 is vulnerable to a reflected XSS in tdm-master/webhook.php (challenge parameter).</td> \n",
       "        <td id=\"T_00d29ea0_27a5_11e8_850f_c85b7694a487row61_col3\" class=\"data row61 col3\" >('parameter', 'tdm-master/webhook.php', 'trollepierre/tdm')</td> \n",
       "    </tr>    <tr> \n",
       "        <th id=\"T_00d29ea0_27a5_11e8_850f_c85b7694a487\" class=\"row_heading level0 row62\" >62</th> \n",
       "        <td id=\"T_00d29ea0_27a5_11e8_850f_c85b7694a487row62_col0\" class=\"data row62 col0\" >sbpp</td> \n",
       "        <td id=\"T_00d29ea0_27a5_11e8_850f_c85b7694a487row62_col1\" class=\"data row62 col1\" >sourcebans-pp</td> \n",
       "        <td id=\"T_00d29ea0_27a5_11e8_850f_c85b7694a487row62_col2\" class=\"data row62 col2\" >sourcebans-pp (SourceBans++) 1.5.4.7 has XSS in admin.comms.php via the rebanid parameter.</td> \n",
       "        <td id=\"T_00d29ea0_27a5_11e8_850f_c85b7694a487row62_col3\" class=\"data row62 col3\" >('sourcebans-pp', 'SourceBans++', 'rebanid')</td> \n",
       "    </tr>    <tr> \n",
       "        <th id=\"T_00d29ea0_27a5_11e8_850f_c85b7694a487\" class=\"row_heading level0 row63\" >63</th> \n",
       "        <td id=\"T_00d29ea0_27a5_11e8_850f_c85b7694a487row63_col0\" class=\"data row63 col0\" >sandstorm-io</td> \n",
       "        <td id=\"T_00d29ea0_27a5_11e8_850f_c85b7694a487row63_col1\" class=\"data row63 col1\" >capnproto</td> \n",
       "        <td id=\"T_00d29ea0_27a5_11e8_850f_c85b7694a487row63_col2\" class=\"data row63 col2\" >Sandstorm Cap'n Proto before 0.5.3.1 allows remote crashes related to a compiler optimization. A remote attacker can trigger a segfault in a 32-bit libcapnp application because Cap'n Proto relies on pointer arithmetic calculations that overflow. An example compiler with optimization that elides a bounds check in such calculations is Apple LLVM version 8.1.0 (clang-802.0.41). The attack vector is a crafted far pointer within a message.</td> \n",
       "        <td id=\"T_00d29ea0_27a5_11e8_850f_c85b7694a487row63_col3\" class=\"data row63 col3\" >('Proto', 'allows', 'application')</td> \n",
       "    </tr>    <tr> \n",
       "        <th id=\"T_00d29ea0_27a5_11e8_850f_c85b7694a487\" class=\"row_heading level0 row64\" >64</th> \n",
       "        <td id=\"T_00d29ea0_27a5_11e8_850f_c85b7694a487row64_col0\" class=\"data row64 col0\" >e107inc</td> \n",
       "        <td id=\"T_00d29ea0_27a5_11e8_850f_c85b7694a487row64_col1\" class=\"data row64 col1\" >e107</td> \n",
       "        <td id=\"T_00d29ea0_27a5_11e8_850f_c85b7694a487row64_col2\" class=\"data row64 col2\" >e107 2.1.4 is vulnerable to cross-site request forgery in plugin-installing, meta-changing, and settings-changing. A malicious web page can use forged requests to make e107 download and install a plug-in provided by the attacker.</td> \n",
       "        <td id=\"T_00d29ea0_27a5_11e8_850f_c85b7694a487row64_col3\" class=\"data row64 col3\" >('e107', 'download', 'requests')</td> \n",
       "    </tr>    <tr> \n",
       "        <th id=\"T_00d29ea0_27a5_11e8_850f_c85b7694a487\" class=\"row_heading level0 row65\" >65</th> \n",
       "        <td id=\"T_00d29ea0_27a5_11e8_850f_c85b7694a487row65_col0\" class=\"data row65 col0\" >qemu</td> \n",
       "        <td id=\"T_00d29ea0_27a5_11e8_850f_c85b7694a487row65_col1\" class=\"data row65 col1\" >qemu</td> \n",
       "        <td id=\"T_00d29ea0_27a5_11e8_850f_c85b7694a487row65_col2\" class=\"data row65 col2\" >** DISPUTED ** The disas_insn function in target/i386/translate.c in QEMU before 2.9.0, when TCG mode without hardware acceleration is used, does not limit the instruction size, which allows local users to gain privileges by creating a modified basic block that injects code into a setuid program, as demonstrated by procmail. NOTE: the vendor has stated \"this bug does not violate any security guarantees QEMU makes.\"</td> \n",
       "        <td id=\"T_00d29ea0_27a5_11e8_850f_c85b7694a487row65_col3\" class=\"data row65 col3\" >('QEMU', 'QEMU', 'DISPUTED')</td> \n",
       "    </tr>    <tr> \n",
       "        <th id=\"T_00d29ea0_27a5_11e8_850f_c85b7694a487\" class=\"row_heading level0 row66\" >66</th> \n",
       "        <td id=\"T_00d29ea0_27a5_11e8_850f_c85b7694a487row66_col0\" class=\"data row66 col0\" >EasyScreenCast</td> \n",
       "        <td id=\"T_00d29ea0_27a5_11e8_850f_c85b7694a487row66_col1\" class=\"data row66 col1\" >EasyScreenCast</td> \n",
       "        <td id=\"T_00d29ea0_27a5_11e8_850f_c85b7694a487row66_col2\" class=\"data row66 col2\" >gnome-shell 3.22 through 3.24.1 mishandles extensions that fail to reload, which can lead to leaving extensions enabled in the lock screen. With these extensions, a bystander could launch applications (but not interact with them), see information from the extensions (e.g., what applications you have opened or what music you were playing), or even execute arbitrary commands. It all depends on what extensions a user has enabled. The problem is caused by lack of exception handling in js/ui/extensionSystem.js.</td> \n",
       "        <td id=\"T_00d29ea0_27a5_11e8_850f_c85b7694a487row66_col3\" class=\"data row66 col3\" >('gnome-shell', 'music', 'mishandles')</td> \n",
       "    </tr>    <tr> \n",
       "        <th id=\"T_00d29ea0_27a5_11e8_850f_c85b7694a487\" class=\"row_heading level0 row67\" >67</th> \n",
       "        <td id=\"T_00d29ea0_27a5_11e8_850f_c85b7694a487row67_col0\" class=\"data row67 col0\" >RIOT-OS</td> \n",
       "        <td id=\"T_00d29ea0_27a5_11e8_850f_c85b7694a487row67_col1\" class=\"data row67 col1\" >RIOT</td> \n",
       "        <td id=\"T_00d29ea0_27a5_11e8_850f_c85b7694a487row67_col2\" class=\"data row67 col2\" >Stack-based buffer overflow in the ipv6_addr_from_str function in sys/net/network_layer/ipv6/addr/ipv6_addr_from_str.c in RIOT prior to 2017-04-25 allows local attackers, and potentially remote attackers, to cause a denial of service or possibly have unspecified other impact via a malformed IPv6 address.</td> \n",
       "        <td id=\"T_00d29ea0_27a5_11e8_850f_c85b7694a487row67_col3\" class=\"data row67 col3\" >('RIOT', 'function', 'IPv6')</td> \n",
       "    </tr>    <tr> \n",
       "        <th id=\"T_00d29ea0_27a5_11e8_850f_c85b7694a487\" class=\"row_heading level0 row68\" >68</th> \n",
       "        <td id=\"T_00d29ea0_27a5_11e8_850f_c85b7694a487row68_col0\" class=\"data row68 col0\" >Kozea</td> \n",
       "        <td id=\"T_00d29ea0_27a5_11e8_850f_c85b7694a487row68_col1\" class=\"data row68 col1\" >Radicale</td> \n",
       "        <td id=\"T_00d29ea0_27a5_11e8_850f_c85b7694a487row68_col2\" class=\"data row68 col2\" >Radicale before 1.1.2 and 2.x before 2.0.0rc2 is prone to timing oracles and simple brute-force attacks when using the htpasswd authentication method.</td> \n",
       "        <td id=\"T_00d29ea0_27a5_11e8_850f_c85b7694a487row68_col3\" class=\"data row68 col3\" >('Radicale', 'brute-force', 'oracles')</td> \n",
       "    </tr>    <tr> \n",
       "        <th id=\"T_00d29ea0_27a5_11e8_850f_c85b7694a487\" class=\"row_heading level0 row69\" >69</th> \n",
       "        <td id=\"T_00d29ea0_27a5_11e8_850f_c85b7694a487row69_col0\" class=\"data row69 col0\" >Admidio</td> \n",
       "        <td id=\"T_00d29ea0_27a5_11e8_850f_c85b7694a487row69_col1\" class=\"data row69 col1\" >admidio</td> \n",
       "        <td id=\"T_00d29ea0_27a5_11e8_850f_c85b7694a487row69_col2\" class=\"data row69 col2\" >admidio 3.2.8 has CSRF in adm_program/modules/members/members_function.php with an impact of deleting arbitrary user accounts.</td> \n",
       "        <td id=\"T_00d29ea0_27a5_11e8_850f_c85b7694a487row69_col3\" class=\"data row69 col3\" >('admidio', 'adm_program/modules/members/members_function.php', 'user')</td> \n",
       "    </tr>    <tr> \n",
       "        <th id=\"T_00d29ea0_27a5_11e8_850f_c85b7694a487\" class=\"row_heading level0 row70\" >70</th> \n",
       "        <td id=\"T_00d29ea0_27a5_11e8_850f_c85b7694a487row70_col0\" class=\"data row70 col0\" >ParsingTeam</td> \n",
       "        <td id=\"T_00d29ea0_27a5_11e8_850f_c85b7694a487row70_col1\" class=\"data row70 col1\" >ppsx-file-generator</td> \n",
       "        <td id=\"T_00d29ea0_27a5_11e8_850f_c85b7694a487row70_col2\" class=\"data row70 col2\" >Microsoft Office allows a remote code execution vulnerability due to the way that it handles objects in memory, aka \"Microsoft Office Remote Code Execution Vulnerability\". This CVE ID is unique from CVE-2017-0243.</td> \n",
       "        <td id=\"T_00d29ea0_27a5_11e8_850f_c85b7694a487row70_col3\" class=\"data row70 col3\" >('Office', 'Microsoft', 'Office')</td> \n",
       "    </tr>    <tr> \n",
       "        <th id=\"T_00d29ea0_27a5_11e8_850f_c85b7694a487\" class=\"row_heading level0 row71\" >71</th> \n",
       "        <td id=\"T_00d29ea0_27a5_11e8_850f_c85b7694a487row71_col0\" class=\"data row71 col0\" >bhdresh</td> \n",
       "        <td id=\"T_00d29ea0_27a5_11e8_850f_c85b7694a487row71_col1\" class=\"data row71 col1\" >CVE-2017-8759</td> \n",
       "        <td id=\"T_00d29ea0_27a5_11e8_850f_c85b7694a487row71_col2\" class=\"data row71 col2\" >Microsoft .NET Framework 2.0, 3.5, 3.5.1, 4.5.2, 4.6, 4.6.1, 4.6.2 and 4.7 allow an attacker to execute code remotely via a malicious document or application, aka \".NET Framework Remote Code Execution Vulnerability.\"</td> \n",
       "        <td id=\"T_00d29ea0_27a5_11e8_850f_c85b7694a487row71_col3\" class=\"data row71 col3\" >('Framework', 'Microsoft', '.NET')</td> \n",
       "    </tr>    <tr> \n",
       "        <th id=\"T_00d29ea0_27a5_11e8_850f_c85b7694a487\" class=\"row_heading level0 row72\" >72</th> \n",
       "        <td id=\"T_00d29ea0_27a5_11e8_850f_c85b7694a487row72_col0\" class=\"data row72 col0\" >irods</td> \n",
       "        <td id=\"T_00d29ea0_27a5_11e8_850f_c85b7694a487row72_col1\" class=\"data row72 col1\" >irods</td> \n",
       "        <td id=\"T_00d29ea0_27a5_11e8_850f_c85b7694a487row72_col2\" class=\"data row72 col2\" >Untrusted input execution via igetwild in all iRODS versions before 4.1.11 and 4.2.1 allows other iRODS users (potentially anonymous) to execute remote shell commands via iRODS virtual pathnames. To exploit this vulnerability, a virtual iRODS pathname that includes a semicolon would be retrieved via igetwild. Because igetwild is a Bash script, the part of the pathname following the semicolon would be executed in the user's shell.</td> \n",
       "        <td id=\"T_00d29ea0_27a5_11e8_850f_c85b7694a487row72_col3\" class=\"data row72 col3\" >('iRODS', 'pathnames', 'users')</td> \n",
       "    </tr>    <tr> \n",
       "        <th id=\"T_00d29ea0_27a5_11e8_850f_c85b7694a487\" class=\"row_heading level0 row73\" >73</th> \n",
       "        <td id=\"T_00d29ea0_27a5_11e8_850f_c85b7694a487row73_col0\" class=\"data row73 col0\" >stoth68000</td> \n",
       "        <td id=\"T_00d29ea0_27a5_11e8_850f_c85b7694a487row73_col1\" class=\"data row73 col1\" >media-tree</td> \n",
       "        <td id=\"T_00d29ea0_27a5_11e8_850f_c85b7694a487row73_col2\" class=\"data row73 col2\" >The saa7164_bus_get function in drivers/media/pci/saa7164/saa7164-bus.c in the Linux kernel through 4.11.5 allows local users to cause a denial of service (out-of-bounds array access) or possibly have unspecified other impact by changing a certain sequence-number value, aka a \"double fetch\" vulnerability.</td> \n",
       "        <td id=\"T_00d29ea0_27a5_11e8_850f_c85b7694a487row73_col3\" class=\"data row73 col3\" >('kernel', 'function', 'value')</td> \n",
       "    </tr>    <tr> \n",
       "        <th id=\"T_00d29ea0_27a5_11e8_850f_c85b7694a487\" class=\"row_heading level0 row74\" >74</th> \n",
       "        <td id=\"T_00d29ea0_27a5_11e8_850f_c85b7694a487row74_col0\" class=\"data row74 col0\" >s3131212</td> \n",
       "        <td id=\"T_00d29ea0_27a5_11e8_850f_c85b7694a487row74_col1\" class=\"data row74 col1\" >allendisk</td> \n",
       "        <td id=\"T_00d29ea0_27a5_11e8_850f_c85b7694a487row74_col2\" class=\"data row74 col2\" >Allen Disk 1.6 has XSS in the id parameter to downfile.php.</td> \n",
       "        <td id=\"T_00d29ea0_27a5_11e8_850f_c85b7694a487row74_col3\" class=\"data row74 col3\" >('Disk', 'Allen', 'parameter')</td> \n",
       "    </tr>    <tr> \n",
       "        <th id=\"T_00d29ea0_27a5_11e8_850f_c85b7694a487\" class=\"row_heading level0 row75\" >75</th> \n",
       "        <td id=\"T_00d29ea0_27a5_11e8_850f_c85b7694a487row75_col0\" class=\"data row75 col0\" >s3131212</td> \n",
       "        <td id=\"T_00d29ea0_27a5_11e8_850f_c85b7694a487row75_col1\" class=\"data row75 col1\" >allendisk</td> \n",
       "        <td id=\"T_00d29ea0_27a5_11e8_850f_c85b7694a487row75_col2\" class=\"data row75 col2\" >Allen Disk 1.6 has CSRF in setpass.php with an impact of changing a password.</td> \n",
       "        <td id=\"T_00d29ea0_27a5_11e8_850f_c85b7694a487row75_col3\" class=\"data row75 col3\" >('Disk', 'Allen', 'setpass.php')</td> \n",
       "    </tr>    <tr> \n",
       "        <th id=\"T_00d29ea0_27a5_11e8_850f_c85b7694a487\" class=\"row_heading level0 row76\" >76</th> \n",
       "        <td id=\"T_00d29ea0_27a5_11e8_850f_c85b7694a487row76_col0\" class=\"data row76 col0\" >s3131212</td> \n",
       "        <td id=\"T_00d29ea0_27a5_11e8_850f_c85b7694a487row76_col1\" class=\"data row76 col1\" >allendisk</td> \n",
       "        <td id=\"T_00d29ea0_27a5_11e8_850f_c85b7694a487row76_col2\" class=\"data row76 col2\" >reg.php in Allen Disk 1.6 doesn't check if isset($_SESSION['captcha']['code'])==1, which makes it possible to bypass the CAPTCHA via an empty $_POST['captcha'].</td> \n",
       "        <td id=\"T_00d29ea0_27a5_11e8_850f_c85b7694a487row76_col3\" class=\"data row76 col3\" >('Disk', 'Allen', 'reg.php')</td> \n",
       "    </tr>    <tr> \n",
       "        <th id=\"T_00d29ea0_27a5_11e8_850f_c85b7694a487\" class=\"row_heading level0 row77\" >77</th> \n",
       "        <td id=\"T_00d29ea0_27a5_11e8_850f_c85b7694a487row77_col0\" class=\"data row77 col0\" >s3131212</td> \n",
       "        <td id=\"T_00d29ea0_27a5_11e8_850f_c85b7694a487row77_col1\" class=\"data row77 col1\" >allendisk</td> \n",
       "        <td id=\"T_00d29ea0_27a5_11e8_850f_c85b7694a487row77_col2\" class=\"data row77 col2\" >/admin/loginc.php in Allen Disk 1.6 doesn't check if isset($_SESSION['captcha']['code']) == 1, which leads to CAPTCHA bypass by emptying $_POST['captcha'].</td> \n",
       "        <td id=\"T_00d29ea0_27a5_11e8_850f_c85b7694a487row77_col3\" class=\"data row77 col3\" >('Disk', 'bypass', \"'captcha\")</td> \n",
       "    </tr>    <tr> \n",
       "        <th id=\"T_00d29ea0_27a5_11e8_850f_c85b7694a487\" class=\"row_heading level0 row78\" >78</th> \n",
       "        <td id=\"T_00d29ea0_27a5_11e8_850f_c85b7694a487row78_col0\" class=\"data row78 col0\" >s3131212</td> \n",
       "        <td id=\"T_00d29ea0_27a5_11e8_850f_c85b7694a487row78_col1\" class=\"data row78 col1\" >allendisk</td> \n",
       "        <td id=\"T_00d29ea0_27a5_11e8_850f_c85b7694a487row78_col2\" class=\"data row78 col2\" >Cross-site scripting (XSS) vulnerability in Allen Disk 1.6 allows remote authenticated users to inject arbitrary web script or HTML persistently by uploading a crafted HTML file. The attack vector is the content of this file, and the filename must be specified in the PATH_INFO to readfile.php.</td> \n",
       "        <td id=\"T_00d29ea0_27a5_11e8_850f_c85b7694a487row78_col3\" class=\"data row78 col3\" >('Disk', 'Allen', 'vulnerability')</td> \n",
       "    </tr>    <tr> \n",
       "        <th id=\"T_00d29ea0_27a5_11e8_850f_c85b7694a487\" class=\"row_heading level0 row79\" >79</th> \n",
       "        <td id=\"T_00d29ea0_27a5_11e8_850f_c85b7694a487row79_col0\" class=\"data row79 col0\" >s3131212</td> \n",
       "        <td id=\"T_00d29ea0_27a5_11e8_850f_c85b7694a487row79_col1\" class=\"data row79 col1\" >allendisk</td> \n",
       "        <td id=\"T_00d29ea0_27a5_11e8_850f_c85b7694a487row79_col2\" class=\"data row79 col2\" >SSRF vulnerability in remotedownload.php in Allen Disk 1.6 allows remote authenticated users to conduct port scans and access intranet servers via a crafted file parameter.</td> \n",
       "        <td id=\"T_00d29ea0_27a5_11e8_850f_c85b7694a487row79_col3\" class=\"data row79 col3\" >('Disk', 'Allen', 'remotedownload.php')</td> \n",
       "    </tr>    <tr> \n",
       "        <th id=\"T_00d29ea0_27a5_11e8_850f_c85b7694a487\" class=\"row_heading level0 row80\" >80</th> \n",
       "        <td id=\"T_00d29ea0_27a5_11e8_850f_c85b7694a487row80_col0\" class=\"data row80 col0\" >DeuxHuitHuit</td> \n",
       "        <td id=\"T_00d29ea0_27a5_11e8_850f_c85b7694a487row80_col1\" class=\"data row80 col1\" >symphony-2</td> \n",
       "        <td id=\"T_00d29ea0_27a5_11e8_850f_c85b7694a487row80_col2\" class=\"data row80 col2\" >Symphony 2 2.6.11 has XSS in the meta[navigation_group] parameter to content/content.blueprintssections.php.</td> \n",
       "        <td id=\"T_00d29ea0_27a5_11e8_850f_c85b7694a487row80_col3\" class=\"data row80 col3\" >('Symphony', 'parameter', 'navigation_group')</td> \n",
       "    </tr>    <tr> \n",
       "        <th id=\"T_00d29ea0_27a5_11e8_850f_c85b7694a487\" class=\"row_heading level0 row81\" >81</th> \n",
       "        <td id=\"T_00d29ea0_27a5_11e8_850f_c85b7694a487row81_col0\" class=\"data row81 col0\" >mailcow</td> \n",
       "        <td id=\"T_00d29ea0_27a5_11e8_850f_c85b7694a487row81_col1\" class=\"data row81 col1\" >mailcow-dockerized</td> \n",
       "        <td id=\"T_00d29ea0_27a5_11e8_850f_c85b7694a487row81_col2\" class=\"data row81 col2\" >mailcow 0.14, as used in \"mailcow: dockerized\" and other products, has CSRF.</td> \n",
       "        <td id=\"T_00d29ea0_27a5_11e8_850f_c85b7694a487row81_col3\" class=\"data row81 col3\" >('mailcow', 'mailcow', 'products')</td> \n",
       "    </tr>    <tr> \n",
       "        <th id=\"T_00d29ea0_27a5_11e8_850f_c85b7694a487\" class=\"row_heading level0 row82\" >82</th> \n",
       "        <td id=\"T_00d29ea0_27a5_11e8_850f_c85b7694a487row82_col0\" class=\"data row82 col0\" >simpleinvoices</td> \n",
       "        <td id=\"T_00d29ea0_27a5_11e8_850f_c85b7694a487row82_col1\" class=\"data row82 col1\" >simpleinvoices</td> \n",
       "        <td id=\"T_00d29ea0_27a5_11e8_850f_c85b7694a487row82_col2\" class=\"data row82 col2\" >Multiple cross-site request forgery (CSRF) vulnerabilities in Simple Invoices 2013.1.beta.8 allow remote attackers to hijack the authentication of admins for requests that can (1) create new administrator user accounts and take over the entire application, (2) create regular user accounts, or (3) change configuration parameters such as tax rates and the enable/disable status of PayPal payment modules.</td> \n",
       "        <td id=\"T_00d29ea0_27a5_11e8_850f_c85b7694a487row82_col3\" class=\"data row82 col3\" >('Invoices', 'application', 'user')</td> \n",
       "    </tr>    <tr> \n",
       "        <th id=\"T_00d29ea0_27a5_11e8_850f_c85b7694a487\" class=\"row_heading level0 row83\" >83</th> \n",
       "        <td id=\"T_00d29ea0_27a5_11e8_850f_c85b7694a487row83_col0\" class=\"data row83 col0\" >victorwon</td> \n",
       "        <td id=\"T_00d29ea0_27a5_11e8_850f_c85b7694a487row83_col1\" class=\"data row83 col1\" >calendarxp</td> \n",
       "        <td id=\"T_00d29ea0_27a5_11e8_850f_c85b7694a487row83_col2\" class=\"data row83 col2\" >Two CalendarXP products have XSS in common parts of HTML files. CalendarXP FlatCalendarXP through 9.9.290 has XSS in iflateng.htm and nflateng.htm. CalendarXP PopCalendarXP through 9.8.308 has XSS in ipopeng.htm and npopeng.htm.</td> \n",
       "        <td id=\"T_00d29ea0_27a5_11e8_850f_c85b7694a487row83_col3\" class=\"data row83 col3\" >('FlatCalendarXP', 'PopCalendarXP', 'CalendarXP')</td> \n",
       "    </tr>    <tr> \n",
       "        <th id=\"T_00d29ea0_27a5_11e8_850f_c85b7694a487\" class=\"row_heading level0 row84\" >84</th> \n",
       "        <td id=\"T_00d29ea0_27a5_11e8_850f_c85b7694a487row84_col0\" class=\"data row84 col0\" >kkos</td> \n",
       "        <td id=\"T_00d29ea0_27a5_11e8_850f_c85b7694a487row84_col1\" class=\"data row84 col1\" >oniguruma</td> \n",
       "        <td id=\"T_00d29ea0_27a5_11e8_850f_c85b7694a487row84_col2\" class=\"data row84 col2\" >An issue was discovered in Oniguruma 6.2.0, as used in Oniguruma-mod in Ruby through 2.4.1 and mbstring in PHP through 7.1.5. A stack out-of-bounds read occurs in match_at() during regular expression searching. A logical error involving order of validation and access in match_at() could result in an out-of-bounds read from a stack buffer.</td> \n",
       "        <td id=\"T_00d29ea0_27a5_11e8_850f_c85b7694a487row84_col3\" class=\"data row84 col3\" >('Oniguruma', 'Ruby', 'PHP')</td> \n",
       "    </tr>    <tr> \n",
       "        <th id=\"T_00d29ea0_27a5_11e8_850f_c85b7694a487\" class=\"row_heading level0 row85\" >85</th> \n",
       "        <td id=\"T_00d29ea0_27a5_11e8_850f_c85b7694a487row85_col0\" class=\"data row85 col0\" >kkos</td> \n",
       "        <td id=\"T_00d29ea0_27a5_11e8_850f_c85b7694a487row85_col1\" class=\"data row85 col1\" >oniguruma</td> \n",
       "        <td id=\"T_00d29ea0_27a5_11e8_850f_c85b7694a487row85_col2\" class=\"data row85 col2\" >An issue was discovered in Oniguruma 6.2.0, as used in Oniguruma-mod in Ruby through 2.4.1 and mbstring in PHP through 7.1.5. A stack out-of-bounds write in onigenc_unicode_get_case_fold_codes_by_str() occurs during regular expression compilation. Code point 0xFFFFFFFF is not properly handled in unicode_unfold_key(). A malformed regular expression could result in 4 bytes being written off the end of a stack buffer of expand_case_fold_string() during the call to onigenc_unicode_get_case_fold_codes_by_str(), a typical stack buffer overflow.</td> \n",
       "        <td id=\"T_00d29ea0_27a5_11e8_850f_c85b7694a487row85_col3\" class=\"data row85 col3\" >('Oniguruma', 'Ruby', 'PHP')</td> \n",
       "    </tr>    <tr> \n",
       "        <th id=\"T_00d29ea0_27a5_11e8_850f_c85b7694a487\" class=\"row_heading level0 row86\" >86</th> \n",
       "        <td id=\"T_00d29ea0_27a5_11e8_850f_c85b7694a487row86_col0\" class=\"data row86 col0\" >kkos</td> \n",
       "        <td id=\"T_00d29ea0_27a5_11e8_850f_c85b7694a487row86_col1\" class=\"data row86 col1\" >oniguruma</td> \n",
       "        <td id=\"T_00d29ea0_27a5_11e8_850f_c85b7694a487row86_col2\" class=\"data row86 col2\" >An issue was discovered in Oniguruma 6.2.0, as used in Oniguruma-mod in Ruby through 2.4.1 and mbstring in PHP through 7.1.5. A heap out-of-bounds write or read occurs in next_state_val() during regular expression compilation. Octal numbers larger than 0xff are not handled correctly in fetch_token() and fetch_token_in_cc(). A malformed regular expression containing an octal number in the form of '\\700' would produce an invalid code point value larger than 0xff in next_state_val(), resulting in an out-of-bounds write memory corruption.</td> \n",
       "        <td id=\"T_00d29ea0_27a5_11e8_850f_c85b7694a487row86_col3\" class=\"data row86 col3\" >('Oniguruma', 'Ruby', 'PHP')</td> \n",
       "    </tr>    <tr> \n",
       "        <th id=\"T_00d29ea0_27a5_11e8_850f_c85b7694a487\" class=\"row_heading level0 row87\" >87</th> \n",
       "        <td id=\"T_00d29ea0_27a5_11e8_850f_c85b7694a487row87_col0\" class=\"data row87 col0\" >kkos</td> \n",
       "        <td id=\"T_00d29ea0_27a5_11e8_850f_c85b7694a487row87_col1\" class=\"data row87 col1\" >oniguruma</td> \n",
       "        <td id=\"T_00d29ea0_27a5_11e8_850f_c85b7694a487row87_col2\" class=\"data row87 col2\" >An issue was discovered in Oniguruma 6.2.0, as used in Oniguruma-mod in Ruby through 2.4.1 and mbstring in PHP through 7.1.5. A stack out-of-bounds read occurs in mbc_enc_len() during regular expression searching. Invalid handling of reg->dmin in forward_search_range() could result in an invalid pointer dereference, as an out-of-bounds read from a stack buffer.</td> \n",
       "        <td id=\"T_00d29ea0_27a5_11e8_850f_c85b7694a487row87_col3\" class=\"data row87 col3\" >('Oniguruma', 'Ruby', 'PHP')</td> \n",
       "    </tr>    <tr> \n",
       "        <th id=\"T_00d29ea0_27a5_11e8_850f_c85b7694a487\" class=\"row_heading level0 row88\" >88</th> \n",
       "        <td id=\"T_00d29ea0_27a5_11e8_850f_c85b7694a487row88_col0\" class=\"data row88 col0\" >kkos</td> \n",
       "        <td id=\"T_00d29ea0_27a5_11e8_850f_c85b7694a487row88_col1\" class=\"data row88 col1\" >oniguruma</td> \n",
       "        <td id=\"T_00d29ea0_27a5_11e8_850f_c85b7694a487row88_col2\" class=\"data row88 col2\" >An issue was discovered in Oniguruma 6.2.0, as used in Oniguruma-mod in Ruby through 2.4.1 and mbstring in PHP through 7.1.5. A heap out-of-bounds write occurs in bitset_set_range() during regular expression compilation due to an uninitialized variable from an incorrect state transition. An incorrect state transition in parse_char_class() could create an execution path that leaves a critical local variable uninitialized until it's used as an index, resulting in an out-of-bounds write memory corruption.</td> \n",
       "        <td id=\"T_00d29ea0_27a5_11e8_850f_c85b7694a487row88_col3\" class=\"data row88 col3\" >('Oniguruma', 'Ruby', 'PHP')</td> \n",
       "    </tr>    <tr> \n",
       "        <th id=\"T_00d29ea0_27a5_11e8_850f_c85b7694a487\" class=\"row_heading level0 row89\" >89</th> \n",
       "        <td id=\"T_00d29ea0_27a5_11e8_850f_c85b7694a487row89_col0\" class=\"data row89 col0\" >kkos</td> \n",
       "        <td id=\"T_00d29ea0_27a5_11e8_850f_c85b7694a487row89_col1\" class=\"data row89 col1\" >oniguruma</td> \n",
       "        <td id=\"T_00d29ea0_27a5_11e8_850f_c85b7694a487row89_col2\" class=\"data row89 col2\" >An issue was discovered in Oniguruma 6.2.0, as used in Oniguruma-mod in Ruby through 2.4.1 and mbstring in PHP through 7.1.5. A SIGSEGV occurs in left_adjust_char_head() during regular expression compilation. Invalid handling of reg->dmax in forward_search_range() could result in an invalid pointer dereference, normally as an immediate denial-of-service condition.</td> \n",
       "        <td id=\"T_00d29ea0_27a5_11e8_850f_c85b7694a487row89_col3\" class=\"data row89 col3\" >('Oniguruma', 'Ruby', 'PHP')</td> \n",
       "    </tr>    <tr> \n",
       "        <th id=\"T_00d29ea0_27a5_11e8_850f_c85b7694a487\" class=\"row_heading level0 row90\" >90</th> \n",
       "        <td id=\"T_00d29ea0_27a5_11e8_850f_c85b7694a487row90_col0\" class=\"data row90 col0\" >tikiorg</td> \n",
       "        <td id=\"T_00d29ea0_27a5_11e8_850f_c85b7694a487row90_col1\" class=\"data row90 col1\" >tiki</td> \n",
       "        <td id=\"T_00d29ea0_27a5_11e8_850f_c85b7694a487row90_col2\" class=\"data row90 col2\" >lib/core/TikiFilter/PreventXss.php in Tiki Wiki CMS Groupware 16.2 allows remote attackers to bypass the XSS filter via padded zero characters, as demonstrated by an attack on tiki-batch_send_newsletter.php.</td> \n",
       "        <td id=\"T_00d29ea0_27a5_11e8_850f_c85b7694a487row90_col3\" class=\"data row90 col3\" >('Groupware', 'Tiki', 'Wiki')</td> \n",
       "    </tr>    <tr> \n",
       "        <th id=\"T_00d29ea0_27a5_11e8_850f_c85b7694a487\" class=\"row_heading level0 row91\" >91</th> \n",
       "        <td id=\"T_00d29ea0_27a5_11e8_850f_c85b7694a487row91_col0\" class=\"data row91 col0\" >E2OpenPlugins</td> \n",
       "        <td id=\"T_00d29ea0_27a5_11e8_850f_c85b7694a487row91_col1\" class=\"data row91 col1\" >e2openplugin-OpenWebif</td> \n",
       "        <td id=\"T_00d29ea0_27a5_11e8_850f_c85b7694a487row91_col2\" class=\"data row91 col2\" >OpenWebif 1.2.5 allows remote code execution via a URL to the CallOPKG function in the IpkgController class in plugin/controllers/ipkg.py, when the URL refers to an attacker-controlled web site with a Trojan horse package. This has security implications in cases where untrusted users can trigger CallOPKG calls, and these users can enter an arbitrary URL in an input field, even though that input field was only intended for a package name. This threat model may be relevant in the latest versions of third-party products that bundle OpenWebif, i.e., set-top box products. The issue of Trojan horse packages does NOT have security implications in cases where the attacker has full OpenWebif access.</td> \n",
       "        <td id=\"T_00d29ea0_27a5_11e8_850f_c85b7694a487row91_col3\" class=\"data row91 col3\" >('OpenWebif', 'OpenWebif', 'OpenWebif')</td> \n",
       "    </tr>    <tr> \n",
       "        <th id=\"T_00d29ea0_27a5_11e8_850f_c85b7694a487\" class=\"row_heading level0 row92\" >92</th> \n",
       "        <td id=\"T_00d29ea0_27a5_11e8_850f_c85b7694a487row92_col0\" class=\"data row92 col0\" >E2OpenPlugins</td> \n",
       "        <td id=\"T_00d29ea0_27a5_11e8_850f_c85b7694a487row92_col1\" class=\"data row92 col1\" >e2openplugin-OpenWebif</td> \n",
       "        <td id=\"T_00d29ea0_27a5_11e8_850f_c85b7694a487row92_col2\" class=\"data row92 col2\" >An issue was discovered in the OpenWebif plugin through 1.2.4 for E2 open devices. The saveConfig function of \"plugin/controllers/models/config.py\" performs an eval() call on the contents of the \"key\" HTTP GET parameter. This allows an unauthenticated remote attacker to execute arbitrary Python code or OS commands via api/saveconfig.</td> \n",
       "        <td id=\"T_00d29ea0_27a5_11e8_850f_c85b7694a487row92_col3\" class=\"data row92 col3\" >('plugin', 'OpenWebif', 'code')</td> \n",
       "    </tr>    <tr> \n",
       "        <th id=\"T_00d29ea0_27a5_11e8_850f_c85b7694a487\" class=\"row_heading level0 row93\" >93</th> \n",
       "        <td id=\"T_00d29ea0_27a5_11e8_850f_c85b7694a487row93_col0\" class=\"data row93 col0\" >BlackCatDevelopment</td> \n",
       "        <td id=\"T_00d29ea0_27a5_11e8_850f_c85b7694a487row93_col1\" class=\"data row93 col1\" >BlackCatCMS</td> \n",
       "        <td id=\"T_00d29ea0_27a5_11e8_850f_c85b7694a487row93_col2\" class=\"data row93 col2\" >Cross-site scripting (XSS) vulnerability in Blackcat CMS 1.2 allows remote authenticated users to inject arbitrary web script or HTML via the map_language parameter to backend/pages/lang_settings.php.</td> \n",
       "        <td id=\"T_00d29ea0_27a5_11e8_850f_c85b7694a487row93_col3\" class=\"data row93 col3\" >('CMS', 'Blackcat', 'vulnerability')</td> \n",
       "    </tr>    <tr> \n",
       "        <th id=\"T_00d29ea0_27a5_11e8_850f_c85b7694a487\" class=\"row_heading level0 row94\" >94</th> \n",
       "        <td id=\"T_00d29ea0_27a5_11e8_850f_c85b7694a487row94_col0\" class=\"data row94 col0\" >flatpak</td> \n",
       "        <td id=\"T_00d29ea0_27a5_11e8_850f_c85b7694a487row94_col1\" class=\"data row94 col1\" >flatpak</td> \n",
       "        <td id=\"T_00d29ea0_27a5_11e8_850f_c85b7694a487row94_col2\" class=\"data row94 col2\" >In Flatpak before 0.8.7, a third-party app repository could include malicious apps that contain files with inappropriate permissions, for example setuid or world-writable. The files are deployed with those permissions, which would let a local attacker run the setuid executable or write to the world-writable location. In the case of the \"system helper\" component, files deployed as part of the app are owned by root, so in the worst case they could be setuid root.</td> \n",
       "        <td id=\"T_00d29ea0_27a5_11e8_850f_c85b7694a487row94_col3\" class=\"data row94 col3\" >('Flatpak', 'case', 'permissions')</td> \n",
       "    </tr>    <tr> \n",
       "        <th id=\"T_00d29ea0_27a5_11e8_850f_c85b7694a487\" class=\"row_heading level0 row95\" >95</th> \n",
       "        <td id=\"T_00d29ea0_27a5_11e8_850f_c85b7694a487row95_col0\" class=\"data row95 col0\" >NancyFx</td> \n",
       "        <td id=\"T_00d29ea0_27a5_11e8_850f_c85b7694a487row95_col1\" class=\"data row95 col1\" >Nancy</td> \n",
       "        <td id=\"T_00d29ea0_27a5_11e8_850f_c85b7694a487row95_col2\" class=\"data row95 col2\" >Csrf.cs in NancyFX Nancy before 1.4.4 and 2.x before 2.0-dangermouse has Remote Code Execution via Deserialization of JSON data in a CSRF Cookie.</td> \n",
       "        <td id=\"T_00d29ea0_27a5_11e8_850f_c85b7694a487row95_col3\" class=\"data row95 col3\" >('Nancy', 'NancyFX', 'Csrf.cs')</td> \n",
       "    </tr>    <tr> \n",
       "        <th id=\"T_00d29ea0_27a5_11e8_850f_c85b7694a487\" class=\"row_heading level0 row96\" >96</th> \n",
       "        <td id=\"T_00d29ea0_27a5_11e8_850f_c85b7694a487row96_col0\" class=\"data row96 col0\" >apache</td> \n",
       "        <td id=\"T_00d29ea0_27a5_11e8_850f_c85b7694a487row96_col1\" class=\"data row96 col1\" >httpd</td> \n",
       "        <td id=\"T_00d29ea0_27a5_11e8_850f_c85b7694a487row96_col2\" class=\"data row96 col2\" >Apache httpd allows remote attackers to read secret data from process memory if the Limit directive can be set in a user's .htaccess file, or if httpd.conf has certain misconfigurations, aka Optionsbleed. This affects the Apache HTTP Server through 2.2.34 and 2.4.x through 2.4.27. The attacker sends an unauthenticated OPTIONS HTTP request when attempting to read secret data. This is a use-after-free issue and thus secret data is not always sent, and the specific data depends on many factors including configuration. Exploitation with .htaccess can be blocked with a patch to the ap_limit_section function in server/core.c.</td> \n",
       "        <td id=\"T_00d29ea0_27a5_11e8_850f_c85b7694a487row96_col3\" class=\"data row96 col3\" >('Apache', 'data', 'Apache')</td> \n",
       "    </tr>    <tr> \n",
       "        <th id=\"T_00d29ea0_27a5_11e8_850f_c85b7694a487\" class=\"row_heading level0 row97\" >97</th> \n",
       "        <td id=\"T_00d29ea0_27a5_11e8_850f_c85b7694a487row97_col0\" class=\"data row97 col0\" >arvidn</td> \n",
       "        <td id=\"T_00d29ea0_27a5_11e8_850f_c85b7694a487row97_col1\" class=\"data row97 col1\" >libtorrent</td> \n",
       "        <td id=\"T_00d29ea0_27a5_11e8_850f_c85b7694a487row97_col2\" class=\"data row97 col2\" >The bdecode function in bdecode.cpp in libtorrent 1.1.3 allows remote attackers to cause a denial of service (heap-based buffer over-read and application crash) via a crafted file.</td> \n",
       "        <td id=\"T_00d29ea0_27a5_11e8_850f_c85b7694a487row97_col3\" class=\"data row97 col3\" >('function', 'bdecode.cpp', 'buffer')</td> \n",
       "    </tr>    <tr> \n",
       "        <th id=\"T_00d29ea0_27a5_11e8_850f_c85b7694a487\" class=\"row_heading level0 row98\" >98</th> \n",
       "        <td id=\"T_00d29ea0_27a5_11e8_850f_c85b7694a487row98_col0\" class=\"data row98 col0\" >eclipse</td> \n",
       "        <td id=\"T_00d29ea0_27a5_11e8_850f_c85b7694a487row98_col1\" class=\"data row98 col1\" >mosquitto</td> \n",
       "        <td id=\"T_00d29ea0_27a5_11e8_850f_c85b7694a487row98_col2\" class=\"data row98 col2\" >In Mosquitto through 1.4.12, mosquitto.db (aka the persistence file) is world readable, which allows local users to obtain sensitive MQTT topic information.</td> \n",
       "        <td id=\"T_00d29ea0_27a5_11e8_850f_c85b7694a487row98_col3\" class=\"data row98 col3\" >('Mosquitto', 'topic', 'file')</td> \n",
       "    </tr>    <tr> \n",
       "        <th id=\"T_00d29ea0_27a5_11e8_850f_c85b7694a487\" class=\"row_heading level0 row99\" >99</th> \n",
       "        <td id=\"T_00d29ea0_27a5_11e8_850f_c85b7694a487row99_col0\" class=\"data row99 col0\" >memcached</td> \n",
       "        <td id=\"T_00d29ea0_27a5_11e8_850f_c85b7694a487row99_col1\" class=\"data row99 col1\" >memcached</td> \n",
       "        <td id=\"T_00d29ea0_27a5_11e8_850f_c85b7694a487row99_col2\" class=\"data row99 col2\" >The try_read_command function in memcached.c in memcached before 1.4.39 allows remote attackers to cause a denial of service (segmentation fault) via a request to add/set a key, which makes a comparison between signed and unsigned int and triggers a heap-based buffer over-read. NOTE: this vulnerability exists because of an incomplete fix for CVE-2016-8705.</td> \n",
       "        <td id=\"T_00d29ea0_27a5_11e8_850f_c85b7694a487row99_col3\" class=\"data row99 col3\" >('function', 'memcached.c', 'int')</td> \n",
       "    </tr></tbody> \n",
       "</table> "
      ],
      "text/plain": [
       "<pandas.io.formats.style.Styler at 0x7f196a586668>"
      ]
     },
     "execution_count": 58,
     "metadata": {},
     "output_type": "execute_result"
    }
   ],
   "source": [
    "df['prediction'] = pred_proj_names\n",
    "df[(df.Java == 0) | (df.JavaScript == 0)][['description', 'prediction']].tail(100).reset_index().style"
   ]
  }
 ],
 "metadata": {
  "kernelspec": {
   "display_name": "Python 3",
   "language": "python",
   "name": "python3"
  },
  "language_info": {
   "codemirror_mode": {
    "name": "ipython",
    "version": 3
   },
   "file_extension": ".py",
   "mimetype": "text/x-python",
   "name": "python",
   "nbconvert_exporter": "python",
   "pygments_lexer": "ipython3",
   "version": "3.6.3"
  }
 },
 "nbformat": 4,
 "nbformat_minor": 2
}
